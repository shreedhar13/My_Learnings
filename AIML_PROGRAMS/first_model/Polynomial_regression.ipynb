{
 "cells": [
  {
   "cell_type": "code",
   "execution_count": 1,
   "id": "394a1d68",
   "metadata": {},
   "outputs": [],
   "source": [
    "import numpy as np\n",
    "import pandas as pd\n",
    "import matplotlib.pyplot as plt"
   ]
  },
  {
   "cell_type": "code",
   "execution_count": 2,
   "id": "4e91c0df",
   "metadata": {},
   "outputs": [
    {
     "data": {
      "text/plain": [
       "Text(0, 0.5, 'y data')"
      ]
     },
     "execution_count": 2,
     "metadata": {},
     "output_type": "execute_result"
    },
    {
     "data": {
      "image/png": "[encoded data removed]",
      "text/plain": [
       "<Figure size 640x480 with 1 Axes>"
      ]
     },
     "metadata": {},
     "output_type": "display_data"
    }
   ],
   "source": [
    "#create own points\n",
    "x=6*np.random.rand(100,1)-3#create random no bn 0 to 1 and return array with dimension 100 row and 1 column\n",
    "y=0.5*x**2+1.5*x+2+np.random.rand(100,1)#quadratic eq\n",
    "plt.scatter(x,y,color='g')\n",
    "plt.xlabel('x data')\n",
    "plt.ylabel('y data')"
   ]
  },
  {
   "cell_type": "code",
   "execution_count": 3,
   "id": "01cf9076",
   "metadata": {},
   "outputs": [],
   "source": [
    "#non linear dataset"
   ]
  },
  {
   "cell_type": "code",
   "execution_count": 4,
   "id": "30ab86d2",
   "metadata": {},
   "outputs": [],
   "source": [
    "from sklearn.model_selection import train_test_split\n",
    "X_train,X_test,y_train,y_test=train_test_split(x,y,test_size=0.2,random_state=1)"
   ]
  },
  {
   "cell_type": "code",
   "execution_count": 5,
   "id": "d4e0907f",
   "metadata": {},
   "outputs": [],
   "source": [
    "#implement simple linear regression\n",
    "from sklearn.linear_model import LinearRegression\n",
    "lr=LinearRegression()"
   ]
  },
  {
   "cell_type": "code",
   "execution_count": 6,
   "id": "f86843f3",
   "metadata": {},
   "outputs": [
    {
     "data": {
      "text/html": [
       "<style>#sk-container-id-1 {color: black;}#sk-container-id-1 pre{padding: 0;}#sk-container-id-1 div.sk-toggleable {background-color: white;}#sk-container-id-1 label.sk-toggleable__label {cursor: pointer;display: block;width: 100%;margin-bottom: 0;padding: 0.3em;box-sizing: border-box;text-align: center;}#sk-container-id-1 label.sk-toggleable__label-arrow:before {content: \"▸\";float: left;margin-right: 0.25em;color: #696969;}#sk-container-id-1 label.sk-toggleable__label-arrow:hover:before {color: black;}#sk-container-id-1 div.sk-estimator:hover label.sk-toggleable__label-arrow:before {color: black;}#sk-container-id-1 div.sk-toggleable__content {max-height: 0;max-width: 0;overflow: hidden;text-align: left;background-color: #f0f8ff;}#sk-container-id-1 div.sk-toggleable__content pre {margin: 0.2em;color: black;border-radius: 0.25em;background-color: #f0f8ff;}#sk-container-id-1 input.sk-toggleable__control:checked~div.sk-toggleable__content {max-height: 200px;max-width: 100%;overflow: auto;}#sk-container-id-1 input.sk-toggleable__control:checked~label.sk-toggleable__label-arrow:before {content: \"▾\";}#sk-container-id-1 div.sk-estimator input.sk-toggleable__control:checked~label.sk-toggleable__label {background-color: #d4ebff;}#sk-container-id-1 div.sk-label input.sk-toggleable__control:checked~label.sk-toggleable__label {background-color: #d4ebff;}#sk-container-id-1 input.sk-hidden--visually {border: 0;clip: rect(1px 1px 1px 1px);clip: rect(1px, 1px, 1px, 1px);height: 1px;margin: -1px;overflow: hidden;padding: 0;position: absolute;width: 1px;}#sk-container-id-1 div.sk-estimator {font-family: monospace;background-color: #f0f8ff;border: 1px dotted black;border-radius: 0.25em;box-sizing: border-box;margin-bottom: 0.5em;}#sk-container-id-1 div.sk-estimator:hover {background-color: #d4ebff;}#sk-container-id-1 div.sk-parallel-item::after {content: \"\";width: 100%;border-bottom: 1px solid gray;flex-grow: 1;}#sk-container-id-1 div.sk-label:hover label.sk-toggleable__label {background-color: #d4ebff;}#sk-container-id-1 div.sk-serial::before {content: \"\";position: absolute;border-left: 1px solid gray;box-sizing: border-box;top: 0;bottom: 0;left: 50%;z-index: 0;}#sk-container-id-1 div.sk-serial {display: flex;flex-direction: column;align-items: center;background-color: white;padding-right: 0.2em;padding-left: 0.2em;position: relative;}#sk-container-id-1 div.sk-item {position: relative;z-index: 1;}#sk-container-id-1 div.sk-parallel {display: flex;align-items: stretch;justify-content: center;background-color: white;position: relative;}#sk-container-id-1 div.sk-item::before, #sk-container-id-1 div.sk-parallel-item::before {content: \"\";position: absolute;border-left: 1px solid gray;box-sizing: border-box;top: 0;bottom: 0;left: 50%;z-index: -1;}#sk-container-id-1 div.sk-parallel-item {display: flex;flex-direction: column;z-index: 1;position: relative;background-color: white;}#sk-container-id-1 div.sk-parallel-item:first-child::after {align-self: flex-end;width: 50%;}#sk-container-id-1 div.sk-parallel-item:last-child::after {align-self: flex-start;width: 50%;}#sk-container-id-1 div.sk-parallel-item:only-child::after {width: 0;}#sk-container-id-1 div.sk-dashed-wrapped {border: 1px dashed gray;margin: 0 0.4em 0.5em 0.4em;box-sizing: border-box;padding-bottom: 0.4em;background-color: white;}#sk-container-id-1 div.sk-label label {font-family: monospace;font-weight: bold;display: inline-block;line-height: 1.2em;}#sk-container-id-1 div.sk-label-container {text-align: center;}#sk-container-id-1 div.sk-container {/* jupyter's `normalize.less` sets `[hidden] { display: none; }` but bootstrap.min.css set `[hidden] { display: none !important; }` so we also need the `!important` here to be able to override the default hidden behavior on the sphinx rendered scikit-learn.org. See: https://github.com/scikit-learn/scikit-learn/issues/21755 */display: inline-block !important;position: relative;}#sk-container-id-1 div.sk-text-repr-fallback {display: none;}</style><div id=\"sk-container-id-1\" class=\"sk-top-container\"><div class=\"sk-text-repr-fallback\"><pre>LinearRegression()</pre><b>In a Jupyter environment, please rerun this cell to show the HTML representation or trust the notebook. <br />On GitHub, the HTML representation is unable to render, please try loading this page with nbviewer.org.</b></div><div class=\"sk-container\" hidden><div class=\"sk-item\"><div class=\"sk-estimator sk-toggleable\"><input class=\"sk-toggleable__control sk-hidden--visually\" id=\"sk-estimator-id-1\" type=\"checkbox\" checked><label for=\"sk-estimator-id-1\" class=\"sk-toggleable__label sk-toggleable__label-arrow\">LinearRegression</label><div class=\"sk-toggleable__content\"><pre>LinearRegression()</pre></div></div></div></div></div>"
      ],
      "text/plain": [
       "LinearRegression()"
      ]
     },
     "execution_count": 6,
     "metadata": {},
     "output_type": "execute_result"
    }
   ],
   "source": [
    "lr.fit(X_train,y_train)#calculate intercept for data set , regression coeff for each feature ie;values are fitted in formula\n",
    "#simple linear reg so y=a0 + a1 X"
   ]
  },
  {
   "cell_type": "code",
   "execution_count": 7,
   "id": "fe759974",
   "metadata": {},
   "outputs": [
    {
     "data": {
      "text/plain": [
       "array([[1.52203412]])"
      ]
     },
     "execution_count": 7,
     "metadata": {},
     "output_type": "execute_result"
    }
   ],
   "source": [
    "lr.coef_\n",
    "#a1"
   ]
  },
  {
   "cell_type": "code",
   "execution_count": 8,
   "id": "2f225e94",
   "metadata": {},
   "outputs": [
    {
     "data": {
      "text/plain": [
       "array([4.14762354])"
      ]
     },
     "execution_count": 8,
     "metadata": {},
     "output_type": "execute_result"
    }
   ],
   "source": [
    "lr.intercept_\n",
    "#a0"
   ]
  },
  {
   "cell_type": "code",
   "execution_count": 9,
   "id": "8476db9c",
   "metadata": {},
   "outputs": [
    {
     "data": {
      "text/plain": [
       "0.7923926986454221"
      ]
     },
     "execution_count": 9,
     "metadata": {},
     "output_type": "execute_result"
    }
   ],
   "source": [
    "from sklearn.metrics import r2_score\n",
    "score=r2_score(y_test,lr.predict(X_test))#lr.score( ) also internally use r2_score formula\n",
    "score"
   ]
  },
  {
   "cell_type": "code",
   "execution_count": 10,
   "id": "d6067efe",
   "metadata": {},
   "outputs": [
    {
     "data": {
      "text/plain": [
       "array([[ 9.32414154],\n",
       "       [ 2.16012538],\n",
       "       [ 1.87571596],\n",
       "       [ 1.44226745],\n",
       "       [ 2.74487013],\n",
       "       [ 2.28735732],\n",
       "       [ 6.71618606],\n",
       "       [10.09001734],\n",
       "       [ 1.4857745 ],\n",
       "       [ 2.56207872],\n",
       "       [ 1.21890808],\n",
       "       [ 1.8892342 ],\n",
       "       [ 2.6078499 ],\n",
       "       [ 7.47474814],\n",
       "       [ 7.91988287],\n",
       "       [ 1.22780864],\n",
       "       [ 2.03536844],\n",
       "       [ 1.41896595],\n",
       "       [ 1.90717892],\n",
       "       [ 1.43151105]])"
      ]
     },
     "execution_count": 10,
     "metadata": {},
     "output_type": "execute_result"
    }
   ],
   "source": [
    "y_test"
   ]
  },
  {
   "cell_type": "code",
   "execution_count": 11,
   "id": "7eb83afc",
   "metadata": {},
   "outputs": [
    {
     "data": {
      "text/plain": [
       "array([[ 7.94827596],\n",
       "       [ 4.23025263],\n",
       "       [ 0.52495193],\n",
       "       [ 2.22005033],\n",
       "       [ 4.37428584],\n",
       "       [ 4.29268102],\n",
       "       [ 6.67109651],\n",
       "       [ 8.21237343],\n",
       "       [ 2.14177923],\n",
       "       [-0.23562372],\n",
       "       [ 0.73209877],\n",
       "       [ 2.59528988],\n",
       "       [ 4.29034314],\n",
       "       [ 7.3238604 ],\n",
       "       [ 7.2514981 ],\n",
       "       [ 2.38613077],\n",
       "       [ 2.84223901],\n",
       "       [ 0.53765638],\n",
       "       [ 1.4141952 ],\n",
       "       [ 0.89593642]])"
      ]
     },
     "execution_count": 11,
     "metadata": {},
     "output_type": "execute_result"
    }
   ],
   "source": [
    "lr.predict(X_test)"
   ]
  },
  {
   "cell_type": "code",
   "execution_count": 12,
   "id": "150faedc",
   "metadata": {},
   "outputs": [],
   "source": [
    "#only 69% accuracy ,,and it is not good fit"
   ]
  },
  {
   "cell_type": "code",
   "execution_count": 13,
   "id": "39db15cc",
   "metadata": {},
   "outputs": [
    {
     "data": {
      "text/plain": [
       "<matplotlib.collections.PathCollection at 0x20e82a1cc90>"
      ]
     },
     "execution_count": 13,
     "metadata": {},
     "output_type": "execute_result"
    },
    {
     "data": {
      "image/png": "[encoded data removed]",
      "text/plain": [
       "<Figure size 640x480 with 1 Axes>"
      ]
     },
     "metadata": {},
     "output_type": "display_data"
    }
   ],
   "source": [
    "#visualize the model\n",
    "plt.plot(X_train,lr.predict(X_train),color='r')\n",
    "plt.scatter(X_train,y_train)"
   ]
  },
  {
   "cell_type": "code",
   "execution_count": 14,
   "id": "27f554fb",
   "metadata": {},
   "outputs": [
    {
     "name": "stdout",
     "output_type": "stream",
     "text": [
      "training accuracy 0.8037706780014406\n",
      "testing accuracy 0.7923926986454221\n"
     ]
    }
   ],
   "source": [
    "print('training accuracy',lr.score(X_train,y_train))\n",
    "#as u see training accuracy is high,,that means training error =0(training error is low) thus testing error is very high\n",
    "#therefore model is overfitted \n",
    "print('testing accuracy',lr.score(X_test,y_test))\n",
    "# score=r2_score(y_test,lr.predict(X_test))\n",
    "# score\n",
    "# 0.6965305166746354\n",
    "#r2_score is closer to 0 so worst fit"
   ]
  },
  {
   "cell_type": "code",
   "execution_count": 15,
   "id": "2f9a8dc8",
   "metadata": {},
   "outputs": [],
   "source": [
    "#as u see there is lot of error\n",
    "#ie;actual training data o/p (y_train) and prediction line(model),,"
   ]
  },
  {
   "cell_type": "code",
   "execution_count": 16,
   "id": "a2b52333",
   "metadata": {},
   "outputs": [
    {
     "data": {
      "text/plain": [
       "<matplotlib.collections.PathCollection at 0x20e82c4b890>"
      ]
     },
     "execution_count": 16,
     "metadata": {},
     "output_type": "execute_result"
    },
    {
     "data": {
      "image/png": "[encoded data removed]",
      "text/plain": [
       "<Figure size 640x480 with 1 Axes>"
      ]
     },
     "metadata": {},
     "output_type": "display_data"
    }
   ],
   "source": [
    "plt.plot(X_test,lr.predict(X_test),color='r')\n",
    "plt.scatter(X_test,y_test)"
   ]
  },
  {
   "cell_type": "code",
   "execution_count": 17,
   "id": "2341da4c",
   "metadata": {},
   "outputs": [],
   "source": [
    "#as u see lot of error ,,ie;dist bn predicted value(line) and actual value(y_test)"
   ]
  },
  {
   "cell_type": "code",
   "execution_count": 18,
   "id": "ee9d1693",
   "metadata": {},
   "outputs": [],
   "source": [
    "#so use for non linear dataset use polynomial regression "
   ]
  },
  {
   "cell_type": "code",
   "execution_count": 19,
   "id": "dd3d5f86",
   "metadata": {},
   "outputs": [],
   "source": [
    "from sklearn.preprocessing import PolynomialFeatures"
   ]
  },
  {
   "cell_type": "code",
   "execution_count": 20,
   "id": "7021aebd",
   "metadata": {},
   "outputs": [],
   "source": [
    "# we are creating polynomial model from linear model,,so that below steps are needed.so that linear line(reg line) transformed\n",
    "#to curve like structure which is nearer to actual data values\n",
    "#following steps calculate the values(x1 , x1(2)) so that linear line shape is transformed to curve shape line\n",
    "poly= PolynomialFeatures(degree=2)#bcz it is simple polynomial regression ,,y=a0+a1 * x1\n",
    "#thus degree 2 means ,y=a0 +a1 * x1(1)+a2 * x1(2),,bcz include_bias=true ,y=a0 * 1+a1 * x1(1)+a2 * x1(2)   ,,1 is included\n",
    "X_train_poly=poly.fit_transform(X_train)#a0 ,a1 ,a2 is calculated by fit then transform will take each value of feature x\n",
    "#and put in formula created by fit,,and o/p of this is stored in X_train_poly\n",
    "X_test_poly=poly.transform(X_test)#formula created by fit is transformed on X_test data ie;a0 a1 is same for both ,just data value of x feature changed"
   ]
  },
  {
   "cell_type": "code",
   "execution_count": 21,
   "id": "d93fa07b",
   "metadata": {},
   "outputs": [
    {
     "data": {
      "text/plain": [
       "(80, 1)"
      ]
     },
     "execution_count": 21,
     "metadata": {},
     "output_type": "execute_result"
    }
   ],
   "source": [
    "X_train.shape"
   ]
  },
  {
   "cell_type": "code",
   "execution_count": 22,
   "id": "b6df4801",
   "metadata": {},
   "outputs": [
    {
     "name": "stdout",
     "output_type": "stream",
     "text": [
      "[[ 1.00000000e+00 -1.74170623e+00  3.03354059e+00]\n",
      " [ 1.00000000e+00 -1.29271927e+00  1.67112310e+00]\n",
      " [ 1.00000000e+00 -1.12794093e-01  1.27225074e-02]\n",
      " [ 1.00000000e+00  1.02318695e+00  1.04691154e+00]\n",
      " [ 1.00000000e+00  1.90721672e+00  3.63747562e+00]\n",
      " [ 1.00000000e+00 -1.65349637e+00  2.73405023e+00]\n",
      " [ 1.00000000e+00  2.80101452e+00  7.84568232e+00]\n",
      " [ 1.00000000e+00  2.05367175e+00  4.21756764e+00]\n",
      " [ 1.00000000e+00  8.81175004e-01  7.76469389e-01]\n",
      " [ 1.00000000e+00 -2.18901160e+00  4.79177178e+00]\n",
      " [ 1.00000000e+00  4.24159108e-01  1.79910949e-01]\n",
      " [ 1.00000000e+00 -8.61666380e-02  7.42468951e-03]\n",
      " [ 1.00000000e+00  6.72637148e-01  4.52440733e-01]\n",
      " [ 1.00000000e+00 -1.55964888e+00  2.43250462e+00]\n",
      " [ 1.00000000e+00  1.19250884e+00  1.42207734e+00]\n",
      " [ 1.00000000e+00 -1.09142523e+00  1.19120904e+00]\n",
      " [ 1.00000000e+00  1.93577437e+00  3.74722241e+00]\n",
      " [ 1.00000000e+00 -2.65904195e+00  7.07050407e+00]\n",
      " [ 1.00000000e+00 -2.37290335e+00  5.63067031e+00]\n",
      " [ 1.00000000e+00  8.24121233e-01  6.79175807e-01]\n",
      " [ 1.00000000e+00 -1.02687240e+00  1.05446692e+00]\n",
      " [ 1.00000000e+00  6.86783983e-01  4.71672239e-01]\n",
      " [ 1.00000000e+00 -8.39922152e-01  7.05469221e-01]\n",
      " [ 1.00000000e+00  2.59961931e+00  6.75802058e+00]\n",
      " [ 1.00000000e+00  4.64223106e-01  2.15503093e-01]\n",
      " [ 1.00000000e+00  2.22335694e-01  4.94331608e-02]\n",
      " [ 1.00000000e+00 -9.26916457e-01  8.59174118e-01]\n",
      " [ 1.00000000e+00 -2.87921417e+00  8.28987426e+00]\n",
      " [ 1.00000000e+00 -2.12790684e+00  4.52798753e+00]\n",
      " [ 1.00000000e+00 -2.80511072e+00  7.86864617e+00]\n",
      " [ 1.00000000e+00 -9.28506072e-01  8.62123526e-01]\n",
      " [ 1.00000000e+00 -2.67820297e+00  7.17277117e+00]\n",
      " [ 1.00000000e+00  2.70612445e+00  7.32310954e+00]\n",
      " [ 1.00000000e+00 -2.12936701e+00  4.53420385e+00]\n",
      " [ 1.00000000e+00 -3.30117073e-01  1.08977282e-01]\n",
      " [ 1.00000000e+00 -1.50630681e+00  2.26896022e+00]\n",
      " [ 1.00000000e+00 -8.12837271e-01  6.60704429e-01]\n",
      " [ 1.00000000e+00  1.47151239e+00  2.16534871e+00]\n",
      " [ 1.00000000e+00 -1.89216076e+00  3.58027234e+00]\n",
      " [ 1.00000000e+00 -2.41772002e+00  5.84537010e+00]\n",
      " [ 1.00000000e+00  2.53478202e+00  6.42511987e+00]\n",
      " [ 1.00000000e+00  2.92516733e+00  8.55660391e+00]\n",
      " [ 1.00000000e+00  5.58362024e-03  3.11768150e-05]\n",
      " [ 1.00000000e+00  6.12774867e-01  3.75493037e-01]\n",
      " [ 1.00000000e+00 -2.27629137e+00  5.18150239e+00]\n",
      " [ 1.00000000e+00 -1.85870979e+00  3.45480208e+00]\n",
      " [ 1.00000000e+00  7.08125134e-01  5.01441205e-01]\n",
      " [ 1.00000000e+00  1.07357974e+00  1.15257346e+00]\n",
      " [ 1.00000000e+00 -2.63024480e-01  6.91818772e-02]\n",
      " [ 1.00000000e+00 -2.45624592e-02  6.03314402e-04]\n",
      " [ 1.00000000e+00  1.60085699e+00  2.56274310e+00]\n",
      " [ 1.00000000e+00  2.66840873e+00  7.12040515e+00]\n",
      " [ 1.00000000e+00 -2.69708068e+00  7.27424421e+00]\n",
      " [ 1.00000000e+00  1.25288286e+00  1.56971546e+00]\n",
      " [ 1.00000000e+00 -1.87101927e+00  3.50071312e+00]\n",
      " [ 1.00000000e+00 -1.84385312e+00  3.39979434e+00]\n",
      " [ 1.00000000e+00  2.36056137e+00  5.57225000e+00]\n",
      " [ 1.00000000e+00 -1.66305362e+00  2.76574734e+00]\n",
      " [ 1.00000000e+00  2.19852496e+00  4.83351199e+00]\n",
      " [ 1.00000000e+00 -2.61962092e+00  6.86241376e+00]\n",
      " [ 1.00000000e+00 -1.30743455e+00  1.70938509e+00]\n",
      " [ 1.00000000e+00  2.23628713e+00  5.00098015e+00]\n",
      " [ 1.00000000e+00  1.07538036e+00  1.15644291e+00]\n",
      " [ 1.00000000e+00  1.32731077e+00  1.76175389e+00]\n",
      " [ 1.00000000e+00 -9.34839890e-01  8.73925620e-01]\n",
      " [ 1.00000000e+00  2.95231105e+00  8.71614053e+00]\n",
      " [ 1.00000000e+00  2.34682159e+00  5.50757159e+00]\n",
      " [ 1.00000000e+00  1.61974816e+00  2.62358412e+00]\n",
      " [ 1.00000000e+00  3.91850393e-01  1.53546730e-01]\n",
      " [ 1.00000000e+00 -8.70965361e-02  7.58580660e-03]\n",
      " [ 1.00000000e+00  2.18054343e+00  4.75476966e+00]\n",
      " [ 1.00000000e+00 -2.87001708e+00  8.23699803e+00]\n",
      " [ 1.00000000e+00 -1.58764119e+00  2.52060454e+00]\n",
      " [ 1.00000000e+00  1.94965722e+00  3.80116328e+00]\n",
      " [ 1.00000000e+00  1.86759957e+00  3.48792815e+00]\n",
      " [ 1.00000000e+00  2.31194666e+00  5.34509737e+00]\n",
      " [ 1.00000000e+00  2.92258630e+00  8.54151071e+00]\n",
      " [ 1.00000000e+00  4.52680583e-01  2.04919710e-01]\n",
      " [ 1.00000000e+00 -1.17563417e+00  1.38211569e+00]\n",
      " [ 1.00000000e+00 -1.52467242e+00  2.32462598e+00]]\n",
      "(80, 3)\n"
     ]
    }
   ],
   "source": [
    "print(X_train_poly)\n",
    "print(X_train_poly.shape)\n",
    "#1.00000 is a bias"
   ]
  },
  {
   "cell_type": "code",
   "execution_count": 23,
   "id": "57656e30",
   "metadata": {},
   "outputs": [
    {
     "data": {
      "text/plain": [
       "array([[ 1.00000000e+00,  2.49708753e+00,  6.23544614e+00],\n",
       "       [ 1.00000000e+00,  5.42885926e-02,  2.94725129e-03],\n",
       "       [ 1.00000000e+00, -2.38015138e+00,  5.66512059e+00],\n",
       "       [ 1.00000000e+00, -1.26644547e+00,  1.60388412e+00],\n",
       "       [ 1.00000000e+00,  1.48920645e-01,  2.21773585e-02],\n",
       "       [ 1.00000000e+00,  9.53050145e-02,  9.08304580e-03],\n",
       "       [ 1.00000000e+00,  1.65796084e+00,  2.74883415e+00],\n",
       "       [ 1.00000000e+00,  2.67060366e+00,  7.13212390e+00],\n",
       "       [ 1.00000000e+00, -1.31787079e+00,  1.73678343e+00],\n",
       "       [ 1.00000000e+00, -2.87986137e+00,  8.29360149e+00],\n",
       "       [ 1.00000000e+00, -2.24405270e+00,  5.03577251e+00],\n",
       "       [ 1.00000000e+00, -1.01990727e+00,  1.04021083e+00],\n",
       "       [ 1.00000000e+00,  9.37689885e-02,  8.79262321e-03],\n",
       "       [ 1.00000000e+00,  2.08683683e+00,  4.35488797e+00],\n",
       "       [ 1.00000000e+00,  2.03929368e+00,  4.15871870e+00],\n",
       "       [ 1.00000000e+00, -1.15732804e+00,  1.33940820e+00],\n",
       "       [ 1.00000000e+00, -8.57657862e-01,  7.35577008e-01],\n",
       "       [ 1.00000000e+00, -2.37180436e+00,  5.62545590e+00],\n",
       "       [ 1.00000000e+00, -1.79590477e+00,  3.22527395e+00],\n",
       "       [ 1.00000000e+00, -2.13640882e+00,  4.56424265e+00]])"
      ]
     },
     "execution_count": 23,
     "metadata": {},
     "output_type": "execute_result"
    }
   ],
   "source": [
    "X_test_poly"
   ]
  },
  {
   "cell_type": "code",
   "execution_count": 24,
   "id": "54d565ea",
   "metadata": {},
   "outputs": [
    {
     "name": "stdout",
     "output_type": "stream",
     "text": [
      "test accuracy 0.9896257221861646\n"
     ]
    }
   ],
   "source": [
    "from sklearn.metrics import r2_score\n",
    "regression=LinearRegression()\n",
    "regression.fit(X_train_poly,y_train)\n",
    "y_pred=regression.predict(X_test_poly)\n",
    "score=r2_score(y_test,y_pred)\n",
    "print('test accuracy',score)\n",
    "\n",
    "#as u see accuracy of testing data is high,,it i not an overfitt\n",
    "#if our training accuracy is 90 to 100% then our model is overfit,,but"
   ]
  },
  {
   "cell_type": "code",
   "execution_count": 25,
   "id": "d2f47d9b",
   "metadata": {},
   "outputs": [
    {
     "data": {
      "text/plain": [
       "<matplotlib.collections.PathCollection at 0x20e82cd46d0>"
      ]
     },
     "execution_count": 25,
     "metadata": {},
     "output_type": "execute_result"
    },
    {
     "data": {
      "image/png": "[encoded data removed]",
      "text/plain": [
       "<Figure size 640x480 with 1 Axes>"
      ]
     },
     "metadata": {},
     "output_type": "display_data"
    }
   ],
   "source": [
    "plt.plot(X_train,regression.predict(X_train_poly))#model/prediction line\n",
    "plt.scatter(X_train,y_train)#actual data values"
   ]
  },
  {
   "cell_type": "code",
   "execution_count": null,
   "id": "fabc0ec2",
   "metadata": {},
   "outputs": [],
   "source": []
  }
 ],
 "metadata": {
  "kernelspec": {
   "display_name": "Python 3 (ipykernel)",
   "language": "python",
   "name": "python3"
  },
  "language_info": {
   "codemirror_mode": {
    "name": "ipython",
    "version": 3
   },
   "file_extension": ".py",
   "mimetype": "text/x-python",
   "name": "python",
   "nbconvert_exporter": "python",
   "pygments_lexer": "ipython3",
   "version": "3.11.4"
  }
 },
 "nbformat": 4,
 "nbformat_minor": 5
}
