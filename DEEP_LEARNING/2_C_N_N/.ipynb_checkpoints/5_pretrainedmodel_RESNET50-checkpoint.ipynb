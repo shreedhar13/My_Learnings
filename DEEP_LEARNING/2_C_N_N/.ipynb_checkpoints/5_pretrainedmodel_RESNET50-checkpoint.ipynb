{
 "cells": [
  {
   "cell_type": "code",
   "execution_count": 1,
   "id": "5926e4ca",
   "metadata": {},
   "outputs": [],
   "source": [
    "import tensorflow\n",
    "from tensorflow.keras.applications.resnet50 import ResNet50\n",
    "from tensorflow.keras.preprocessing import image\n",
    "from tensorflow.keras.applications.resnet50 import preprocess_input,decode_predictions\n",
    "import numpy as np"
   ]
  },
  {
   "cell_type": "code",
   "execution_count": 10,
   "id": "d2b2aebb",
   "metadata": {},
   "outputs": [],
   "source": [
    "model=ResNet50(weights='imagenet')#imageNET is a database which contains around 1.4 cr labeled imges with 20k classes/categories(ie;all fruits,all animals,hymans...etc objects)\n",
    "#and resNet50 is CNN model which is trained on this imagenet and computed w and b are stored\n",
    "#thus we are accessing those stored weights(therefore,model reusability acheived...thus time is saved)"
   ]
  },
  {
   "cell_type": "code",
   "execution_count": 14,
   "id": "6a46f8f8",
   "metadata": {},
   "outputs": [],
   "source": [
    "img_path=\"D:\\DEEP_LEARNING\\C_N_N\\human_image.jpg\"\n",
    "img=image.load_img(img_path,target_size=(224,224))\n",
    "x=image.img_to_array(img)\n",
    "x-np.expand_dims(x,axis=0)\n",
    "x=preprocess_input(x)"
   ]
  },
  {
   "cell_type": "code",
   "execution_count": 15,
   "id": "f33fda02",
   "metadata": {},
   "outputs": [
    {
     "name": "stdout",
     "output_type": "stream",
     "text": [
      "1/1 [==============================] - 2s 2s/step\n",
      "predicted: [('n04557648', 'water_bottle', 0.7749581), ('n04560804', 'water_jug', 0.06052969), ('n04522168', 'vase', 0.028197065)]\n"
     ]
    }
   ],
   "source": [
    "preds=model.predict(x[None,...])#to make i/p image compatible with pretrained model\n",
    "print('predicted:',decode_predictions(preds,top=3)[0])#top 3 prediction\n",
    "#as u see all 3 predictions are wrong"
   ]
  },
  {
   "cell_type": "code",
   "execution_count": 16,
   "id": "48a6b67f",
   "metadata": {},
   "outputs": [],
   "source": [
    "img_path=\"D:\\DEEP_LEARNING\\C_N_N\\cat.jpg\"\n",
    "img=image.load_img(img_path,target_size=(224,224))\n",
    "x=image.img_to_array(img)\n",
    "x-np.expand_dims(x,axis=0)\n",
    "x=preprocess_input(x)"
   ]
  },
  {
   "cell_type": "code",
   "execution_count": 17,
   "id": "c6827dbf",
   "metadata": {},
   "outputs": [
    {
     "name": "stdout",
     "output_type": "stream",
     "text": [
      "1/1 [==============================] - 0s 253ms/step\n",
      "predicted: [('n02971356', 'carton', 0.3287824), ('n02364673', 'guinea_pig', 0.30278835), ('n03223299', 'doormat', 0.26282382)]\n"
     ]
    }
   ],
   "source": [
    "preds=model.predict(x[None,...])\n",
    "print('predicted:',decode_predictions(preds,top=3)[0])"
   ]
  },
  {
   "cell_type": "code",
   "execution_count": 18,
   "id": "91c5dca8",
   "metadata": {},
   "outputs": [],
   "source": [
    "#above are top3 predictions..and all are wrong"
   ]
  },
  {
   "cell_type": "code",
   "execution_count": 19,
   "id": "7e4c9549",
   "metadata": {},
   "outputs": [],
   "source": [
    "img_path=\"D:\\DEEP_LEARNING\\C_N_N\\dog.jpg\"\n",
    "img=image.load_img(img_path,target_size=(224,224))\n",
    "x=image.img_to_array(img)\n",
    "x-np.expand_dims(x,axis=0)\n",
    "x=preprocess_input(x)"
   ]
  },
  {
   "cell_type": "code",
   "execution_count": 20,
   "id": "1399db76",
   "metadata": {},
   "outputs": [
    {
     "name": "stdout",
     "output_type": "stream",
     "text": [
      "1/1 [==============================] - 0s 347ms/step\n",
      "predicted: [('n02087394', 'Rhodesian_ridgeback', 0.46693942), ('n02094114', 'Norfolk_terrier', 0.13270639), ('n02099712', 'Labrador_retriever', 0.12815045)]\n"
     ]
    }
   ],
   "source": [
    "preds=model.predict(x[None,...])\n",
    "print('predicted:',decode_predictions(preds,top=3)[0])"
   ]
  },
  {
   "cell_type": "code",
   "execution_count": 16,
   "id": "d6b8dfde",
   "metadata": {},
   "outputs": [],
   "source": [
    "#as u see,our model predictde it is dog correctly\n",
    "#ie;displaying possible breed of that dog"
   ]
  },
  {
   "cell_type": "code",
   "execution_count": 17,
   "id": "657e5d71",
   "metadata": {},
   "outputs": [],
   "source": [
    "#u can perform with chair,bread,....rtc living and nonliving things"
   ]
  },
  {
   "cell_type": "code",
   "execution_count": null,
   "id": "929d435b",
   "metadata": {},
   "outputs": [],
   "source": []
  }
 ],
 "metadata": {
  "kernelspec": {
   "display_name": "Python 3 (ipykernel)",
   "language": "python",
   "name": "python3"
  },
  "language_info": {
   "codemirror_mode": {
    "name": "ipython",
    "version": 3
   },
   "file_extension": ".py",
   "mimetype": "text/x-python",
   "name": "python",
   "nbconvert_exporter": "python",
   "pygments_lexer": "ipython3",
   "version": "3.11.4"
  }
 },
 "nbformat": 4,
 "nbformat_minor": 5
}
