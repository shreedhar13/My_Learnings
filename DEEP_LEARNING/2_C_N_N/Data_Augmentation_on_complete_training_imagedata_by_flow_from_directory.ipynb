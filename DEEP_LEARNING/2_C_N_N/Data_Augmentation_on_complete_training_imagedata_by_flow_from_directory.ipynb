{
 "cells": [
  {
   "cell_type": "code",
   "execution_count": 1,
   "id": "9e545318",
   "metadata": {},
   "outputs": [],
   "source": [
    "#first delete image data from train(cat,dog),,and leave only 800 images on each category(cat and dog),,->train_1000_img\n",
    "#so we cab apply augmentation and demonstrate accuracy increasing after augmentation"
   ]
  },
  {
   "cell_type": "code",
   "execution_count": 2,
   "id": "a9704908",
   "metadata": {},
   "outputs": [],
   "source": [
    "#no need to delete test data,,bcz it is for testing,,not for training,,,lol\n"
   ]
  },
  {
   "cell_type": "markdown",
   "id": "9c22d7c1",
   "metadata": {},
   "source": [
    "# W/O data augmentation,,(ie; on 1600 image cnn is trained...800 each )"
   ]
  },
  {
   "cell_type": "code",
   "execution_count": 3,
   "id": "de720d91",
   "metadata": {},
   "outputs": [],
   "source": [
    "import cv2\n",
    "import os\n",
    "import random\n",
    "import numpy as np"
   ]
  },
  {
   "cell_type": "code",
   "execution_count": 4,
   "id": "5afb518d",
   "metadata": {},
   "outputs": [],
   "source": [
    "mydir=r\"D:\\DEEP_LEARNING\\C_N_N\\4_cats_vs_dog_classification\\train_800_img\""
   ]
  },
  {
   "cell_type": "code",
   "execution_count": 5,
   "id": "fd526f9f",
   "metadata": {},
   "outputs": [],
   "source": [
    "categories=['cats','dogs']"
   ]
  },
  {
   "cell_type": "code",
   "execution_count": 6,
   "id": "52355a42",
   "metadata": {},
   "outputs": [],
   "source": [
    "data=[]\n",
    "\n",
    "for i in categories:\n",
    "    folder_path=os.path.join(mydir,i)\n",
    "    \n",
    "    if i=='cats':\n",
    "        label=0\n",
    "    else:\n",
    "        label=1\n",
    "    \n",
    "    for j in os.listdir(folder_path):\n",
    "        img_path=os.path.join(folder_path,j)\n",
    "        img=cv2.imread(img_path)\n",
    "        img=cv2.resize(img,(150,150))\n",
    "        data.append([img,label])"
   ]
  },
  {
   "cell_type": "code",
   "execution_count": 7,
   "id": "7ead77f3",
   "metadata": {},
   "outputs": [],
   "source": [
    "random.shuffle(data)"
   ]
  },
  {
   "cell_type": "code",
   "execution_count": 8,
   "id": "94d00c43",
   "metadata": {},
   "outputs": [],
   "source": [
    "X=[]#X_train\n",
    "y=[]#y_train\n",
    "for i in data:\n",
    "    X.append(i[0])\n",
    "    y.append(i[1])"
   ]
  },
  {
   "cell_type": "code",
   "execution_count": 9,
   "id": "dadfb8f8",
   "metadata": {},
   "outputs": [],
   "source": [
    "y=np.array(y)"
   ]
  },
  {
   "cell_type": "code",
   "execution_count": 10,
   "id": "a2e26608",
   "metadata": {},
   "outputs": [],
   "source": [
    "X=np.array(X)"
   ]
  },
  {
   "cell_type": "code",
   "execution_count": 11,
   "id": "badcaa23",
   "metadata": {},
   "outputs": [
    {
     "data": {
      "text/plain": [
       "(1600, 150, 150, 3)"
      ]
     },
     "execution_count": 11,
     "metadata": {},
     "output_type": "execute_result"
    }
   ],
   "source": [
    "X.shape"
   ]
  },
  {
   "cell_type": "code",
   "execution_count": 12,
   "id": "120177db",
   "metadata": {},
   "outputs": [],
   "source": [
    "X=X/255"
   ]
  },
  {
   "cell_type": "code",
   "execution_count": 16,
   "id": "eefe25e8",
   "metadata": {},
   "outputs": [],
   "source": [
    "#create CNN\n",
    "from keras import Sequential\n",
    "from keras.layers import  Conv2D,MaxPooling2D,Dense,Flatten,Activation,Dropout"
   ]
  },
  {
   "cell_type": "code",
   "execution_count": 17,
   "id": "d609b8b7",
   "metadata": {},
   "outputs": [],
   "source": [
    "model=Sequential()\n",
    "model.add(Conv2D(32,(3,3),input_shape=(150,150,3)))\n",
    "model.add(Activation('relu'))\n",
    "model.add(MaxPooling2D(pool_size=(2,2)))\n",
    "\n",
    "model.add(Conv2D(32,(3,3)))\n",
    "model.add(Activation('relu'))\n",
    "model.add(MaxPooling2D(pool_size=(2,2)))\n",
    "\n",
    "model.add(Conv2D(64,(3,3)))\n",
    "model.add(Activation('relu'))\n",
    "model.add(MaxPooling2D(pool_size=(2,2)))\n",
    "\n",
    "#convolution layers are finished\n",
    "model.add(Flatten())#3d feature map to 1d feature map\n",
    "\n",
    "#F_C layers starts\n",
    "model.add(Dense(64))\n",
    "model.add(Activation('relu'))\n",
    "model.add(Dropout(0.5))\n",
    "\n",
    "model.add(Dense(1))\n",
    "model.add(Activation('sigmoid'))\n",
    "\n",
    "model.compile(loss='binary_crossentropy',optimizer='rmsprop',metrics=['accuracy'])"
   ]
  },
  {
   "cell_type": "code",
   "execution_count": 18,
   "id": "3e25041e",
   "metadata": {},
   "outputs": [
    {
     "name": "stdout",
     "output_type": "stream",
     "text": [
      "Epoch 1/5\n",
      "45/45 [==============================] - 46s 990ms/step - loss: 0.7142 - accuracy: 0.5278 - val_loss: 0.6945 - val_accuracy: 0.4812\n",
      "Epoch 2/5\n",
      "45/45 [==============================] - 41s 918ms/step - loss: 0.7012 - accuracy: 0.5403 - val_loss: 0.6710 - val_accuracy: 0.6062\n",
      "Epoch 3/5\n",
      "45/45 [==============================] - 43s 956ms/step - loss: 0.6598 - accuracy: 0.6035 - val_loss: 0.6056 - val_accuracy: 0.7188\n",
      "Epoch 4/5\n",
      "45/45 [==============================] - 45s 998ms/step - loss: 0.6390 - accuracy: 0.6493 - val_loss: 0.6449 - val_accuracy: 0.5625\n",
      "Epoch 5/5\n",
      "45/45 [==============================] - 45s 998ms/step - loss: 0.6145 - accuracy: 0.6694 - val_loss: 0.5878 - val_accuracy: 0.7125\n"
     ]
    },
    {
     "data": {
      "text/plain": [
       "<keras.src.callbacks.History at 0x23bc7b75e10>"
      ]
     },
     "execution_count": 18,
     "metadata": {},
     "output_type": "execute_result"
    }
   ],
   "source": [
    "model.fit(X,y,epochs=5,validation_split=0.1)"
   ]
  },
  {
   "cell_type": "code",
   "execution_count": 19,
   "id": "1d5c4467",
   "metadata": {},
   "outputs": [],
   "source": [
    "#as u see  (testing data)val_accuracy: 0.7125 or 71%\n",
    "#it is on 800 images each for cat and dog\n",
    "#we can do data augmentation to increase train data sample from current data,,"
   ]
  },
  {
   "cell_type": "markdown",
   "id": "97e768f1",
   "metadata": {},
   "source": [
    "# applying data augmentation on train_800_img ,,to get more image for training purpose"
   ]
  },
  {
   "cell_type": "code",
   "execution_count": 38,
   "id": "344c7486",
   "metadata": {},
   "outputs": [
    {
     "name": "stdout",
     "output_type": "stream",
     "text": [
      "Found 1600 images belonging to 2 classes.\n",
      "Found 1000 images belonging to 2 classes.\n"
     ]
    }
   ],
   "source": [
    "from keras.preprocessing.image import ImageDataGenerator\n",
    "batch_size=32\n",
    "\n",
    "train_datagen=ImageDataGenerator(\n",
    "                    rescale=1./255,\n",
    "                    shear_range=0.2,\n",
    "                    zoom_range=0.2,\n",
    "                    horizontal_flip=True\n",
    "                )\n",
    "test_datagen=ImageDataGenerator(rescale=1./255)\n",
    "\n",
    "#this is generator that will read images from \n",
    "train_generator=train_datagen.flow_from_directory(\n",
    "                'train_800_img',\n",
    "                target_size=(150,150),\n",
    "                batch_size=batch_size,\n",
    "                class_mode='binary'\n",
    "                )\n",
    "validation_generator=test_datagen.flow_from_directory(\n",
    "        'test_500_img',#this is the target directory\n",
    "        target_size=(150,150),\n",
    "        batch_size=batch_size,\n",
    "        class_mode='binary') #since we using binary_crossentropy loss , we need binary labels\n",
    "\n",
    "    "
   ]
  },
  {
   "cell_type": "code",
   "execution_count": 39,
   "id": "fd419d3c",
   "metadata": {},
   "outputs": [],
   "source": [
    "#Found 1600 images belonging to 2 classes.-->train data\n",
    "#Found 1000 images belonging to 2 classes.-->test data"
   ]
  },
  {
   "cell_type": "code",
   "execution_count": 40,
   "id": "aeed05b2",
   "metadata": {},
   "outputs": [],
   "source": [
    "#exact same model as we above\n",
    "model=Sequential()\n",
    "model.add(Conv2D(32,(3,3),input_shape=(150,150,3)))\n",
    "model.add(Activation('relu'))\n",
    "model.add(MaxPooling2D(pool_size=(2,2)))\n",
    "\n",
    "model.add(Conv2D(32,(3,3)))\n",
    "model.add(Activation('relu'))\n",
    "model.add(MaxPooling2D(pool_size=(2,2)))\n",
    "\n",
    "model.add(Conv2D(64,(3,3)))\n",
    "model.add(Activation('relu'))\n",
    "model.add(MaxPooling2D(pool_size=(2,2)))\n",
    "\n",
    "#convolution layers are finished\n",
    "model.add(Flatten())#3d feature map to 1d feature map\n",
    "\n",
    "#F_C layers starts\n",
    "model.add(Dense(64))\n",
    "model.add(Activation('relu'))\n",
    "model.add(Dropout(0.5))\n",
    "\n",
    "model.add(Dense(1))\n",
    "model.add(Activation('sigmoid'))\n",
    "\n",
    "model.compile(loss='binary_crossentropy',optimizer='rmsprop',metrics=['accuracy'])"
   ]
  },
  {
   "cell_type": "code",
   "execution_count": 41,
   "id": "856cc102",
   "metadata": {},
   "outputs": [],
   "source": [
    "#while training the augmented data,,ie; generating and directly feeding to cnn model (ie;not storing),,then use fit_generator(),,to train the model\n",
    "#but in this current version,u can use fit(...all arguments req to get the augmented data)"
   ]
  },
  {
   "cell_type": "code",
   "execution_count": 42,
   "id": "8dcf24ea",
   "metadata": {},
   "outputs": [
    {
     "name": "stdout",
     "output_type": "stream",
     "text": [
      "Epoch 1/25\n",
      "50/62 [=======================>......] - ETA: 15s - loss: 0.7120 - accuracy: 0.5375WARNING:tensorflow:Your input ran out of data; interrupting training. Make sure that your dataset or generator can generate at least `steps_per_epoch * epochs` batches (in this case, 1550 batches). You may need to use the repeat() function when building your dataset.\n",
      "62/62 [==============================] - 75s 1s/step - loss: 0.7120 - accuracy: 0.5375 - val_loss: 0.6842 - val_accuracy: 0.5675\n"
     ]
    },
    {
     "data": {
      "text/plain": [
       "<keras.src.callbacks.History at 0x23bc7ced2d0>"
      ]
     },
     "execution_count": 42,
     "metadata": {},
     "output_type": "execute_result"
    }
   ],
   "source": [
    "model.fit(\n",
    "    train_generator,\n",
    "    steps_per_epoch=2000 // batch_size,\n",
    "    epochs=25,\n",
    "    validation_data=validation_generator,\n",
    "    validation_steps=800 // batch_size\n",
    "    )"
   ]
  },
  {
   "cell_type": "code",
   "execution_count": null,
   "id": "9d83aa7a",
   "metadata": {},
   "outputs": [],
   "source": []
  }
 ],
 "metadata": {
  "kernelspec": {
   "display_name": "Python 3 (ipykernel)",
   "language": "python",
   "name": "python3"
  },
  "language_info": {
   "codemirror_mode": {
    "name": "ipython",
    "version": 3
   },
   "file_extension": ".py",
   "mimetype": "text/x-python",
   "name": "python",
   "nbconvert_exporter": "python",
   "pygments_lexer": "ipython3",
   "version": "3.11.4"
  }
 },
 "nbformat": 4,
 "nbformat_minor": 5
}
