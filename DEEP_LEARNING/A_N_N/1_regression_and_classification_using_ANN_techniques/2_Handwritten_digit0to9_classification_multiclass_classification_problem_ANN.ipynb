{
 "cells": [
  {
   "cell_type": "markdown",
   "id": "9b8defdb",
   "metadata": {},
   "source": [
    "# working on MNIST dataset using ANN\n",
    "it is collection of 70k images,,,ie;handwritten digits photos are inside MNIST dataset\n",
    "each photos contains one handwritten digit (0 to 7)"
   ]
  },
  {
   "cell_type": "markdown",
   "id": "7031bc33",
   "metadata": {},
   "source": [
    "and resolution of each photo is 28x28   ie;28 rows and 28 pixel in each row  ie;28x28=784  total 784 pixels are there in 1 photo"
   ]
  },
  {
   "cell_type": "code",
   "execution_count": 1,
   "id": "2401e6a6",
   "metadata": {},
   "outputs": [],
   "source": [
    "#and whenever we are working on multiclass classification problem ,suppose output feature has 4 distict values \n",
    "#cat,dog,human,god then 4 node/perceptron/neuron are created in output layer\n",
    "#ie;for n'classes in output feature n perceptron are created in ANN\n"
   ]
  },
  {
   "cell_type": "code",
   "execution_count": 2,
   "id": "5335cc35",
   "metadata": {},
   "outputs": [],
   "source": [
    "#binary classification means-->exactly 2 distinct value in o/p feature...here value means class\n",
    "#multiclass classification means-->more than 2 distict value in o.p feature here value means class\n",
    "#regression -->continuous values in o/p features..here value means int,float ...etc"
   ]
  },
  {
   "cell_type": "code",
   "execution_count": 3,
   "id": "c6493464",
   "metadata": {},
   "outputs": [],
   "source": [
    "#therefore in output feature there are 10 distinct values,,,0 to 9 sooo 10 nodes are created at o/p layer"
   ]
  },
  {
   "cell_type": "code",
   "execution_count": 4,
   "id": "817a0a71",
   "metadata": {},
   "outputs": [],
   "source": [
    "import tensorflow\n",
    "from tensorflow import keras\n",
    "from tensorflow.keras import Sequential\n",
    "from tensorflow.keras.layers import Dense,Flatten"
   ]
  },
  {
   "cell_type": "code",
   "execution_count": 5,
   "id": "7e646308",
   "metadata": {},
   "outputs": [],
   "source": [
    "(X_train,y_train),(X_test,y_test) = keras.datasets.mnist.load_data()#inbuild dataset"
   ]
  },
  {
   "cell_type": "code",
   "execution_count": 6,
   "id": "17015ee3",
   "metadata": {},
   "outputs": [
    {
     "data": {
      "text/plain": [
       "((60000, 28, 28), (10000, 28, 28))"
      ]
     },
     "execution_count": 6,
     "metadata": {},
     "output_type": "execute_result"
    }
   ],
   "source": [
    "X_train.shape,X_test.shape\n",
    "#as u see 3d numpy array(means like C array/java array ie;stored in contiguous manner)..\n",
    "#each photo/image is of resolution 28x28 and 60k such a photos are there in X_train,,remaining 10k are in X_test"
   ]
  },
  {
   "cell_type": "code",
   "execution_count": 7,
   "id": "ff769967",
   "metadata": {},
   "outputs": [
    {
     "data": {
      "text/plain": [
       "((60000,), (10000,))"
      ]
     },
     "execution_count": 7,
     "metadata": {},
     "output_type": "execute_result"
    }
   ],
   "source": [
    "y_train.shape,y_test.shape\n",
    "#is 1d numpy array,,which holds actual digit present in respective photo"
   ]
  },
  {
   "cell_type": "code",
   "execution_count": 8,
   "id": "52921b9b",
   "metadata": {},
   "outputs": [],
   "source": [
    "# X_train\n",
    "# \"\"\"[[0, 0, 0, ..., 0, 0, 0],\n",
    "#         [0, 0, 0, ..., 0, 0, 0],\n",
    "#         [0, 0, 0, ..., 0, 0, 0],\n",
    "#         ...,\n",
    "#         [0, 0, 0, ..., 0, 0, 0],\n",
    "#         [0, 0, 0, ..., 0, 0, 0],\n",
    "#         [0, 0, 0, ..., 0, 0, 0]],  first photo's pixel values ie;28x28=>784 pixel values(0 to 255)\n",
    "# \"\"\""
   ]
  },
  {
   "cell_type": "code",
   "execution_count": 9,
   "id": "025c474a",
   "metadata": {},
   "outputs": [
    {
     "data": {
      "text/plain": [
       "array([[  0,   0,   0,   0,   0,   0,   0,   0,   0,   0,   0,   0,   0,\n",
       "          0,   0,   0,   0,   0,   0,   0,   0,   0,   0,   0,   0,   0,\n",
       "          0,   0],\n",
       "       [  0,   0,   0,   0,   0,   0,   0,   0,   0,   0,   0,   0,   0,\n",
       "          0,   0,   0,   0,   0,   0,   0,   0,   0,   0,   0,   0,   0,\n",
       "          0,   0],\n",
       "       [  0,   0,   0,   0,   0,   0,   0,   0,   0,   0,   0,   0,   0,\n",
       "          0,   0,   0,   0,   0,   0,   0,   0,   0,   0,   0,   0,   0,\n",
       "          0,   0],\n",
       "       [  0,   0,   0,   0,   0,   0,   0,   0,   0,   0,   0,   0,   0,\n",
       "          0,   0,   0,   0,   0,   0,   0,   0,   0,   0,   0,   0,   0,\n",
       "          0,   0],\n",
       "       [  0,   0,   0,   0,   0,   0,   0,   0,   0,   0,   0,   0,   0,\n",
       "          0,   0,   0,   0,   0,   0,   0,   0,   0,   0,   0,   0,   0,\n",
       "          0,   0],\n",
       "       [  0,   0,   0,   0,   0,   0,   0,   0,   0,   0,   0,   0,   3,\n",
       "         18,  18,  18, 126, 136, 175,  26, 166, 255, 247, 127,   0,   0,\n",
       "          0,   0],\n",
       "       [  0,   0,   0,   0,   0,   0,   0,   0,  30,  36,  94, 154, 170,\n",
       "        253, 253, 253, 253, 253, 225, 172, 253, 242, 195,  64,   0,   0,\n",
       "          0,   0],\n",
       "       [  0,   0,   0,   0,   0,   0,   0,  49, 238, 253, 253, 253, 253,\n",
       "        253, 253, 253, 253, 251,  93,  82,  82,  56,  39,   0,   0,   0,\n",
       "          0,   0],\n",
       "       [  0,   0,   0,   0,   0,   0,   0,  18, 219, 253, 253, 253, 253,\n",
       "        253, 198, 182, 247, 241,   0,   0,   0,   0,   0,   0,   0,   0,\n",
       "          0,   0],\n",
       "       [  0,   0,   0,   0,   0,   0,   0,   0,  80, 156, 107, 253, 253,\n",
       "        205,  11,   0,  43, 154,   0,   0,   0,   0,   0,   0,   0,   0,\n",
       "          0,   0],\n",
       "       [  0,   0,   0,   0,   0,   0,   0,   0,   0,  14,   1, 154, 253,\n",
       "         90,   0,   0,   0,   0,   0,   0,   0,   0,   0,   0,   0,   0,\n",
       "          0,   0],\n",
       "       [  0,   0,   0,   0,   0,   0,   0,   0,   0,   0,   0, 139, 253,\n",
       "        190,   2,   0,   0,   0,   0,   0,   0,   0,   0,   0,   0,   0,\n",
       "          0,   0],\n",
       "       [  0,   0,   0,   0,   0,   0,   0,   0,   0,   0,   0,  11, 190,\n",
       "        253,  70,   0,   0,   0,   0,   0,   0,   0,   0,   0,   0,   0,\n",
       "          0,   0],\n",
       "       [  0,   0,   0,   0,   0,   0,   0,   0,   0,   0,   0,   0,  35,\n",
       "        241, 225, 160, 108,   1,   0,   0,   0,   0,   0,   0,   0,   0,\n",
       "          0,   0],\n",
       "       [  0,   0,   0,   0,   0,   0,   0,   0,   0,   0,   0,   0,   0,\n",
       "         81, 240, 253, 253, 119,  25,   0,   0,   0,   0,   0,   0,   0,\n",
       "          0,   0],\n",
       "       [  0,   0,   0,   0,   0,   0,   0,   0,   0,   0,   0,   0,   0,\n",
       "          0,  45, 186, 253, 253, 150,  27,   0,   0,   0,   0,   0,   0,\n",
       "          0,   0],\n",
       "       [  0,   0,   0,   0,   0,   0,   0,   0,   0,   0,   0,   0,   0,\n",
       "          0,   0,  16,  93, 252, 253, 187,   0,   0,   0,   0,   0,   0,\n",
       "          0,   0],\n",
       "       [  0,   0,   0,   0,   0,   0,   0,   0,   0,   0,   0,   0,   0,\n",
       "          0,   0,   0,   0, 249, 253, 249,  64,   0,   0,   0,   0,   0,\n",
       "          0,   0],\n",
       "       [  0,   0,   0,   0,   0,   0,   0,   0,   0,   0,   0,   0,   0,\n",
       "          0,  46, 130, 183, 253, 253, 207,   2,   0,   0,   0,   0,   0,\n",
       "          0,   0],\n",
       "       [  0,   0,   0,   0,   0,   0,   0,   0,   0,   0,   0,   0,  39,\n",
       "        148, 229, 253, 253, 253, 250, 182,   0,   0,   0,   0,   0,   0,\n",
       "          0,   0],\n",
       "       [  0,   0,   0,   0,   0,   0,   0,   0,   0,   0,  24, 114, 221,\n",
       "        253, 253, 253, 253, 201,  78,   0,   0,   0,   0,   0,   0,   0,\n",
       "          0,   0],\n",
       "       [  0,   0,   0,   0,   0,   0,   0,   0,  23,  66, 213, 253, 253,\n",
       "        253, 253, 198,  81,   2,   0,   0,   0,   0,   0,   0,   0,   0,\n",
       "          0,   0],\n",
       "       [  0,   0,   0,   0,   0,   0,  18, 171, 219, 253, 253, 253, 253,\n",
       "        195,  80,   9,   0,   0,   0,   0,   0,   0,   0,   0,   0,   0,\n",
       "          0,   0],\n",
       "       [  0,   0,   0,   0,  55, 172, 226, 253, 253, 253, 253, 244, 133,\n",
       "         11,   0,   0,   0,   0,   0,   0,   0,   0,   0,   0,   0,   0,\n",
       "          0,   0],\n",
       "       [  0,   0,   0,   0, 136, 253, 253, 253, 212, 135, 132,  16,   0,\n",
       "          0,   0,   0,   0,   0,   0,   0,   0,   0,   0,   0,   0,   0,\n",
       "          0,   0],\n",
       "       [  0,   0,   0,   0,   0,   0,   0,   0,   0,   0,   0,   0,   0,\n",
       "          0,   0,   0,   0,   0,   0,   0,   0,   0,   0,   0,   0,   0,\n",
       "          0,   0],\n",
       "       [  0,   0,   0,   0,   0,   0,   0,   0,   0,   0,   0,   0,   0,\n",
       "          0,   0,   0,   0,   0,   0,   0,   0,   0,   0,   0,   0,   0,\n",
       "          0,   0],\n",
       "       [  0,   0,   0,   0,   0,   0,   0,   0,   0,   0,   0,   0,   0,\n",
       "          0,   0,   0,   0,   0,   0,   0,   0,   0,   0,   0,   0,   0,\n",
       "          0,   0]], dtype=uint8)"
      ]
     },
     "execution_count": 9,
     "metadata": {},
     "output_type": "execute_result"
    }
   ],
   "source": [
    "X_train[0]\n",
    "#1st photo's pixel values,,,"
   ]
  },
  {
   "cell_type": "code",
   "execution_count": 10,
   "id": "2ab12654",
   "metadata": {},
   "outputs": [
    {
     "data": {
      "text/plain": [
       "5"
      ]
     },
     "execution_count": 10,
     "metadata": {},
     "output_type": "execute_result"
    }
   ],
   "source": [
    "y_train[0]\n",
    "#as u see digit present in this 1st photo is 5"
   ]
  },
  {
   "cell_type": "code",
   "execution_count": 11,
   "id": "97ecd128",
   "metadata": {},
   "outputs": [
    {
     "name": "stdout",
     "output_type": "stream",
     "text": [
      "value present inside this image is 5\n"
     ]
    },
    {
     "data": {
      "image/png": "[encoded data removed]",
      "text/plain": [
       "<Figure size 640x480 with 1 Axes>"
      ]
     },
     "metadata": {},
     "output_type": "display_data"
    }
   ],
   "source": [
    "#u want to see image/phot\n",
    "import matplotlib.pyplot as plt\n",
    "plt.imshow(X_train[0])\n",
    "#as u see handwritten image ,,,and value present inside first image is 5\n",
    "print('value present inside this image is',y_train[0])"
   ]
  },
  {
   "cell_type": "code",
   "execution_count": 12,
   "id": "8c746c88",
   "metadata": {},
   "outputs": [
    {
     "name": "stdout",
     "output_type": "stream",
     "text": [
      "value present inside this image is 0\n"
     ]
    },
    {
     "data": {
      "image/png": "[encoded data removed]",
      "text/plain": [
       "<Figure size 640x480 with 1 Axes>"
      ]
     },
     "metadata": {},
     "output_type": "display_data"
    }
   ],
   "source": [
    "plt.imshow(X_train[1])\n",
    "#as u see handwritten image ,,,and value present inside first image is 0\n",
    "print('value present inside this image is',y_train[1])"
   ]
  },
  {
   "cell_type": "code",
   "execution_count": 13,
   "id": "35e69c46",
   "metadata": {},
   "outputs": [
    {
     "name": "stdout",
     "output_type": "stream",
     "text": [
      "value present inside this image is 4\n"
     ]
    },
    {
     "data": {
      "image/png": "[encoded data removed]",
      "text/plain": [
       "<Figure size 640x480 with 1 Axes>"
      ]
     },
     "metadata": {},
     "output_type": "display_data"
    }
   ],
   "source": [
    "plt.imshow(X_train[2])\n",
    "#as u see handwritten image ,,,and value present inside first image is 5\n",
    "print('value present inside this image is',y_train[2])"
   ]
  },
  {
   "cell_type": "code",
   "execution_count": 14,
   "id": "40bc99b5",
   "metadata": {},
   "outputs": [],
   "source": [
    "#now we create neural network(NN),,bcz created by programmer so ANN and this is nothin but MLP(bcz more than 1 perceptron \n",
    "#is used and in diff diff layer)"
   ]
  },
  {
   "cell_type": "code",
   "execution_count": 15,
   "id": "7545d0cc",
   "metadata": {},
   "outputs": [],
   "source": [
    "#note-->for training of NN,,we have to scaled data to work and converge well(find weights and bias correctly any fastly)\n",
    "#dont use StandardScaler,or...etc scaler\n",
    "#divide the X_train adn X_test by 255 ,,so thar each pixel value come in range b/n 0-1\n",
    "#0 for black,,,,1 for white and intermediate represents other colors\n",
    "#VVVVVVVIMPPPP"
   ]
  },
  {
   "cell_type": "code",
   "execution_count": 16,
   "id": "97696e17",
   "metadata": {},
   "outputs": [],
   "source": [
    "X_train=X_train/255\n",
    "X_test=X_test/255"
   ]
  },
  {
   "cell_type": "code",
   "execution_count": 17,
   "id": "3c8d2156",
   "metadata": {},
   "outputs": [
    {
     "data": {
      "text/plain": [
       "array([[0.        , 0.        , 0.        , 0.        , 0.        ,\n",
       "        0.        , 0.        , 0.        , 0.        , 0.        ,\n",
       "        0.        , 0.        , 0.        , 0.        , 0.        ,\n",
       "        0.        , 0.        , 0.        , 0.        , 0.        ,\n",
       "        0.        , 0.        , 0.        , 0.        , 0.        ,\n",
       "        0.        , 0.        , 0.        ],\n",
       "       [0.        , 0.        , 0.        , 0.        , 0.        ,\n",
       "        0.        , 0.        , 0.        , 0.        , 0.        ,\n",
       "        0.        , 0.        , 0.        , 0.        , 0.        ,\n",
       "        0.        , 0.        , 0.        , 0.        , 0.        ,\n",
       "        0.        , 0.        , 0.        , 0.        , 0.        ,\n",
       "        0.        , 0.        , 0.        ],\n",
       "       [0.        , 0.        , 0.        , 0.        , 0.        ,\n",
       "        0.        , 0.        , 0.        , 0.        , 0.        ,\n",
       "        0.        , 0.        , 0.        , 0.        , 0.        ,\n",
       "        0.        , 0.        , 0.        , 0.        , 0.        ,\n",
       "        0.        , 0.        , 0.        , 0.        , 0.        ,\n",
       "        0.        , 0.        , 0.        ],\n",
       "       [0.        , 0.        , 0.        , 0.        , 0.        ,\n",
       "        0.        , 0.        , 0.        , 0.        , 0.        ,\n",
       "        0.        , 0.        , 0.        , 0.        , 0.        ,\n",
       "        0.        , 0.        , 0.        , 0.        , 0.        ,\n",
       "        0.        , 0.        , 0.        , 0.        , 0.        ,\n",
       "        0.        , 0.        , 0.        ],\n",
       "       [0.        , 0.        , 0.        , 0.        , 0.        ,\n",
       "        0.        , 0.        , 0.        , 0.        , 0.        ,\n",
       "        0.        , 0.        , 0.        , 0.        , 0.        ,\n",
       "        0.        , 0.        , 0.        , 0.        , 0.        ,\n",
       "        0.        , 0.        , 0.        , 0.        , 0.        ,\n",
       "        0.        , 0.        , 0.        ],\n",
       "       [0.        , 0.        , 0.        , 0.        , 0.        ,\n",
       "        0.        , 0.        , 0.        , 0.        , 0.        ,\n",
       "        0.        , 0.        , 0.01176471, 0.07058824, 0.07058824,\n",
       "        0.07058824, 0.49411765, 0.53333333, 0.68627451, 0.10196078,\n",
       "        0.65098039, 1.        , 0.96862745, 0.49803922, 0.        ,\n",
       "        0.        , 0.        , 0.        ],\n",
       "       [0.        , 0.        , 0.        , 0.        , 0.        ,\n",
       "        0.        , 0.        , 0.        , 0.11764706, 0.14117647,\n",
       "        0.36862745, 0.60392157, 0.66666667, 0.99215686, 0.99215686,\n",
       "        0.99215686, 0.99215686, 0.99215686, 0.88235294, 0.6745098 ,\n",
       "        0.99215686, 0.94901961, 0.76470588, 0.25098039, 0.        ,\n",
       "        0.        , 0.        , 0.        ],\n",
       "       [0.        , 0.        , 0.        , 0.        , 0.        ,\n",
       "        0.        , 0.        , 0.19215686, 0.93333333, 0.99215686,\n",
       "        0.99215686, 0.99215686, 0.99215686, 0.99215686, 0.99215686,\n",
       "        0.99215686, 0.99215686, 0.98431373, 0.36470588, 0.32156863,\n",
       "        0.32156863, 0.21960784, 0.15294118, 0.        , 0.        ,\n",
       "        0.        , 0.        , 0.        ],\n",
       "       [0.        , 0.        , 0.        , 0.        , 0.        ,\n",
       "        0.        , 0.        , 0.07058824, 0.85882353, 0.99215686,\n",
       "        0.99215686, 0.99215686, 0.99215686, 0.99215686, 0.77647059,\n",
       "        0.71372549, 0.96862745, 0.94509804, 0.        , 0.        ,\n",
       "        0.        , 0.        , 0.        , 0.        , 0.        ,\n",
       "        0.        , 0.        , 0.        ],\n",
       "       [0.        , 0.        , 0.        , 0.        , 0.        ,\n",
       "        0.        , 0.        , 0.        , 0.31372549, 0.61176471,\n",
       "        0.41960784, 0.99215686, 0.99215686, 0.80392157, 0.04313725,\n",
       "        0.        , 0.16862745, 0.60392157, 0.        , 0.        ,\n",
       "        0.        , 0.        , 0.        , 0.        , 0.        ,\n",
       "        0.        , 0.        , 0.        ],\n",
       "       [0.        , 0.        , 0.        , 0.        , 0.        ,\n",
       "        0.        , 0.        , 0.        , 0.        , 0.05490196,\n",
       "        0.00392157, 0.60392157, 0.99215686, 0.35294118, 0.        ,\n",
       "        0.        , 0.        , 0.        , 0.        , 0.        ,\n",
       "        0.        , 0.        , 0.        , 0.        , 0.        ,\n",
       "        0.        , 0.        , 0.        ],\n",
       "       [0.        , 0.        , 0.        , 0.        , 0.        ,\n",
       "        0.        , 0.        , 0.        , 0.        , 0.        ,\n",
       "        0.        , 0.54509804, 0.99215686, 0.74509804, 0.00784314,\n",
       "        0.        , 0.        , 0.        , 0.        , 0.        ,\n",
       "        0.        , 0.        , 0.        , 0.        , 0.        ,\n",
       "        0.        , 0.        , 0.        ],\n",
       "       [0.        , 0.        , 0.        , 0.        , 0.        ,\n",
       "        0.        , 0.        , 0.        , 0.        , 0.        ,\n",
       "        0.        , 0.04313725, 0.74509804, 0.99215686, 0.2745098 ,\n",
       "        0.        , 0.        , 0.        , 0.        , 0.        ,\n",
       "        0.        , 0.        , 0.        , 0.        , 0.        ,\n",
       "        0.        , 0.        , 0.        ],\n",
       "       [0.        , 0.        , 0.        , 0.        , 0.        ,\n",
       "        0.        , 0.        , 0.        , 0.        , 0.        ,\n",
       "        0.        , 0.        , 0.1372549 , 0.94509804, 0.88235294,\n",
       "        0.62745098, 0.42352941, 0.00392157, 0.        , 0.        ,\n",
       "        0.        , 0.        , 0.        , 0.        , 0.        ,\n",
       "        0.        , 0.        , 0.        ],\n",
       "       [0.        , 0.        , 0.        , 0.        , 0.        ,\n",
       "        0.        , 0.        , 0.        , 0.        , 0.        ,\n",
       "        0.        , 0.        , 0.        , 0.31764706, 0.94117647,\n",
       "        0.99215686, 0.99215686, 0.46666667, 0.09803922, 0.        ,\n",
       "        0.        , 0.        , 0.        , 0.        , 0.        ,\n",
       "        0.        , 0.        , 0.        ],\n",
       "       [0.        , 0.        , 0.        , 0.        , 0.        ,\n",
       "        0.        , 0.        , 0.        , 0.        , 0.        ,\n",
       "        0.        , 0.        , 0.        , 0.        , 0.17647059,\n",
       "        0.72941176, 0.99215686, 0.99215686, 0.58823529, 0.10588235,\n",
       "        0.        , 0.        , 0.        , 0.        , 0.        ,\n",
       "        0.        , 0.        , 0.        ],\n",
       "       [0.        , 0.        , 0.        , 0.        , 0.        ,\n",
       "        0.        , 0.        , 0.        , 0.        , 0.        ,\n",
       "        0.        , 0.        , 0.        , 0.        , 0.        ,\n",
       "        0.0627451 , 0.36470588, 0.98823529, 0.99215686, 0.73333333,\n",
       "        0.        , 0.        , 0.        , 0.        , 0.        ,\n",
       "        0.        , 0.        , 0.        ],\n",
       "       [0.        , 0.        , 0.        , 0.        , 0.        ,\n",
       "        0.        , 0.        , 0.        , 0.        , 0.        ,\n",
       "        0.        , 0.        , 0.        , 0.        , 0.        ,\n",
       "        0.        , 0.        , 0.97647059, 0.99215686, 0.97647059,\n",
       "        0.25098039, 0.        , 0.        , 0.        , 0.        ,\n",
       "        0.        , 0.        , 0.        ],\n",
       "       [0.        , 0.        , 0.        , 0.        , 0.        ,\n",
       "        0.        , 0.        , 0.        , 0.        , 0.        ,\n",
       "        0.        , 0.        , 0.        , 0.        , 0.18039216,\n",
       "        0.50980392, 0.71764706, 0.99215686, 0.99215686, 0.81176471,\n",
       "        0.00784314, 0.        , 0.        , 0.        , 0.        ,\n",
       "        0.        , 0.        , 0.        ],\n",
       "       [0.        , 0.        , 0.        , 0.        , 0.        ,\n",
       "        0.        , 0.        , 0.        , 0.        , 0.        ,\n",
       "        0.        , 0.        , 0.15294118, 0.58039216, 0.89803922,\n",
       "        0.99215686, 0.99215686, 0.99215686, 0.98039216, 0.71372549,\n",
       "        0.        , 0.        , 0.        , 0.        , 0.        ,\n",
       "        0.        , 0.        , 0.        ],\n",
       "       [0.        , 0.        , 0.        , 0.        , 0.        ,\n",
       "        0.        , 0.        , 0.        , 0.        , 0.        ,\n",
       "        0.09411765, 0.44705882, 0.86666667, 0.99215686, 0.99215686,\n",
       "        0.99215686, 0.99215686, 0.78823529, 0.30588235, 0.        ,\n",
       "        0.        , 0.        , 0.        , 0.        , 0.        ,\n",
       "        0.        , 0.        , 0.        ],\n",
       "       [0.        , 0.        , 0.        , 0.        , 0.        ,\n",
       "        0.        , 0.        , 0.        , 0.09019608, 0.25882353,\n",
       "        0.83529412, 0.99215686, 0.99215686, 0.99215686, 0.99215686,\n",
       "        0.77647059, 0.31764706, 0.00784314, 0.        , 0.        ,\n",
       "        0.        , 0.        , 0.        , 0.        , 0.        ,\n",
       "        0.        , 0.        , 0.        ],\n",
       "       [0.        , 0.        , 0.        , 0.        , 0.        ,\n",
       "        0.        , 0.07058824, 0.67058824, 0.85882353, 0.99215686,\n",
       "        0.99215686, 0.99215686, 0.99215686, 0.76470588, 0.31372549,\n",
       "        0.03529412, 0.        , 0.        , 0.        , 0.        ,\n",
       "        0.        , 0.        , 0.        , 0.        , 0.        ,\n",
       "        0.        , 0.        , 0.        ],\n",
       "       [0.        , 0.        , 0.        , 0.        , 0.21568627,\n",
       "        0.6745098 , 0.88627451, 0.99215686, 0.99215686, 0.99215686,\n",
       "        0.99215686, 0.95686275, 0.52156863, 0.04313725, 0.        ,\n",
       "        0.        , 0.        , 0.        , 0.        , 0.        ,\n",
       "        0.        , 0.        , 0.        , 0.        , 0.        ,\n",
       "        0.        , 0.        , 0.        ],\n",
       "       [0.        , 0.        , 0.        , 0.        , 0.53333333,\n",
       "        0.99215686, 0.99215686, 0.99215686, 0.83137255, 0.52941176,\n",
       "        0.51764706, 0.0627451 , 0.        , 0.        , 0.        ,\n",
       "        0.        , 0.        , 0.        , 0.        , 0.        ,\n",
       "        0.        , 0.        , 0.        , 0.        , 0.        ,\n",
       "        0.        , 0.        , 0.        ],\n",
       "       [0.        , 0.        , 0.        , 0.        , 0.        ,\n",
       "        0.        , 0.        , 0.        , 0.        , 0.        ,\n",
       "        0.        , 0.        , 0.        , 0.        , 0.        ,\n",
       "        0.        , 0.        , 0.        , 0.        , 0.        ,\n",
       "        0.        , 0.        , 0.        , 0.        , 0.        ,\n",
       "        0.        , 0.        , 0.        ],\n",
       "       [0.        , 0.        , 0.        , 0.        , 0.        ,\n",
       "        0.        , 0.        , 0.        , 0.        , 0.        ,\n",
       "        0.        , 0.        , 0.        , 0.        , 0.        ,\n",
       "        0.        , 0.        , 0.        , 0.        , 0.        ,\n",
       "        0.        , 0.        , 0.        , 0.        , 0.        ,\n",
       "        0.        , 0.        , 0.        ],\n",
       "       [0.        , 0.        , 0.        , 0.        , 0.        ,\n",
       "        0.        , 0.        , 0.        , 0.        , 0.        ,\n",
       "        0.        , 0.        , 0.        , 0.        , 0.        ,\n",
       "        0.        , 0.        , 0.        , 0.        , 0.        ,\n",
       "        0.        , 0.        , 0.        , 0.        , 0.        ,\n",
       "        0.        , 0.        , 0.        ]])"
      ]
     },
     "execution_count": 17,
     "metadata": {},
     "output_type": "execute_result"
    }
   ],
   "source": [
    "X_train[0]\n",
    "#as u see each pixel value ranges b/n 0 to 1\n",
    "#and below is 2d numpy array,,28x28"
   ]
  },
  {
   "cell_type": "markdown",
   "id": "892fa31b",
   "metadata": {},
   "source": [
    "# CREATING ANN(ARTIFICIAL NEURAL NETWORK) AND TRAIN"
   ]
  },
  {
   "cell_type": "code",
   "execution_count": 18,
   "id": "51a75ede",
   "metadata": {},
   "outputs": [],
   "source": [
    "model=Sequential()"
   ]
  },
  {
   "cell_type": "code",
   "execution_count": 19,
   "id": "c3bedef3",
   "metadata": {},
   "outputs": [],
   "source": [
    "#at a time we have to give 1 image ie;of 28x28  which is 2d,,,each photo has total 784 value(pixel value)\n",
    "#but we have to give i/p parllely to each node ie;784 values are given as i/p parllely soo,,,,convert 2d representation of photo to 1d\n",
    "#using Flatten method,.....convertinh high dimension to low dimension"
   ]
  },
  {
   "cell_type": "code",
   "execution_count": 20,
   "id": "309f5dee",
   "metadata": {},
   "outputs": [],
   "source": [
    "model.add(Flatten(input_shape=(28,28)))#2d data converted to 1d\n",
    "#ie;intially data is like this-->\n",
    "# row0\n",
    "#    row1\n",
    "#    row2\n",
    "#    .\n",
    "#    .\n",
    "#    .\n",
    "#    .\n",
    "#    row27      each row contains 28 column   thus 28x28  ie;2d\n",
    "   \n",
    "#    but after Flatten\n",
    "   \n",
    "#    row0 + row1 + row2 +........+row27    (1d array with 784 element(each pixel value))\n",
    "   \n",
    "#    thus 784 i/p values given parllely to each node/perceptrons\n",
    "\n",
    "\n"
   ]
  },
  {
   "cell_type": "code",
   "execution_count": 21,
   "id": "531aa84d",
   "metadata": {},
   "outputs": [],
   "source": [
    "#create a H.L 1 with 128 nodes(randomly choosen)\n",
    "\n",
    "model.add(Dense(128,activation='relu'))#no need to give no of inputs,,bcz o/p of Flatten is feeded to this layer(H.L1)\n",
    "#you can add multiple H.Layers....to make model to extract feature deeply so named deep learning,,\n",
    "#as u increase hidden layers(H.L) ,,model will start capturing deep feature of i.p data,,,so prediction is accurate,,,,,\n",
    "#if u  give more no of layers then model may OVERFITT also\n",
    "#if u dont  give more no of layers then model may UNDERFITT also(DONT LEARN CONCEPT FROM DATA) \n",
    "#but we use single H.L,,after we can change if we wants\n",
    "\n",
    "#o/p layer--->bcz 10 ouputs are there 0,1,2....9  so we have to create 10 nodes.perceptron in o.p layer\n",
    "model.add(Dense(10,activation='softmax'))#NOTE-->if output layer has more than 1 nodes then u have to use 'softmax' as activation function\n",
    "\n",
    "#Bias and weights are calculated internally"
   ]
  },
  {
   "cell_type": "code",
   "execution_count": 22,
   "id": "0c10d010",
   "metadata": {},
   "outputs": [
    {
     "name": "stdout",
     "output_type": "stream",
     "text": [
      "Model: \"sequential\"\n",
      "_________________________________________________________________\n",
      " Layer (type)                Output Shape              Param #   \n",
      "=================================================================\n",
      " flatten (Flatten)           (None, 784)               0         \n",
      "                                                                 \n",
      " dense (Dense)               (None, 128)               100480    \n",
      "                                                                 \n",
      " dense_1 (Dense)             (None, 10)                1290      \n",
      "                                                                 \n",
      "=================================================================\n",
      "Total params: 101770 (397.54 KB)\n",
      "Trainable params: 101770 (397.54 KB)\n",
      "Non-trainable params: 0 (0.00 Byte)\n",
      "_________________________________________________________________\n"
     ]
    }
   ],
   "source": [
    "model.summary()"
   ]
  },
  {
   "cell_type": "code",
   "execution_count": 23,
   "id": "678b7d16",
   "metadata": {},
   "outputs": [],
   "source": [
    " #flatten (Flatten)           (None, 784)               0      ->Flatten is i/p layer,i/p layer dont have any perceptron bcz,,we are not going to do any operation on i/p ,ie;not going to train  \n",
    "                                                                 \n",
    " #dense (Dense)               (None, 128)               100480 ->hidden layer(H.L 1) ...from here actually trainig start on i/p data  \n",
    "                                                                 \n",
    " #dense_1 (Dense)             (None, 10)                1290   ->o/p layer(is also kind of hidden layer)\n",
    "#bcz ANN internally do operations w/o human intervation and it doesnt describe how operation is performed ,,it just give o/p\n",
    "#internally so,,named hidden layer\n",
    "                                                            "
   ]
  },
  {
   "cell_type": "code",
   "execution_count": 24,
   "id": "79f188a1",
   "metadata": {},
   "outputs": [],
   "source": [
    "model.compile(loss='sparse_categorical_crossentropy',optimizer='Adam')#there is another loss function which is littlebit same,categorical_crossentropy\n",
    "#but small diff is-->in 'sparse_categorical_crossentropy' no need to do one hot encoding on o/p feature ie; our o/p\n",
    "#labels are 0,1,2,3...9 ,,,so need to apply one hot encodingon it manually,,,internally it is done\n",
    "#but in ''categorical_crossentropy' we have to manually do one hot encoding on o/p labels,,so use \n",
    "#'sparse_categorical_crossentropy' bcz it do internally"
   ]
  },
  {
   "cell_type": "code",
   "execution_count": 25,
   "id": "994e565c",
   "metadata": {},
   "outputs": [
    {
     "name": "stdout",
     "output_type": "stream",
     "text": [
      "Epoch 1/10\n",
      "1500/1500 [==============================] - 8s 5ms/step - loss: 0.2916 - val_loss: 0.1589\n",
      "Epoch 2/10\n",
      "1500/1500 [==============================] - 7s 5ms/step - loss: 0.1313 - val_loss: 0.1210\n",
      "Epoch 3/10\n",
      "1500/1500 [==============================] - 7s 4ms/step - loss: 0.0905 - val_loss: 0.0949\n",
      "Epoch 4/10\n",
      "1500/1500 [==============================] - 6s 4ms/step - loss: 0.0672 - val_loss: 0.0992\n",
      "Epoch 5/10\n",
      "1500/1500 [==============================] - 6s 4ms/step - loss: 0.0513 - val_loss: 0.0906\n",
      "Epoch 6/10\n",
      "1500/1500 [==============================] - 7s 5ms/step - loss: 0.0398 - val_loss: 0.0912\n",
      "Epoch 7/10\n",
      "1500/1500 [==============================] - 7s 5ms/step - loss: 0.0318 - val_loss: 0.0877\n",
      "Epoch 8/10\n",
      "1500/1500 [==============================] - 7s 5ms/step - loss: 0.0253 - val_loss: 0.0833\n",
      "Epoch 9/10\n",
      "1500/1500 [==============================] - 7s 4ms/step - loss: 0.0208 - val_loss: 0.0892\n",
      "Epoch 10/10\n",
      "1500/1500 [==============================] - 7s 5ms/step - loss: 0.0184 - val_loss: 0.0910\n"
     ]
    },
    {
     "data": {
      "text/plain": [
       "<keras.src.callbacks.History at 0x105c717bdd0>"
      ]
     },
     "execution_count": 25,
     "metadata": {},
     "output_type": "execute_result"
    }
   ],
   "source": [
    "model.fit(X_train,y_train,epochs=10,validation_split=0.2)#from training data 20% dara is taken for validation purpose and remaining for training purpose\n",
    "#ie;after training weights and bias are caluculated at each round/epochs and same is applied to validate the data on validation_data\n",
    "#then model come to know ,,how much accurate prediction on validation data,,and if not better then model will imrove learning from it\n",
    "#and after 10th round/epochs,,,model calculated the final weights and bias,,and use to predict hte test data while testing phase\n",
    "\n",
    "\n",
    "#VVVVIIIMMMPPP\n",
    "#u can add metrics=['accuracy'] to track accuracy at each epochs and we can assign training parameters to variable\n",
    "#History=model.fit(X_train,y_train,epochs=10,validation_split=0.2,metrics=['accuracy'])\n",
    "#and u can plot loss, accuracy,validation loss and accuracy to show at each epochs how loss and accuracy is behaving"
   ]
  },
  {
   "cell_type": "code",
   "execution_count": 26,
   "id": "01037479",
   "metadata": {},
   "outputs": [],
   "source": [
    "# as u see val_loss is very very minimum/ we say negligible"
   ]
  },
  {
   "cell_type": "markdown",
   "id": "919e3552",
   "metadata": {},
   "source": [
    "# MODEL TESTING PHASE"
   ]
  },
  {
   "cell_type": "code",
   "execution_count": 27,
   "id": "e384b9c9",
   "metadata": {},
   "outputs": [
    {
     "name": "stdout",
     "output_type": "stream",
     "text": [
      "313/313 [==============================] - 1s 2ms/step\n"
     ]
    },
    {
     "data": {
      "text/plain": [
       "array([[5.8752043e-08, 3.1698008e-10, 1.3929706e-06, ..., 9.9927992e-01,\n",
       "        2.5018593e-07, 2.7639549e-05],\n",
       "       [1.8971271e-11, 2.6070532e-07, 9.9999976e-01, ..., 6.0667337e-18,\n",
       "        2.2341516e-11, 7.6089243e-18],\n",
       "       [1.4771135e-07, 9.9979550e-01, 5.0943923e-05, ..., 2.2729817e-05,\n",
       "        1.0976217e-04, 5.4167309e-08],\n",
       "       ...,\n",
       "       [2.6680844e-16, 2.9014795e-13, 2.1805197e-16, ..., 5.2641731e-09,\n",
       "        1.3241380e-11, 8.7612058e-08],\n",
       "       [7.8885146e-13, 1.4406842e-11, 1.0832513e-16, ..., 4.3504230e-13,\n",
       "        5.4790267e-08, 1.7529470e-15],\n",
       "       [9.6090965e-12, 9.5637081e-17, 4.5187161e-12, ..., 2.2428283e-18,\n",
       "        3.3454847e-14, 3.8630722e-16]], dtype=float32)"
      ]
     },
     "execution_count": 27,
     "metadata": {},
     "output_type": "execute_result"
    }
   ],
   "source": [
    "y_prob=model.predict(X_test)\n",
    "y_prob#each o/p nodes probability,,,/100 u do for range b/n 0 to 1"
   ]
  },
  {
   "cell_type": "code",
   "execution_count": 28,
   "id": "d99b1f4a",
   "metadata": {},
   "outputs": [],
   "source": [
    "#first imagae of test data\n",
    "#[[5.8752043e-08, 3.1698008e-10, 1.3929706e-06, ..., 9.9927992e-01,2.5018593e-07, 2.7639549e-05],\n",
    "# p(0)           p(1)           p(2)                 p(7)          p(8)           p(9)\n",
    "#p(0)->probability of the value present inside this first image can be 0,,,,,ie;5.87/100=>0.058 is probability\n",
    "#as u see probability of the value present inside this first image can be 7, is high,,,ie;9.99/100=>0.099"
   ]
  },
  {
   "cell_type": "code",
   "execution_count": 29,
   "id": "84928437",
   "metadata": {},
   "outputs": [
    {
     "data": {
      "text/plain": [
       "array([7, 2, 1, ..., 4, 5, 6], dtype=int64)"
      ]
     },
     "execution_count": 29,
     "metadata": {},
     "output_type": "execute_result"
    }
   ],
   "source": [
    "y_pred=y_prob.argmax(axis=1)#max probability value of each row\n",
    "y_pred"
   ]
  },
  {
   "cell_type": "code",
   "execution_count": 30,
   "id": "666f6247",
   "metadata": {},
   "outputs": [],
   "source": [
    "#as u see the value present inside X_test[0] ie;first image of X_test data is predicted to be 7\n",
    "#as u see the value present inside X_test[1] ie;second image of X_test data is predicted to be 2"
   ]
  },
  {
   "cell_type": "code",
   "execution_count": 31,
   "id": "36a081c3",
   "metadata": {},
   "outputs": [
    {
     "data": {
      "text/plain": [
       "0.9767"
      ]
     },
     "execution_count": 31,
     "metadata": {},
     "output_type": "execute_result"
    }
   ],
   "source": [
    "from sklearn.metrics import accuracy_score\n",
    "accuracy_score(y_test,y_pred)"
   ]
  },
  {
   "cell_type": "code",
   "execution_count": 32,
   "id": "eaaf02ae",
   "metadata": {},
   "outputs": [],
   "source": [
    "# see 97% is accuracy,,which is great\n",
    "#w/o any hyperparameter tuning,,and increasing nodes,layers,epochs,,,etc  our accuracy is high\n",
    "#thus u can increase accuracy by  performing above methods"
   ]
  },
  {
   "cell_type": "code",
   "execution_count": 33,
   "id": "f49e355a",
   "metadata": {},
   "outputs": [
    {
     "name": "stdout",
     "output_type": "stream",
     "text": [
      "actual value present inside this image is 7\n",
      "predicted value  7\n"
     ]
    },
    {
     "data": {
      "image/png": "[encoded data removed]",
      "text/plain": [
       "<Figure size 640x480 with 1 Axes>"
      ]
     },
     "metadata": {},
     "output_type": "display_data"
    }
   ],
   "source": [
    "plt.imshow(X_test[0])\n",
    "print('actual value present inside this image is',y_test[0])\n",
    "print('predicted value ',y_pred[0])"
   ]
  },
  {
   "cell_type": "code",
   "execution_count": 34,
   "id": "97ec9920",
   "metadata": {},
   "outputs": [
    {
     "name": "stdout",
     "output_type": "stream",
     "text": [
      "1/1 [==============================] - 0s 37ms/step\n"
     ]
    },
    {
     "data": {
      "text/plain": [
       "array([7], dtype=int64)"
      ]
     },
     "execution_count": 34,
     "metadata": {},
     "output_type": "execute_result"
    }
   ],
   "source": [
    "model.predict(X_test[0].reshape(1,28,28)).argmax(axis=1)#this is another way to predict single data"
   ]
  },
  {
   "cell_type": "code",
   "execution_count": 35,
   "id": "70482dd3",
   "metadata": {},
   "outputs": [
    {
     "name": "stdout",
     "output_type": "stream",
     "text": [
      "1/1 [==============================] - 0s 38ms/step\n"
     ]
    },
    {
     "data": {
      "text/plain": [
       "array([1], dtype=int64)"
      ]
     },
     "execution_count": 35,
     "metadata": {},
     "output_type": "execute_result"
    }
   ],
   "source": [
    "model.predict(X_test[2].reshape(1,28,28)).argmax(axis=1)"
   ]
  },
  {
   "cell_type": "code",
   "execution_count": 36,
   "id": "1c14d224",
   "metadata": {},
   "outputs": [
    {
     "data": {
      "text/plain": [
       "<matplotlib.image.AxesImage at 0x105e3fb7d50>"
      ]
     },
     "execution_count": 36,
     "metadata": {},
     "output_type": "execute_result"
    },
    {
     "data": {
      "image/png": "[encoded data removed]",
      "text/plain": [
       "<Figure size 640x480 with 1 Axes>"
      ]
     },
     "metadata": {},
     "output_type": "display_data"
    }
   ],
   "source": [
    "plt.imshow(X_test[2])"
   ]
  },
  {
   "cell_type": "markdown",
   "id": "db7287fa",
   "metadata": {},
   "source": [
    "# CNN perform excellent on image data"
   ]
  },
  {
   "cell_type": "code",
   "execution_count": null,
   "id": "3683fc82",
   "metadata": {},
   "outputs": [],
   "source": []
  }
 ],
 "metadata": {
  "kernelspec": {
   "display_name": "Python 3 (ipykernel)",
   "language": "python",
   "name": "python3"
  },
  "language_info": {
   "codemirror_mode": {
    "name": "ipython",
    "version": 3
   },
   "file_extension": ".py",
   "mimetype": "text/x-python",
   "name": "python",
   "nbconvert_exporter": "python",
   "pygments_lexer": "ipython3",
   "version": "3.11.4"
  }
 },
 "nbformat": 4,
 "nbformat_minor": 5
}
