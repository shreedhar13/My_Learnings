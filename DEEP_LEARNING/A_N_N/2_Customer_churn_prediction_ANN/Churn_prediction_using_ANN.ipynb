{
 "cells": [
  {
   "cell_type": "markdown",
   "metadata": {},
   "source": [
    "# knowing which customer are likely to leave or unsubscribe from your service\n",
    "in this case we use Bank churn prediction fro many companies this is an important prediction ,bcz acquiring new customers often costs more than retaining existing one"
   ]
  },
  {
   "cell_type": "code",
   "execution_count": 1,
   "metadata": {},
   "outputs": [],
   "source": [
    "import pandas as pd\n",
    "import numpy as np"
   ]
  },
  {
   "cell_type": "code",
   "execution_count": 2,
   "metadata": {
    "execution": {
     "iopub.execute_input": "2023-10-11T11:24:27.571244Z",
     "iopub.status.busy": "2023-10-11T11:24:27.570778Z",
     "iopub.status.idle": "2023-10-11T11:24:27.647315Z",
     "shell.execute_reply": "2023-10-11T11:24:27.646100Z",
     "shell.execute_reply.started": "2023-10-11T11:24:27.571213Z"
    }
   },
   "outputs": [
    {
     "data": {
      "text/html": [
       "<div>\n",
       "<style scoped>\n",
       "    .dataframe tbody tr th:only-of-type {\n",
       "        vertical-align: middle;\n",
       "    }\n",
       "\n",
       "    .dataframe tbody tr th {\n",
       "        vertical-align: top;\n",
       "    }\n",
       "\n",
       "    .dataframe thead th {\n",
       "        text-align: right;\n",
       "    }\n",
       "</style>\n",
       "<table border=\"1\" class=\"dataframe\">\n",
       "  <thead>\n",
       "    <tr style=\"text-align: right;\">\n",
       "      <th></th>\n",
       "      <th>RowNumber</th>\n",
       "      <th>CustomerId</th>\n",
       "      <th>Surname</th>\n",
       "      <th>CreditScore</th>\n",
       "      <th>Geography</th>\n",
       "      <th>Gender</th>\n",
       "      <th>Age</th>\n",
       "      <th>Tenure</th>\n",
       "      <th>Balance</th>\n",
       "      <th>NumOfProducts</th>\n",
       "      <th>HasCrCard</th>\n",
       "      <th>IsActiveMember</th>\n",
       "      <th>EstimatedSalary</th>\n",
       "      <th>Exited</th>\n",
       "    </tr>\n",
       "  </thead>\n",
       "  <tbody>\n",
       "    <tr>\n",
       "      <th>0</th>\n",
       "      <td>1</td>\n",
       "      <td>15634602</td>\n",
       "      <td>Hargrave</td>\n",
       "      <td>619</td>\n",
       "      <td>France</td>\n",
       "      <td>Female</td>\n",
       "      <td>42</td>\n",
       "      <td>2</td>\n",
       "      <td>0.00</td>\n",
       "      <td>1</td>\n",
       "      <td>1</td>\n",
       "      <td>1</td>\n",
       "      <td>101348.88</td>\n",
       "      <td>1</td>\n",
       "    </tr>\n",
       "    <tr>\n",
       "      <th>1</th>\n",
       "      <td>2</td>\n",
       "      <td>15647311</td>\n",
       "      <td>Hill</td>\n",
       "      <td>608</td>\n",
       "      <td>Spain</td>\n",
       "      <td>Female</td>\n",
       "      <td>41</td>\n",
       "      <td>1</td>\n",
       "      <td>83807.86</td>\n",
       "      <td>1</td>\n",
       "      <td>0</td>\n",
       "      <td>1</td>\n",
       "      <td>112542.58</td>\n",
       "      <td>0</td>\n",
       "    </tr>\n",
       "    <tr>\n",
       "      <th>2</th>\n",
       "      <td>3</td>\n",
       "      <td>15619304</td>\n",
       "      <td>Onio</td>\n",
       "      <td>502</td>\n",
       "      <td>France</td>\n",
       "      <td>Female</td>\n",
       "      <td>42</td>\n",
       "      <td>8</td>\n",
       "      <td>159660.80</td>\n",
       "      <td>3</td>\n",
       "      <td>1</td>\n",
       "      <td>0</td>\n",
       "      <td>113931.57</td>\n",
       "      <td>1</td>\n",
       "    </tr>\n",
       "    <tr>\n",
       "      <th>3</th>\n",
       "      <td>4</td>\n",
       "      <td>15701354</td>\n",
       "      <td>Boni</td>\n",
       "      <td>699</td>\n",
       "      <td>France</td>\n",
       "      <td>Female</td>\n",
       "      <td>39</td>\n",
       "      <td>1</td>\n",
       "      <td>0.00</td>\n",
       "      <td>2</td>\n",
       "      <td>0</td>\n",
       "      <td>0</td>\n",
       "      <td>93826.63</td>\n",
       "      <td>0</td>\n",
       "    </tr>\n",
       "    <tr>\n",
       "      <th>4</th>\n",
       "      <td>5</td>\n",
       "      <td>15737888</td>\n",
       "      <td>Mitchell</td>\n",
       "      <td>850</td>\n",
       "      <td>Spain</td>\n",
       "      <td>Female</td>\n",
       "      <td>43</td>\n",
       "      <td>2</td>\n",
       "      <td>125510.82</td>\n",
       "      <td>1</td>\n",
       "      <td>1</td>\n",
       "      <td>1</td>\n",
       "      <td>79084.10</td>\n",
       "      <td>0</td>\n",
       "    </tr>\n",
       "  </tbody>\n",
       "</table>\n",
       "</div>"
      ],
      "text/plain": [
       "   RowNumber  CustomerId   Surname  CreditScore Geography  Gender  Age  \\\n",
       "0          1    15634602  Hargrave          619    France  Female   42   \n",
       "1          2    15647311      Hill          608     Spain  Female   41   \n",
       "2          3    15619304      Onio          502    France  Female   42   \n",
       "3          4    15701354      Boni          699    France  Female   39   \n",
       "4          5    15737888  Mitchell          850     Spain  Female   43   \n",
       "\n",
       "   Tenure    Balance  NumOfProducts  HasCrCard  IsActiveMember  \\\n",
       "0       2       0.00              1          1               1   \n",
       "1       1   83807.86              1          0               1   \n",
       "2       8  159660.80              3          1               0   \n",
       "3       1       0.00              2          0               0   \n",
       "4       2  125510.82              1          1               1   \n",
       "\n",
       "   EstimatedSalary  Exited  \n",
       "0        101348.88       1  \n",
       "1        112542.58       0  \n",
       "2        113931.57       1  \n",
       "3         93826.63       0  \n",
       "4         79084.10       0  "
      ]
     },
     "execution_count": 2,
     "metadata": {},
     "output_type": "execute_result"
    }
   ],
   "source": [
    "#bcz,,we have not yet installed Tenserflow(keras) so that we are working on kaggle ,,bcz it has cloud ,tenserflow(keras) and all library related to AI are already installed\n",
    "#after installing it you can replace this path with \"D:\\DEEP_LEARNING\\Customer_churn_prediction\\Churn_Modelling.csv\"\n",
    "df=pd.read_csv(r\"D:\\DEEP_LEARNING\\A_N_N\\2_Customer_churn_prediction_ANN\\Churn_Modelling.csv\")\n",
    "df.head()"
   ]
  },
  {
   "cell_type": "code",
   "execution_count": 3,
   "metadata": {
    "execution": {
     "iopub.execute_input": "2023-10-11T11:24:27.649677Z",
     "iopub.status.busy": "2023-10-11T11:24:27.648829Z",
     "iopub.status.idle": "2023-10-11T11:24:27.654273Z",
     "shell.execute_reply": "2023-10-11T11:24:27.653133Z",
     "shell.execute_reply.started": "2023-10-11T11:24:27.649641Z"
    }
   },
   "outputs": [],
   "source": [
    "#bcz now our goal is to observe how tenserfloe(keras ) works so no need to deep dive into problem statement"
   ]
  },
  {
   "cell_type": "code",
   "execution_count": 4,
   "metadata": {
    "execution": {
     "iopub.execute_input": "2023-10-11T11:24:27.656979Z",
     "iopub.status.busy": "2023-10-11T11:24:27.656653Z",
     "iopub.status.idle": "2023-10-11T11:24:27.699408Z",
     "shell.execute_reply": "2023-10-11T11:24:27.698312Z",
     "shell.execute_reply.started": "2023-10-11T11:24:27.656952Z"
    }
   },
   "outputs": [
    {
     "name": "stdout",
     "output_type": "stream",
     "text": [
      "<class 'pandas.core.frame.DataFrame'>\n",
      "RangeIndex: 10000 entries, 0 to 9999\n",
      "Data columns (total 14 columns):\n",
      " #   Column           Non-Null Count  Dtype  \n",
      "---  ------           --------------  -----  \n",
      " 0   RowNumber        10000 non-null  int64  \n",
      " 1   CustomerId       10000 non-null  int64  \n",
      " 2   Surname          10000 non-null  object \n",
      " 3   CreditScore      10000 non-null  int64  \n",
      " 4   Geography        10000 non-null  object \n",
      " 5   Gender           10000 non-null  object \n",
      " 6   Age              10000 non-null  int64  \n",
      " 7   Tenure           10000 non-null  int64  \n",
      " 8   Balance          10000 non-null  float64\n",
      " 9   NumOfProducts    10000 non-null  int64  \n",
      " 10  HasCrCard        10000 non-null  int64  \n",
      " 11  IsActiveMember   10000 non-null  int64  \n",
      " 12  EstimatedSalary  10000 non-null  float64\n",
      " 13  Exited           10000 non-null  int64  \n",
      "dtypes: float64(2), int64(9), object(3)\n",
      "memory usage: 1.1+ MB\n"
     ]
    }
   ],
   "source": [
    "df.info()"
   ]
  },
  {
   "cell_type": "code",
   "execution_count": 5,
   "metadata": {},
   "outputs": [
    {
     "data": {
      "text/html": [
       "<div>\n",
       "<style scoped>\n",
       "    .dataframe tbody tr th:only-of-type {\n",
       "        vertical-align: middle;\n",
       "    }\n",
       "\n",
       "    .dataframe tbody tr th {\n",
       "        vertical-align: top;\n",
       "    }\n",
       "\n",
       "    .dataframe thead th {\n",
       "        text-align: right;\n",
       "    }\n",
       "</style>\n",
       "<table border=\"1\" class=\"dataframe\">\n",
       "  <thead>\n",
       "    <tr style=\"text-align: right;\">\n",
       "      <th></th>\n",
       "      <th>RowNumber</th>\n",
       "      <th>CustomerId</th>\n",
       "      <th>CreditScore</th>\n",
       "      <th>Age</th>\n",
       "      <th>Tenure</th>\n",
       "      <th>Balance</th>\n",
       "      <th>NumOfProducts</th>\n",
       "      <th>HasCrCard</th>\n",
       "      <th>IsActiveMember</th>\n",
       "      <th>EstimatedSalary</th>\n",
       "      <th>Exited</th>\n",
       "    </tr>\n",
       "  </thead>\n",
       "  <tbody>\n",
       "    <tr>\n",
       "      <th>count</th>\n",
       "      <td>10000.00000</td>\n",
       "      <td>1.000000e+04</td>\n",
       "      <td>10000.000000</td>\n",
       "      <td>10000.000000</td>\n",
       "      <td>10000.000000</td>\n",
       "      <td>10000.000000</td>\n",
       "      <td>10000.000000</td>\n",
       "      <td>10000.00000</td>\n",
       "      <td>10000.000000</td>\n",
       "      <td>10000.000000</td>\n",
       "      <td>10000.000000</td>\n",
       "    </tr>\n",
       "    <tr>\n",
       "      <th>mean</th>\n",
       "      <td>5000.50000</td>\n",
       "      <td>1.569094e+07</td>\n",
       "      <td>650.528800</td>\n",
       "      <td>38.921800</td>\n",
       "      <td>5.012800</td>\n",
       "      <td>76485.889288</td>\n",
       "      <td>1.530200</td>\n",
       "      <td>0.70550</td>\n",
       "      <td>0.515100</td>\n",
       "      <td>100090.239881</td>\n",
       "      <td>0.203700</td>\n",
       "    </tr>\n",
       "    <tr>\n",
       "      <th>std</th>\n",
       "      <td>2886.89568</td>\n",
       "      <td>7.193619e+04</td>\n",
       "      <td>96.653299</td>\n",
       "      <td>10.487806</td>\n",
       "      <td>2.892174</td>\n",
       "      <td>62397.405202</td>\n",
       "      <td>0.581654</td>\n",
       "      <td>0.45584</td>\n",
       "      <td>0.499797</td>\n",
       "      <td>57510.492818</td>\n",
       "      <td>0.402769</td>\n",
       "    </tr>\n",
       "    <tr>\n",
       "      <th>min</th>\n",
       "      <td>1.00000</td>\n",
       "      <td>1.556570e+07</td>\n",
       "      <td>350.000000</td>\n",
       "      <td>18.000000</td>\n",
       "      <td>0.000000</td>\n",
       "      <td>0.000000</td>\n",
       "      <td>1.000000</td>\n",
       "      <td>0.00000</td>\n",
       "      <td>0.000000</td>\n",
       "      <td>11.580000</td>\n",
       "      <td>0.000000</td>\n",
       "    </tr>\n",
       "    <tr>\n",
       "      <th>25%</th>\n",
       "      <td>2500.75000</td>\n",
       "      <td>1.562853e+07</td>\n",
       "      <td>584.000000</td>\n",
       "      <td>32.000000</td>\n",
       "      <td>3.000000</td>\n",
       "      <td>0.000000</td>\n",
       "      <td>1.000000</td>\n",
       "      <td>0.00000</td>\n",
       "      <td>0.000000</td>\n",
       "      <td>51002.110000</td>\n",
       "      <td>0.000000</td>\n",
       "    </tr>\n",
       "    <tr>\n",
       "      <th>50%</th>\n",
       "      <td>5000.50000</td>\n",
       "      <td>1.569074e+07</td>\n",
       "      <td>652.000000</td>\n",
       "      <td>37.000000</td>\n",
       "      <td>5.000000</td>\n",
       "      <td>97198.540000</td>\n",
       "      <td>1.000000</td>\n",
       "      <td>1.00000</td>\n",
       "      <td>1.000000</td>\n",
       "      <td>100193.915000</td>\n",
       "      <td>0.000000</td>\n",
       "    </tr>\n",
       "    <tr>\n",
       "      <th>75%</th>\n",
       "      <td>7500.25000</td>\n",
       "      <td>1.575323e+07</td>\n",
       "      <td>718.000000</td>\n",
       "      <td>44.000000</td>\n",
       "      <td>7.000000</td>\n",
       "      <td>127644.240000</td>\n",
       "      <td>2.000000</td>\n",
       "      <td>1.00000</td>\n",
       "      <td>1.000000</td>\n",
       "      <td>149388.247500</td>\n",
       "      <td>0.000000</td>\n",
       "    </tr>\n",
       "    <tr>\n",
       "      <th>max</th>\n",
       "      <td>10000.00000</td>\n",
       "      <td>1.581569e+07</td>\n",
       "      <td>850.000000</td>\n",
       "      <td>92.000000</td>\n",
       "      <td>10.000000</td>\n",
       "      <td>250898.090000</td>\n",
       "      <td>4.000000</td>\n",
       "      <td>1.00000</td>\n",
       "      <td>1.000000</td>\n",
       "      <td>199992.480000</td>\n",
       "      <td>1.000000</td>\n",
       "    </tr>\n",
       "  </tbody>\n",
       "</table>\n",
       "</div>"
      ],
      "text/plain": [
       "         RowNumber    CustomerId   CreditScore           Age        Tenure  \\\n",
       "count  10000.00000  1.000000e+04  10000.000000  10000.000000  10000.000000   \n",
       "mean    5000.50000  1.569094e+07    650.528800     38.921800      5.012800   \n",
       "std     2886.89568  7.193619e+04     96.653299     10.487806      2.892174   \n",
       "min        1.00000  1.556570e+07    350.000000     18.000000      0.000000   \n",
       "25%     2500.75000  1.562853e+07    584.000000     32.000000      3.000000   \n",
       "50%     5000.50000  1.569074e+07    652.000000     37.000000      5.000000   \n",
       "75%     7500.25000  1.575323e+07    718.000000     44.000000      7.000000   \n",
       "max    10000.00000  1.581569e+07    850.000000     92.000000     10.000000   \n",
       "\n",
       "             Balance  NumOfProducts    HasCrCard  IsActiveMember  \\\n",
       "count   10000.000000   10000.000000  10000.00000    10000.000000   \n",
       "mean    76485.889288       1.530200      0.70550        0.515100   \n",
       "std     62397.405202       0.581654      0.45584        0.499797   \n",
       "min         0.000000       1.000000      0.00000        0.000000   \n",
       "25%         0.000000       1.000000      0.00000        0.000000   \n",
       "50%     97198.540000       1.000000      1.00000        1.000000   \n",
       "75%    127644.240000       2.000000      1.00000        1.000000   \n",
       "max    250898.090000       4.000000      1.00000        1.000000   \n",
       "\n",
       "       EstimatedSalary        Exited  \n",
       "count     10000.000000  10000.000000  \n",
       "mean     100090.239881      0.203700  \n",
       "std       57510.492818      0.402769  \n",
       "min          11.580000      0.000000  \n",
       "25%       51002.110000      0.000000  \n",
       "50%      100193.915000      0.000000  \n",
       "75%      149388.247500      0.000000  \n",
       "max      199992.480000      1.000000  "
      ]
     },
     "execution_count": 5,
     "metadata": {},
     "output_type": "execute_result"
    }
   ],
   "source": [
    "df.describe()"
   ]
  },
  {
   "cell_type": "code",
   "execution_count": 6,
   "metadata": {
    "execution": {
     "iopub.execute_input": "2023-10-11T11:24:27.701999Z",
     "iopub.status.busy": "2023-10-11T11:24:27.701022Z",
     "iopub.status.idle": "2023-10-11T11:24:27.706921Z",
     "shell.execute_reply": "2023-10-11T11:24:27.705573Z",
     "shell.execute_reply.started": "2023-10-11T11:24:27.701956Z"
    }
   },
   "outputs": [],
   "source": [
    "#no missing values"
   ]
  },
  {
   "cell_type": "code",
   "execution_count": 7,
   "metadata": {},
   "outputs": [
    {
     "data": {
      "text/plain": [
       "0       False\n",
       "1       False\n",
       "2       False\n",
       "3       False\n",
       "4       False\n",
       "        ...  \n",
       "9995    False\n",
       "9996    False\n",
       "9997    False\n",
       "9998    False\n",
       "9999    False\n",
       "Length: 10000, dtype: bool"
      ]
     },
     "execution_count": 7,
     "metadata": {},
     "output_type": "execute_result"
    }
   ],
   "source": [
    "df.duplicated()"
   ]
  },
  {
   "cell_type": "code",
   "execution_count": 8,
   "metadata": {
    "execution": {
     "iopub.execute_input": "2023-10-11T11:24:27.708825Z",
     "iopub.status.busy": "2023-10-11T11:24:27.708031Z",
     "iopub.status.idle": "2023-10-11T11:24:27.734880Z",
     "shell.execute_reply": "2023-10-11T11:24:27.733645Z",
     "shell.execute_reply.started": "2023-10-11T11:24:27.708797Z"
    }
   },
   "outputs": [
    {
     "data": {
      "text/plain": [
       "0"
      ]
     },
     "execution_count": 8,
     "metadata": {},
     "output_type": "execute_result"
    }
   ],
   "source": [
    "df.duplicated().sum()\n",
    "#check,,whether duplicate rows are present in dataset"
   ]
  },
  {
   "cell_type": "code",
   "execution_count": 9,
   "metadata": {
    "execution": {
     "iopub.execute_input": "2023-10-11T11:24:27.737224Z",
     "iopub.status.busy": "2023-10-11T11:24:27.736290Z",
     "iopub.status.idle": "2023-10-11T11:24:27.744461Z",
     "shell.execute_reply": "2023-10-11T11:24:27.743456Z",
     "shell.execute_reply.started": "2023-10-11T11:24:27.737193Z"
    }
   },
   "outputs": [
    {
     "data": {
      "text/plain": [
       "0    7963\n",
       "1    2037\n",
       "Name: Exited, dtype: int64"
      ]
     },
     "execution_count": 9,
     "metadata": {},
     "output_type": "execute_result"
    }
   ],
   "source": [
    "df['Exited'].value_counts()\n",
    "#   7963 customers are not exited bank ,  2037 customers are exited the company\n",
    "#imbalance classification,,,,problem\n",
    "#but we are learning Tenserflow working,,so not doing any feature engg and EDA"
   ]
  },
  {
   "cell_type": "code",
   "execution_count": 10,
   "metadata": {
    "execution": {
     "iopub.execute_input": "2023-10-11T11:24:27.746985Z",
     "iopub.status.busy": "2023-10-11T11:24:27.745938Z",
     "iopub.status.idle": "2023-10-11T11:24:27.757091Z",
     "shell.execute_reply": "2023-10-11T11:24:27.755917Z",
     "shell.execute_reply.started": "2023-10-11T11:24:27.746937Z"
    }
   },
   "outputs": [],
   "source": [
    "# as u see 'RowNumber\tCustomerId\tSurname' is not important to check that particular customer leave bank or not\n",
    "#so u can drop them"
   ]
  },
  {
   "cell_type": "code",
   "execution_count": 11,
   "metadata": {
    "execution": {
     "iopub.execute_input": "2023-10-11T11:24:27.759016Z",
     "iopub.status.busy": "2023-10-11T11:24:27.758274Z",
     "iopub.status.idle": "2023-10-11T11:24:27.785859Z",
     "shell.execute_reply": "2023-10-11T11:24:27.784544Z",
     "shell.execute_reply.started": "2023-10-11T11:24:27.758985Z"
    }
   },
   "outputs": [
    {
     "data": {
      "text/html": [
       "<div>\n",
       "<style scoped>\n",
       "    .dataframe tbody tr th:only-of-type {\n",
       "        vertical-align: middle;\n",
       "    }\n",
       "\n",
       "    .dataframe tbody tr th {\n",
       "        vertical-align: top;\n",
       "    }\n",
       "\n",
       "    .dataframe thead th {\n",
       "        text-align: right;\n",
       "    }\n",
       "</style>\n",
       "<table border=\"1\" class=\"dataframe\">\n",
       "  <thead>\n",
       "    <tr style=\"text-align: right;\">\n",
       "      <th></th>\n",
       "      <th>CreditScore</th>\n",
       "      <th>Geography</th>\n",
       "      <th>Gender</th>\n",
       "      <th>Age</th>\n",
       "      <th>Tenure</th>\n",
       "      <th>Balance</th>\n",
       "      <th>NumOfProducts</th>\n",
       "      <th>HasCrCard</th>\n",
       "      <th>IsActiveMember</th>\n",
       "      <th>EstimatedSalary</th>\n",
       "      <th>Exited</th>\n",
       "    </tr>\n",
       "  </thead>\n",
       "  <tbody>\n",
       "    <tr>\n",
       "      <th>0</th>\n",
       "      <td>619</td>\n",
       "      <td>France</td>\n",
       "      <td>Female</td>\n",
       "      <td>42</td>\n",
       "      <td>2</td>\n",
       "      <td>0.00</td>\n",
       "      <td>1</td>\n",
       "      <td>1</td>\n",
       "      <td>1</td>\n",
       "      <td>101348.88</td>\n",
       "      <td>1</td>\n",
       "    </tr>\n",
       "    <tr>\n",
       "      <th>1</th>\n",
       "      <td>608</td>\n",
       "      <td>Spain</td>\n",
       "      <td>Female</td>\n",
       "      <td>41</td>\n",
       "      <td>1</td>\n",
       "      <td>83807.86</td>\n",
       "      <td>1</td>\n",
       "      <td>0</td>\n",
       "      <td>1</td>\n",
       "      <td>112542.58</td>\n",
       "      <td>0</td>\n",
       "    </tr>\n",
       "    <tr>\n",
       "      <th>2</th>\n",
       "      <td>502</td>\n",
       "      <td>France</td>\n",
       "      <td>Female</td>\n",
       "      <td>42</td>\n",
       "      <td>8</td>\n",
       "      <td>159660.80</td>\n",
       "      <td>3</td>\n",
       "      <td>1</td>\n",
       "      <td>0</td>\n",
       "      <td>113931.57</td>\n",
       "      <td>1</td>\n",
       "    </tr>\n",
       "    <tr>\n",
       "      <th>3</th>\n",
       "      <td>699</td>\n",
       "      <td>France</td>\n",
       "      <td>Female</td>\n",
       "      <td>39</td>\n",
       "      <td>1</td>\n",
       "      <td>0.00</td>\n",
       "      <td>2</td>\n",
       "      <td>0</td>\n",
       "      <td>0</td>\n",
       "      <td>93826.63</td>\n",
       "      <td>0</td>\n",
       "    </tr>\n",
       "    <tr>\n",
       "      <th>4</th>\n",
       "      <td>850</td>\n",
       "      <td>Spain</td>\n",
       "      <td>Female</td>\n",
       "      <td>43</td>\n",
       "      <td>2</td>\n",
       "      <td>125510.82</td>\n",
       "      <td>1</td>\n",
       "      <td>1</td>\n",
       "      <td>1</td>\n",
       "      <td>79084.10</td>\n",
       "      <td>0</td>\n",
       "    </tr>\n",
       "  </tbody>\n",
       "</table>\n",
       "</div>"
      ],
      "text/plain": [
       "   CreditScore Geography  Gender  Age  Tenure    Balance  NumOfProducts  \\\n",
       "0          619    France  Female   42       2       0.00              1   \n",
       "1          608     Spain  Female   41       1   83807.86              1   \n",
       "2          502    France  Female   42       8  159660.80              3   \n",
       "3          699    France  Female   39       1       0.00              2   \n",
       "4          850     Spain  Female   43       2  125510.82              1   \n",
       "\n",
       "   HasCrCard  IsActiveMember  EstimatedSalary  Exited  \n",
       "0          1               1        101348.88       1  \n",
       "1          0               1        112542.58       0  \n",
       "2          1               0        113931.57       1  \n",
       "3          0               0         93826.63       0  \n",
       "4          1               1         79084.10       0  "
      ]
     },
     "execution_count": 11,
     "metadata": {},
     "output_type": "execute_result"
    }
   ],
   "source": [
    "df.drop(columns=['RowNumber','CustomerId','Surname'],inplace=True)\n",
    "df.head()"
   ]
  },
  {
   "cell_type": "code",
   "execution_count": 12,
   "metadata": {
    "execution": {
     "iopub.execute_input": "2023-10-11T11:24:27.789495Z",
     "iopub.status.busy": "2023-10-11T11:24:27.788879Z",
     "iopub.status.idle": "2023-10-11T11:24:27.793800Z",
     "shell.execute_reply": "2023-10-11T11:24:27.792452Z",
     "shell.execute_reply.started": "2023-10-11T11:24:27.789462Z"
    }
   },
   "outputs": [],
   "source": [
    "#we want numerical value,,Geography,Gender are catogarical var,so convert them in to Number by \n",
    "#ONE_HOT_ENCODING"
   ]
  },
  {
   "cell_type": "code",
   "execution_count": 13,
   "metadata": {
    "execution": {
     "iopub.execute_input": "2023-10-11T11:24:27.795534Z",
     "iopub.status.busy": "2023-10-11T11:24:27.795214Z",
     "iopub.status.idle": "2023-10-11T11:24:27.825156Z",
     "shell.execute_reply": "2023-10-11T11:24:27.824189Z",
     "shell.execute_reply.started": "2023-10-11T11:24:27.795507Z"
    }
   },
   "outputs": [
    {
     "data": {
      "text/html": [
       "<div>\n",
       "<style scoped>\n",
       "    .dataframe tbody tr th:only-of-type {\n",
       "        vertical-align: middle;\n",
       "    }\n",
       "\n",
       "    .dataframe tbody tr th {\n",
       "        vertical-align: top;\n",
       "    }\n",
       "\n",
       "    .dataframe thead th {\n",
       "        text-align: right;\n",
       "    }\n",
       "</style>\n",
       "<table border=\"1\" class=\"dataframe\">\n",
       "  <thead>\n",
       "    <tr style=\"text-align: right;\">\n",
       "      <th></th>\n",
       "      <th>CreditScore</th>\n",
       "      <th>Age</th>\n",
       "      <th>Tenure</th>\n",
       "      <th>Balance</th>\n",
       "      <th>NumOfProducts</th>\n",
       "      <th>HasCrCard</th>\n",
       "      <th>IsActiveMember</th>\n",
       "      <th>EstimatedSalary</th>\n",
       "      <th>Exited</th>\n",
       "      <th>Geography_Germany</th>\n",
       "      <th>Geography_Spain</th>\n",
       "      <th>Gender_Male</th>\n",
       "    </tr>\n",
       "  </thead>\n",
       "  <tbody>\n",
       "    <tr>\n",
       "      <th>0</th>\n",
       "      <td>619</td>\n",
       "      <td>42</td>\n",
       "      <td>2</td>\n",
       "      <td>0.00</td>\n",
       "      <td>1</td>\n",
       "      <td>1</td>\n",
       "      <td>1</td>\n",
       "      <td>101348.88</td>\n",
       "      <td>1</td>\n",
       "      <td>0</td>\n",
       "      <td>0</td>\n",
       "      <td>0</td>\n",
       "    </tr>\n",
       "    <tr>\n",
       "      <th>1</th>\n",
       "      <td>608</td>\n",
       "      <td>41</td>\n",
       "      <td>1</td>\n",
       "      <td>83807.86</td>\n",
       "      <td>1</td>\n",
       "      <td>0</td>\n",
       "      <td>1</td>\n",
       "      <td>112542.58</td>\n",
       "      <td>0</td>\n",
       "      <td>0</td>\n",
       "      <td>1</td>\n",
       "      <td>0</td>\n",
       "    </tr>\n",
       "    <tr>\n",
       "      <th>2</th>\n",
       "      <td>502</td>\n",
       "      <td>42</td>\n",
       "      <td>8</td>\n",
       "      <td>159660.80</td>\n",
       "      <td>3</td>\n",
       "      <td>1</td>\n",
       "      <td>0</td>\n",
       "      <td>113931.57</td>\n",
       "      <td>1</td>\n",
       "      <td>0</td>\n",
       "      <td>0</td>\n",
       "      <td>0</td>\n",
       "    </tr>\n",
       "    <tr>\n",
       "      <th>3</th>\n",
       "      <td>699</td>\n",
       "      <td>39</td>\n",
       "      <td>1</td>\n",
       "      <td>0.00</td>\n",
       "      <td>2</td>\n",
       "      <td>0</td>\n",
       "      <td>0</td>\n",
       "      <td>93826.63</td>\n",
       "      <td>0</td>\n",
       "      <td>0</td>\n",
       "      <td>0</td>\n",
       "      <td>0</td>\n",
       "    </tr>\n",
       "    <tr>\n",
       "      <th>4</th>\n",
       "      <td>850</td>\n",
       "      <td>43</td>\n",
       "      <td>2</td>\n",
       "      <td>125510.82</td>\n",
       "      <td>1</td>\n",
       "      <td>1</td>\n",
       "      <td>1</td>\n",
       "      <td>79084.10</td>\n",
       "      <td>0</td>\n",
       "      <td>0</td>\n",
       "      <td>1</td>\n",
       "      <td>0</td>\n",
       "    </tr>\n",
       "  </tbody>\n",
       "</table>\n",
       "</div>"
      ],
      "text/plain": [
       "   CreditScore  Age  Tenure    Balance  NumOfProducts  HasCrCard  \\\n",
       "0          619   42       2       0.00              1          1   \n",
       "1          608   41       1   83807.86              1          0   \n",
       "2          502   42       8  159660.80              3          1   \n",
       "3          699   39       1       0.00              2          0   \n",
       "4          850   43       2  125510.82              1          1   \n",
       "\n",
       "   IsActiveMember  EstimatedSalary  Exited  Geography_Germany  \\\n",
       "0               1        101348.88       1                  0   \n",
       "1               1        112542.58       0                  0   \n",
       "2               0        113931.57       1                  0   \n",
       "3               0         93826.63       0                  0   \n",
       "4               1         79084.10       0                  0   \n",
       "\n",
       "   Geography_Spain  Gender_Male  \n",
       "0                0            0  \n",
       "1                1            0  \n",
       "2                0            0  \n",
       "3                0            0  \n",
       "4                1            0  "
      ]
     },
     "execution_count": 13,
     "metadata": {},
     "output_type": "execute_result"
    }
   ],
   "source": [
    "df=pd.get_dummies(df,columns=['Geography','Gender'],drop_first=True)\n",
    "df.head()\n",
    "#drop_first=True-->Geography has 3 class France,Germany,Spain so,Geography_France,Geography_Germany,\n",
    "#Geography_Spain is created and Geography_France droped bcz ,if Geography_Germany,Geography_Spain\n",
    "#are False then Geography should be France...so drop 1st dummie feature\n",
    "#same for Gender,,,Gender_female is droped,,bcz if Gender_male is False then Gender is female\n"
   ]
  },
  {
   "cell_type": "code",
   "execution_count": 14,
   "metadata": {
    "execution": {
     "iopub.execute_input": "2023-10-11T11:24:27.826963Z",
     "iopub.status.busy": "2023-10-11T11:24:27.826150Z",
     "iopub.status.idle": "2023-10-11T11:24:27.830496Z",
     "shell.execute_reply": "2023-10-11T11:24:27.829534Z",
     "shell.execute_reply.started": "2023-10-11T11:24:27.826934Z"
    }
   },
   "outputs": [],
   "source": [
    "# bcz all data is in numerical form so we are ready for build our DL model\n",
    "#but,,wait----->feature scaling is required broo.."
   ]
  },
  {
   "cell_type": "code",
   "execution_count": 15,
   "metadata": {
    "execution": {
     "iopub.execute_input": "2023-10-11T11:24:27.832209Z",
     "iopub.status.busy": "2023-10-11T11:24:27.831684Z",
     "iopub.status.idle": "2023-10-11T11:24:27.845914Z",
     "shell.execute_reply": "2023-10-11T11:24:27.844925Z",
     "shell.execute_reply.started": "2023-10-11T11:24:27.832181Z"
    }
   },
   "outputs": [],
   "source": [
    "#bcz,some values are in more digit and some are in one digit,,some are in 3 digit ...etc\n",
    "#therfore while training the model ,,values are not converged correctly and fastly soo,,feature scaling is must in NN\n",
    "#so while creating Neural Network u must scale the feature\n",
    "#Note-->feature scaling done on INDEPENDENT NUMERICAL FEATURES(so if any independent feature \n",
    "#is categorical then convert it to numeric by one-hot-encoding)"
   ]
  },
  {
   "cell_type": "code",
   "execution_count": 16,
   "metadata": {
    "execution": {
     "iopub.execute_input": "2023-10-11T11:24:27.847668Z",
     "iopub.status.busy": "2023-10-11T11:24:27.847232Z",
     "iopub.status.idle": "2023-10-11T11:24:29.395996Z",
     "shell.execute_reply": "2023-10-11T11:24:29.394763Z",
     "shell.execute_reply.started": "2023-10-11T11:24:27.847637Z"
    }
   },
   "outputs": [],
   "source": [
    "X=df.drop(columns=['Exited'])#df.ilkoc[:,:-1]\n",
    "y=df['Exited']#df.iloc[:,-1]\n",
    "from sklearn.model_selection import train_test_split\n",
    "X_train,X_test,y_train,y_test=train_test_split(X,y,test_size=0.2,random_state=1)"
   ]
  },
  {
   "cell_type": "code",
   "execution_count": 17,
   "metadata": {
    "execution": {
     "iopub.execute_input": "2023-10-11T11:24:29.398488Z",
     "iopub.status.busy": "2023-10-11T11:24:29.397734Z",
     "iopub.status.idle": "2023-10-11T11:24:29.445728Z",
     "shell.execute_reply": "2023-10-11T11:24:29.444614Z",
     "shell.execute_reply.started": "2023-10-11T11:24:29.398443Z"
    }
   },
   "outputs": [
    {
     "data": {
      "text/html": [
       "<div>\n",
       "<style scoped>\n",
       "    .dataframe tbody tr th:only-of-type {\n",
       "        vertical-align: middle;\n",
       "    }\n",
       "\n",
       "    .dataframe tbody tr th {\n",
       "        vertical-align: top;\n",
       "    }\n",
       "\n",
       "    .dataframe thead th {\n",
       "        text-align: right;\n",
       "    }\n",
       "</style>\n",
       "<table border=\"1\" class=\"dataframe\">\n",
       "  <thead>\n",
       "    <tr style=\"text-align: right;\">\n",
       "      <th></th>\n",
       "      <th>CreditScore</th>\n",
       "      <th>Age</th>\n",
       "      <th>Tenure</th>\n",
       "      <th>Balance</th>\n",
       "      <th>NumOfProducts</th>\n",
       "      <th>HasCrCard</th>\n",
       "      <th>IsActiveMember</th>\n",
       "      <th>EstimatedSalary</th>\n",
       "      <th>Geography_Germany</th>\n",
       "      <th>Geography_Spain</th>\n",
       "      <th>Gender_Male</th>\n",
       "    </tr>\n",
       "  </thead>\n",
       "  <tbody>\n",
       "    <tr>\n",
       "      <th>0</th>\n",
       "      <td>619</td>\n",
       "      <td>42</td>\n",
       "      <td>2</td>\n",
       "      <td>0.00</td>\n",
       "      <td>1</td>\n",
       "      <td>1</td>\n",
       "      <td>1</td>\n",
       "      <td>101348.88</td>\n",
       "      <td>0</td>\n",
       "      <td>0</td>\n",
       "      <td>0</td>\n",
       "    </tr>\n",
       "    <tr>\n",
       "      <th>1</th>\n",
       "      <td>608</td>\n",
       "      <td>41</td>\n",
       "      <td>1</td>\n",
       "      <td>83807.86</td>\n",
       "      <td>1</td>\n",
       "      <td>0</td>\n",
       "      <td>1</td>\n",
       "      <td>112542.58</td>\n",
       "      <td>0</td>\n",
       "      <td>1</td>\n",
       "      <td>0</td>\n",
       "    </tr>\n",
       "    <tr>\n",
       "      <th>2</th>\n",
       "      <td>502</td>\n",
       "      <td>42</td>\n",
       "      <td>8</td>\n",
       "      <td>159660.80</td>\n",
       "      <td>3</td>\n",
       "      <td>1</td>\n",
       "      <td>0</td>\n",
       "      <td>113931.57</td>\n",
       "      <td>0</td>\n",
       "      <td>0</td>\n",
       "      <td>0</td>\n",
       "    </tr>\n",
       "    <tr>\n",
       "      <th>3</th>\n",
       "      <td>699</td>\n",
       "      <td>39</td>\n",
       "      <td>1</td>\n",
       "      <td>0.00</td>\n",
       "      <td>2</td>\n",
       "      <td>0</td>\n",
       "      <td>0</td>\n",
       "      <td>93826.63</td>\n",
       "      <td>0</td>\n",
       "      <td>0</td>\n",
       "      <td>0</td>\n",
       "    </tr>\n",
       "    <tr>\n",
       "      <th>4</th>\n",
       "      <td>850</td>\n",
       "      <td>43</td>\n",
       "      <td>2</td>\n",
       "      <td>125510.82</td>\n",
       "      <td>1</td>\n",
       "      <td>1</td>\n",
       "      <td>1</td>\n",
       "      <td>79084.10</td>\n",
       "      <td>0</td>\n",
       "      <td>1</td>\n",
       "      <td>0</td>\n",
       "    </tr>\n",
       "    <tr>\n",
       "      <th>...</th>\n",
       "      <td>...</td>\n",
       "      <td>...</td>\n",
       "      <td>...</td>\n",
       "      <td>...</td>\n",
       "      <td>...</td>\n",
       "      <td>...</td>\n",
       "      <td>...</td>\n",
       "      <td>...</td>\n",
       "      <td>...</td>\n",
       "      <td>...</td>\n",
       "      <td>...</td>\n",
       "    </tr>\n",
       "    <tr>\n",
       "      <th>9995</th>\n",
       "      <td>771</td>\n",
       "      <td>39</td>\n",
       "      <td>5</td>\n",
       "      <td>0.00</td>\n",
       "      <td>2</td>\n",
       "      <td>1</td>\n",
       "      <td>0</td>\n",
       "      <td>96270.64</td>\n",
       "      <td>0</td>\n",
       "      <td>0</td>\n",
       "      <td>1</td>\n",
       "    </tr>\n",
       "    <tr>\n",
       "      <th>9996</th>\n",
       "      <td>516</td>\n",
       "      <td>35</td>\n",
       "      <td>10</td>\n",
       "      <td>57369.61</td>\n",
       "      <td>1</td>\n",
       "      <td>1</td>\n",
       "      <td>1</td>\n",
       "      <td>101699.77</td>\n",
       "      <td>0</td>\n",
       "      <td>0</td>\n",
       "      <td>1</td>\n",
       "    </tr>\n",
       "    <tr>\n",
       "      <th>9997</th>\n",
       "      <td>709</td>\n",
       "      <td>36</td>\n",
       "      <td>7</td>\n",
       "      <td>0.00</td>\n",
       "      <td>1</td>\n",
       "      <td>0</td>\n",
       "      <td>1</td>\n",
       "      <td>42085.58</td>\n",
       "      <td>0</td>\n",
       "      <td>0</td>\n",
       "      <td>0</td>\n",
       "    </tr>\n",
       "    <tr>\n",
       "      <th>9998</th>\n",
       "      <td>772</td>\n",
       "      <td>42</td>\n",
       "      <td>3</td>\n",
       "      <td>75075.31</td>\n",
       "      <td>2</td>\n",
       "      <td>1</td>\n",
       "      <td>0</td>\n",
       "      <td>92888.52</td>\n",
       "      <td>1</td>\n",
       "      <td>0</td>\n",
       "      <td>1</td>\n",
       "    </tr>\n",
       "    <tr>\n",
       "      <th>9999</th>\n",
       "      <td>792</td>\n",
       "      <td>28</td>\n",
       "      <td>4</td>\n",
       "      <td>130142.79</td>\n",
       "      <td>1</td>\n",
       "      <td>1</td>\n",
       "      <td>0</td>\n",
       "      <td>38190.78</td>\n",
       "      <td>0</td>\n",
       "      <td>0</td>\n",
       "      <td>0</td>\n",
       "    </tr>\n",
       "  </tbody>\n",
       "</table>\n",
       "<p>10000 rows × 11 columns</p>\n",
       "</div>"
      ],
      "text/plain": [
       "      CreditScore  Age  Tenure    Balance  NumOfProducts  HasCrCard  \\\n",
       "0             619   42       2       0.00              1          1   \n",
       "1             608   41       1   83807.86              1          0   \n",
       "2             502   42       8  159660.80              3          1   \n",
       "3             699   39       1       0.00              2          0   \n",
       "4             850   43       2  125510.82              1          1   \n",
       "...           ...  ...     ...        ...            ...        ...   \n",
       "9995          771   39       5       0.00              2          1   \n",
       "9996          516   35      10   57369.61              1          1   \n",
       "9997          709   36       7       0.00              1          0   \n",
       "9998          772   42       3   75075.31              2          1   \n",
       "9999          792   28       4  130142.79              1          1   \n",
       "\n",
       "      IsActiveMember  EstimatedSalary  Geography_Germany  Geography_Spain  \\\n",
       "0                  1        101348.88                  0                0   \n",
       "1                  1        112542.58                  0                1   \n",
       "2                  0        113931.57                  0                0   \n",
       "3                  0         93826.63                  0                0   \n",
       "4                  1         79084.10                  0                1   \n",
       "...              ...              ...                ...              ...   \n",
       "9995               0         96270.64                  0                0   \n",
       "9996               1        101699.77                  0                0   \n",
       "9997               1         42085.58                  0                0   \n",
       "9998               0         92888.52                  1                0   \n",
       "9999               0         38190.78                  0                0   \n",
       "\n",
       "      Gender_Male  \n",
       "0               0  \n",
       "1               0  \n",
       "2               0  \n",
       "3               0  \n",
       "4               0  \n",
       "...           ...  \n",
       "9995            1  \n",
       "9996            1  \n",
       "9997            0  \n",
       "9998            1  \n",
       "9999            0  \n",
       "\n",
       "[10000 rows x 11 columns]"
      ]
     },
     "execution_count": 17,
     "metadata": {},
     "output_type": "execute_result"
    }
   ],
   "source": [
    "X"
   ]
  },
  {
   "cell_type": "code",
   "execution_count": 18,
   "metadata": {
    "execution": {
     "iopub.execute_input": "2023-10-11T11:24:29.448055Z",
     "iopub.status.busy": "2023-10-11T11:24:29.447360Z",
     "iopub.status.idle": "2023-10-11T11:24:29.469616Z",
     "shell.execute_reply": "2023-10-11T11:24:29.468423Z",
     "shell.execute_reply.started": "2023-10-11T11:24:29.448015Z"
    }
   },
   "outputs": [],
   "source": [
    "from sklearn.preprocessing import StandardScaler\n",
    "scaler=StandardScaler()\n",
    "X_train_scaled=scaler.fit_transform(X_train)\n",
    "X_test_scaled=scaler.transform(X_test)"
   ]
  },
  {
   "cell_type": "code",
   "execution_count": 19,
   "metadata": {
    "execution": {
     "iopub.execute_input": "2023-10-11T11:24:29.472119Z",
     "iopub.status.busy": "2023-10-11T11:24:29.471382Z",
     "iopub.status.idle": "2023-10-11T11:24:29.480833Z",
     "shell.execute_reply": "2023-10-11T11:24:29.479596Z",
     "shell.execute_reply.started": "2023-10-11T11:24:29.472052Z"
    }
   },
   "outputs": [
    {
     "data": {
      "text/plain": [
       "array([[-0.23082038, -0.94449979, -0.70174202, ...,  1.71490137,\n",
       "        -0.57273139,  0.91509065],\n",
       "       [-0.25150912, -0.94449979, -0.35520275, ..., -0.58312392,\n",
       "        -0.57273139, -1.09278791],\n",
       "       [-0.3963303 ,  0.77498705,  0.33787579, ...,  1.71490137,\n",
       "        -0.57273139, -1.09278791],\n",
       "       ...,\n",
       "       [ 0.22433188,  0.58393295,  1.3774936 , ..., -0.58312392,\n",
       "        -0.57273139, -1.09278791],\n",
       "       [ 0.13123255,  0.01077067,  1.03095433, ..., -0.58312392,\n",
       "        -0.57273139, -1.09278791],\n",
       "       [ 1.1656695 ,  0.29735181,  0.33787579, ...,  1.71490137,\n",
       "        -0.57273139,  0.91509065]])"
      ]
     },
     "execution_count": 19,
     "metadata": {},
     "output_type": "execute_result"
    }
   ],
   "source": [
    "X_train_scaled"
   ]
  },
  {
   "cell_type": "code",
   "execution_count": 20,
   "metadata": {
    "execution": {
     "iopub.execute_input": "2023-10-11T11:24:29.483297Z",
     "iopub.status.busy": "2023-10-11T11:24:29.482561Z",
     "iopub.status.idle": "2023-10-11T11:24:29.494702Z",
     "shell.execute_reply": "2023-10-11T11:24:29.493573Z",
     "shell.execute_reply.started": "2023-10-11T11:24:29.483254Z"
    }
   },
   "outputs": [
    {
     "data": {
      "text/plain": [
       "array([[-1.03768121,  0.77498705, -1.0482813 , ..., -0.58312392,\n",
       "        -0.57273139,  0.91509065],\n",
       "       [ 0.30708683, -0.46686456, -0.70174202, ..., -0.58312392,\n",
       "        -0.57273139,  0.91509065],\n",
       "       [-1.23422423,  0.29735181, -1.0482813 , ..., -0.58312392,\n",
       "        -0.57273139, -1.09278791],\n",
       "       ...,\n",
       "       [-0.86182692, -0.46686456,  1.72403288, ..., -0.58312392,\n",
       "         1.74601919,  0.91509065],\n",
       "       [-0.30323097, -0.84897275, -1.0482813 , ...,  1.71490137,\n",
       "        -0.57273139, -1.09278791],\n",
       "       [ 0.04847759,  1.25262228,  1.3774936 , ...,  1.71490137,\n",
       "        -0.57273139,  0.91509065]])"
      ]
     },
     "execution_count": 20,
     "metadata": {},
     "output_type": "execute_result"
    }
   ],
   "source": [
    "X_test_scaled"
   ]
  },
  {
   "cell_type": "code",
   "execution_count": 21,
   "metadata": {
    "execution": {
     "iopub.execute_input": "2023-10-11T11:24:29.496827Z",
     "iopub.status.busy": "2023-10-11T11:24:29.496410Z",
     "iopub.status.idle": "2023-10-11T11:24:29.506062Z",
     "shell.execute_reply": "2023-10-11T11:24:29.504812Z",
     "shell.execute_reply.started": "2023-10-11T11:24:29.496790Z"
    }
   },
   "outputs": [],
   "source": [
    "#feature sccaling is succefull"
   ]
  },
  {
   "cell_type": "code",
   "execution_count": 22,
   "metadata": {
    "execution": {
     "iopub.execute_input": "2023-10-11T11:24:29.508694Z",
     "iopub.status.busy": "2023-10-11T11:24:29.507660Z",
     "iopub.status.idle": "2023-10-11T11:24:39.669368Z",
     "shell.execute_reply": "2023-10-11T11:24:39.668372Z",
     "shell.execute_reply.started": "2023-10-11T11:24:29.508651Z"
    }
   },
   "outputs": [],
   "source": [
    "import tensorflow\n",
    "from tensorflow import keras\n",
    "from tensorflow.keras import Sequential\n",
    "from tensorflow.keras.layers import Dense\n",
    "#there are 2 type of models we can build in keras ,,,ie;Sequential and non-sequential"
   ]
  },
  {
   "cell_type": "code",
   "execution_count": 23,
   "metadata": {
    "execution": {
     "iopub.execute_input": "2023-10-11T11:43:01.761556Z",
     "iopub.status.busy": "2023-10-11T11:43:01.761141Z",
     "iopub.status.idle": "2023-10-11T11:43:01.951759Z",
     "shell.execute_reply": "2023-10-11T11:43:01.950767Z",
     "shell.execute_reply.started": "2023-10-11T11:43:01.761522Z"
    }
   },
   "outputs": [],
   "source": [
    "model1=Sequential()\n",
    "#1 input layer(11 input),1 Hidden layer(3 nodes(perceptron/neuron) in that layer),\n",
    "#1 output layer(1 node/perceptron/neurn-->bcz binary classification problem is there,we need only 1 node in output layer)\n",
    "#if multiclass classification problem is there then u can give N no of node for N class in output layer and softmax as activation function in output layer\n",
    "model1.add(Dense(3,activation='relu',input_dim=11))#hidden layer is created with 3 node and 11 ip fields for each node is created\n",
    "model1.add(Dense(1,activation='sigmoid'))#output layer is created with 1 node/perceptron\n",
    "#11*3 + 3*1 + 4 (bias ,,1 for each node)==>40 trainable para ie;which has to be calculated during training of NN"
   ]
  },
  {
   "cell_type": "code",
   "execution_count": 24,
   "metadata": {
    "execution": {
     "iopub.execute_input": "2023-10-11T11:43:25.067108Z",
     "iopub.status.busy": "2023-10-11T11:43:25.066743Z",
     "iopub.status.idle": "2023-10-11T11:43:25.085870Z",
     "shell.execute_reply": "2023-10-11T11:43:25.084707Z",
     "shell.execute_reply.started": "2023-10-11T11:43:25.067064Z"
    }
   },
   "outputs": [
    {
     "name": "stdout",
     "output_type": "stream",
     "text": [
      "Model: \"sequential\"\n",
      "_________________________________________________________________\n",
      " Layer (type)                Output Shape              Param #   \n",
      "=================================================================\n",
      " dense (Dense)               (None, 3)                 36        \n",
      "                                                                 \n",
      " dense_1 (Dense)             (None, 1)                 4         \n",
      "                                                                 \n",
      "=================================================================\n",
      "Total params: 40 (160.00 Byte)\n",
      "Trainable params: 40 (160.00 Byte)\n",
      "Non-trainable params: 0 (0.00 Byte)\n",
      "_________________________________________________________________\n"
     ]
    }
   ],
   "source": [
    "model1.summary()"
   ]
  },
  {
   "cell_type": "code",
   "execution_count": 25,
   "metadata": {
    "execution": {
     "iopub.execute_input": "2023-10-11T11:48:17.724547Z",
     "iopub.status.busy": "2023-10-11T11:48:17.724102Z",
     "iopub.status.idle": "2023-10-11T11:48:17.729746Z",
     "shell.execute_reply": "2023-10-11T11:48:17.728741Z",
     "shell.execute_reply.started": "2023-10-11T11:48:17.724513Z"
    }
   },
   "outputs": [],
   "source": [
    "#now compile the model,,while compiling we give which loss function,which optimizer used for gradient and desent used while compiling processs"
   ]
  },
  {
   "cell_type": "code",
   "execution_count": 26,
   "metadata": {
    "execution": {
     "iopub.execute_input": "2023-10-11T13:06:21.496640Z",
     "iopub.status.busy": "2023-10-11T13:06:21.495180Z",
     "iopub.status.idle": "2023-10-11T13:06:21.531575Z",
     "shell.execute_reply": "2023-10-11T13:06:21.530732Z",
     "shell.execute_reply.started": "2023-10-11T13:06:21.496511Z"
    }
   },
   "outputs": [],
   "source": [
    "model1.compile(loss='binary_crossentropy',optimizer='Adam',metrics=['accuracy'])#log loss -->binary_crossentropy\n",
    "#displays accuracy at each epochs wjile training,,see below after loss ,accuracy is displayed"
   ]
  },
  {
   "cell_type": "code",
   "execution_count": 27,
   "metadata": {
    "execution": {
     "iopub.execute_input": "2023-10-11T13:13:07.040633Z",
     "iopub.status.busy": "2023-10-11T13:13:07.040213Z",
     "iopub.status.idle": "2023-10-11T13:13:11.221818Z",
     "shell.execute_reply": "2023-10-11T13:13:11.220936Z",
     "shell.execute_reply.started": "2023-10-11T13:13:07.040603Z"
    }
   },
   "outputs": [
    {
     "name": "stdout",
     "output_type": "stream",
     "text": [
      "Epoch 1/10\n",
      "200/200 [==============================] - 1s 2ms/step - loss: 0.5742 - accuracy: 0.7972 - val_loss: 0.5340 - val_accuracy: 0.7975\n",
      "Epoch 2/10\n",
      "200/200 [==============================] - 0s 2ms/step - loss: 0.5261 - accuracy: 0.7972 - val_loss: 0.5017 - val_accuracy: 0.7975\n",
      "Epoch 3/10\n",
      "200/200 [==============================] - 0s 2ms/step - loss: 0.4939 - accuracy: 0.7972 - val_loss: 0.4816 - val_accuracy: 0.7975\n",
      "Epoch 4/10\n",
      "200/200 [==============================] - 0s 2ms/step - loss: 0.4740 - accuracy: 0.7972 - val_loss: 0.4693 - val_accuracy: 0.7975\n",
      "Epoch 5/10\n",
      "200/200 [==============================] - 0s 2ms/step - loss: 0.4617 - accuracy: 0.7972 - val_loss: 0.4613 - val_accuracy: 0.7975\n",
      "Epoch 6/10\n",
      "200/200 [==============================] - 0s 2ms/step - loss: 0.4532 - accuracy: 0.7972 - val_loss: 0.4552 - val_accuracy: 0.7975\n",
      "Epoch 7/10\n",
      "200/200 [==============================] - 0s 2ms/step - loss: 0.4473 - accuracy: 0.7972 - val_loss: 0.4509 - val_accuracy: 0.7975\n",
      "Epoch 8/10\n",
      "200/200 [==============================] - 0s 1ms/step - loss: 0.4429 - accuracy: 0.7972 - val_loss: 0.4477 - val_accuracy: 0.7975\n",
      "Epoch 9/10\n",
      "200/200 [==============================] - 0s 1ms/step - loss: 0.4399 - accuracy: 0.7972 - val_loss: 0.4456 - val_accuracy: 0.7975\n",
      "Epoch 10/10\n",
      "200/200 [==============================] - 0s 1ms/step - loss: 0.4376 - accuracy: 0.7972 - val_loss: 0.4433 - val_accuracy: 0.7975\n"
     ]
    }
   ],
   "source": [
    "#train the model\n",
    "History=model1.fit(X_train_scaled,y_train,epochs=10,validation_split=0.2)#epochs=10 ,how many times NN model(ANN/MLP)should glance data\n",
    "#(ie;1 forward and 1 backeard propogation is 1 cycle,,and bcz budefaultly stochastic gd used,,so for each row 1 forward and 1 backward propogatin(1 cycle )is carried out)..after finishing all 10k rows 1epoch completed...\n",
    "#1 epoch ->1 iteration over entire dataset,,,for batch ,minibatch gd it diff\n",
    "#validation_split=0.2 ie;in X_train data 80% data is used for training and 20% is for testing,,,\n",
    "#NOTE__>this testing is done while training only and produce validation loss and validation accuracy\n",
    "\n",
    "#8000 rows for training and 2000 rows for testing/validation purpose\n",
    "#automatically choosen batch size=40 by keras-->\n",
    "#8000/40=>200 batches are formed or we can say 200 times w and b are updated in 1 epochs\n",
    "#or we can say 200 times w and b are updated per epoch\n",
    "#each batch contains 40 rows,,,such a 200 batches are formed\n",
    "#by seeing 40 rows 200 times w,b are updated\n",
    "\n",
    "#that means keras using bydefaulty \"minibatch GD\""
   ]
  },
  {
   "cell_type": "code",
   "execution_count": 28,
   "metadata": {
    "execution": {
     "iopub.execute_input": "2023-10-11T11:54:39.072206Z",
     "iopub.status.busy": "2023-10-11T11:54:39.071748Z",
     "iopub.status.idle": "2023-10-11T11:54:39.077446Z",
     "shell.execute_reply": "2023-10-11T11:54:39.075967Z",
     "shell.execute_reply.started": "2023-10-11T11:54:39.072172Z"
    }
   },
   "outputs": [],
   "source": [
    "#as u see at 10th epochs(round),loss is minimized(ie;error is less..) and accuracy is 81%\n",
    "#model is trained successfully,,ie;established the relation ship bn data by calculating \n",
    "#weight and bias\n"
   ]
  },
  {
   "cell_type": "code",
   "execution_count": 29,
   "metadata": {
    "execution": {
     "iopub.execute_input": "2023-10-11T11:56:20.448883Z",
     "iopub.status.busy": "2023-10-11T11:56:20.448525Z",
     "iopub.status.idle": "2023-10-11T11:56:20.462143Z",
     "shell.execute_reply": "2023-10-11T11:56:20.460934Z",
     "shell.execute_reply.started": "2023-10-11T11:56:20.448857Z"
    }
   },
   "outputs": [
    {
     "data": {
      "text/plain": [
       "[array([[-0.04168704, -0.12038685,  0.4298738 ],\n",
       "        [-0.4872805 , -0.915747  , -0.38930237],\n",
       "        [-0.1441397 ,  0.06183594,  0.1780365 ],\n",
       "        [-0.76325905,  0.39899087, -0.14569627],\n",
       "        [ 0.3312126 , -0.02360356, -0.06838667],\n",
       "        [-0.17987205,  0.45256722, -0.1967933 ],\n",
       "        [-0.11595777,  0.24360338,  0.77283597],\n",
       "        [-0.19350155, -0.10409573,  0.21783452],\n",
       "        [-0.26711762, -0.3512032 , -0.30643904],\n",
       "        [-0.28425214, -0.34562498,  0.44484368],\n",
       "        [ 0.7045929 ,  0.30878535, -0.24426645]], dtype=float32),\n",
       " array([0.26199445, 0.675372  , 0.17432404], dtype=float32)]"
      ]
     },
     "execution_count": 29,
     "metadata": {},
     "output_type": "execute_result"
    }
   ],
   "source": [
    "model1.layers[0].get_weights()\n",
    "#33 weights and 3 bias values,at the end of training it is calculated..\n",
    "#which is given as i/p to hiddem layer"
   ]
  },
  {
   "cell_type": "code",
   "execution_count": 30,
   "metadata": {
    "execution": {
     "iopub.execute_input": "2023-10-11T11:57:31.038794Z",
     "iopub.status.busy": "2023-10-11T11:57:31.038398Z",
     "iopub.status.idle": "2023-10-11T11:57:31.050391Z",
     "shell.execute_reply": "2023-10-11T11:57:31.049178Z",
     "shell.execute_reply.started": "2023-10-11T11:57:31.038765Z"
    }
   },
   "outputs": [
    {
     "data": {
      "text/plain": [
       "[array([[-0.57432044],\n",
       "        [-0.72484946],\n",
       "        [-0.68111664]], dtype=float32),\n",
       " array([-0.23485634], dtype=float32)]"
      ]
     },
     "execution_count": 30,
     "metadata": {},
     "output_type": "execute_result"
    }
   ],
   "source": [
    "model1.layers[1].get_weights()\n",
    "#3 weights and 1 bias,,,which is given as i/p to output layer"
   ]
  },
  {
   "cell_type": "code",
   "execution_count": 31,
   "metadata": {
    "execution": {
     "iopub.execute_input": "2023-10-11T12:05:55.953316Z",
     "iopub.status.busy": "2023-10-11T12:05:55.952893Z",
     "iopub.status.idle": "2023-10-11T12:05:56.120417Z",
     "shell.execute_reply": "2023-10-11T12:05:56.119109Z",
     "shell.execute_reply.started": "2023-10-11T12:05:55.953283Z"
    }
   },
   "outputs": [
    {
     "name": "stdout",
     "output_type": "stream",
     "text": [
      "63/63 [==============================] - 0s 1ms/step\n"
     ]
    },
    {
     "data": {
      "text/plain": [
       "array([[0.1264574 ],\n",
       "       [0.10143349],\n",
       "       [0.19361325],\n",
       "       ...,\n",
       "       [0.04832039],\n",
       "       [0.19371416],\n",
       "       [0.3441346 ]], dtype=float32)"
      ]
     },
     "execution_count": 31,
     "metadata": {},
     "output_type": "execute_result"
    }
   ],
   "source": [
    "#test the model\n",
    "y_log=model1.predict(X_test_scaled)\n",
    "y_log\n",
    "#model1.predict(X_test_scaled)[1]  access 1th index predicted value"
   ]
  },
  {
   "cell_type": "code",
   "execution_count": 32,
   "metadata": {
    "execution": {
     "iopub.execute_input": "2023-10-11T12:05:24.155426Z",
     "iopub.status.busy": "2023-10-11T12:05:24.154994Z",
     "iopub.status.idle": "2023-10-11T12:05:24.159697Z",
     "shell.execute_reply": "2023-10-11T12:05:24.158607Z",
     "shell.execute_reply.started": "2023-10-11T12:05:24.155396Z"
    }
   },
   "outputs": [],
   "source": [
    "#NOTE-->output of NN/ANN/MLP os a probability,,so we have to range it\n",
    "#ie;if probability >= 0.5 then prediction is 1,,else 0"
   ]
  },
  {
   "cell_type": "code",
   "execution_count": 33,
   "metadata": {
    "execution": {
     "iopub.execute_input": "2023-10-11T12:09:32.548038Z",
     "iopub.status.busy": "2023-10-11T12:09:32.547590Z",
     "iopub.status.idle": "2023-10-11T12:09:32.556777Z",
     "shell.execute_reply": "2023-10-11T12:09:32.555441Z",
     "shell.execute_reply.started": "2023-10-11T12:09:32.548005Z"
    }
   },
   "outputs": [
    {
     "data": {
      "text/plain": [
       "array([[0],\n",
       "       [0],\n",
       "       [0],\n",
       "       ...,\n",
       "       [0],\n",
       "       [0],\n",
       "       [0]])"
      ]
     },
     "execution_count": 33,
     "metadata": {},
     "output_type": "execute_result"
    }
   ],
   "source": [
    "y_pred=np.where(y_log>0.5,1,0)#if y_log (on each element of array) is > 0.5 then1 else 0\n",
    "y_pred"
   ]
  },
  {
   "cell_type": "code",
   "execution_count": 34,
   "metadata": {
    "execution": {
     "iopub.execute_input": "2023-10-11T12:09:38.162387Z",
     "iopub.status.busy": "2023-10-11T12:09:38.162013Z",
     "iopub.status.idle": "2023-10-11T12:09:38.170952Z",
     "shell.execute_reply": "2023-10-11T12:09:38.170178Z",
     "shell.execute_reply.started": "2023-10-11T12:09:38.162352Z"
    }
   },
   "outputs": [
    {
     "data": {
      "text/plain": [
       "0.7925"
      ]
     },
     "execution_count": 34,
     "metadata": {},
     "output_type": "execute_result"
    }
   ],
   "source": [
    "#calculate accuracy\n",
    "from sklearn.metrics import accuracy_score\n",
    "accuracy_score(y_test,y_pred)"
   ]
  },
  {
   "cell_type": "code",
   "execution_count": 35,
   "metadata": {
    "execution": {
     "iopub.execute_input": "2023-10-11T12:14:00.005583Z",
     "iopub.status.busy": "2023-10-11T12:14:00.005154Z",
     "iopub.status.idle": "2023-10-11T12:14:00.011383Z",
     "shell.execute_reply": "2023-10-11T12:14:00.009846Z",
     "shell.execute_reply.started": "2023-10-11T12:14:00.005552Z"
    }
   },
   "outputs": [],
   "source": [
    "#79% accuracy of model\n",
    "#so..appropriately use no of nodes ,activation function,no of hidden layers,epochs while training \n",
    "#it can give more accuracy on test data\n",
    "#but it can lead overfitting also,,,so no of these things used  appropriately..\n",
    "#mostly,,,relu activation function used bcz,,it gives more accuracy\n"
   ]
  },
  {
   "cell_type": "code",
   "execution_count": 36,
   "metadata": {
    "execution": {
     "iopub.execute_input": "2023-10-11T13:13:58.107770Z",
     "iopub.status.busy": "2023-10-11T13:13:58.107401Z",
     "iopub.status.idle": "2023-10-11T13:13:58.113461Z",
     "shell.execute_reply": "2023-10-11T13:13:58.111986Z",
     "shell.execute_reply.started": "2023-10-11T13:13:58.107742Z"
    }
   },
   "outputs": [],
   "source": [
    "import matplotlib.pyplot as plt"
   ]
  },
  {
   "cell_type": "code",
   "execution_count": 37,
   "metadata": {
    "execution": {
     "iopub.execute_input": "2023-10-11T13:14:13.717731Z",
     "iopub.status.busy": "2023-10-11T13:14:13.716869Z",
     "iopub.status.idle": "2023-10-11T13:14:13.723340Z",
     "shell.execute_reply": "2023-10-11T13:14:13.722551Z",
     "shell.execute_reply.started": "2023-10-11T13:14:13.717691Z"
    }
   },
   "outputs": [
    {
     "data": {
      "text/plain": [
       "<keras.src.callbacks.History at 0x23dfb6cbad0>"
      ]
     },
     "execution_count": 37,
     "metadata": {},
     "output_type": "execute_result"
    }
   ],
   "source": [
    "History"
   ]
  },
  {
   "cell_type": "code",
   "execution_count": 38,
   "metadata": {
    "execution": {
     "iopub.execute_input": "2023-10-11T13:14:21.534912Z",
     "iopub.status.busy": "2023-10-11T13:14:21.533843Z",
     "iopub.status.idle": "2023-10-11T13:14:21.541373Z",
     "shell.execute_reply": "2023-10-11T13:14:21.540061Z",
     "shell.execute_reply.started": "2023-10-11T13:14:21.534875Z"
    }
   },
   "outputs": [
    {
     "data": {
      "text/plain": [
       "{'loss': [0.5742342472076416,\n",
       "  0.5261023044586182,\n",
       "  0.49385586380958557,\n",
       "  0.473967045545578,\n",
       "  0.461693674325943,\n",
       "  0.4532376825809479,\n",
       "  0.4472620487213135,\n",
       "  0.4429346024990082,\n",
       "  0.4398937523365021,\n",
       "  0.4375830888748169],\n",
       " 'accuracy': [0.7971875071525574,\n",
       "  0.7971875071525574,\n",
       "  0.7971875071525574,\n",
       "  0.7971875071525574,\n",
       "  0.7971875071525574,\n",
       "  0.7971875071525574,\n",
       "  0.7971875071525574,\n",
       "  0.7971875071525574,\n",
       "  0.7971875071525574,\n",
       "  0.7971875071525574],\n",
       " 'val_loss': [0.5339827537536621,\n",
       "  0.5017036199569702,\n",
       "  0.4815782606601715,\n",
       "  0.46927931904792786,\n",
       "  0.46126028895378113,\n",
       "  0.45515111088752747,\n",
       "  0.4508512020111084,\n",
       "  0.44769367575645447,\n",
       "  0.4455501139163971,\n",
       "  0.4432626962661743],\n",
       " 'val_accuracy': [0.7975000143051147,\n",
       "  0.7975000143051147,\n",
       "  0.7975000143051147,\n",
       "  0.7975000143051147,\n",
       "  0.7975000143051147,\n",
       "  0.7975000143051147,\n",
       "  0.7975000143051147,\n",
       "  0.7975000143051147,\n",
       "  0.7975000143051147,\n",
       "  0.7975000143051147]}"
      ]
     },
     "execution_count": 38,
     "metadata": {},
     "output_type": "execute_result"
    }
   ],
   "source": [
    "History.history\n",
    "#at each epochs ,loss ,accuracy,validation loss and accuracy is stroed in history attribute"
   ]
  },
  {
   "cell_type": "code",
   "execution_count": 39,
   "metadata": {
    "execution": {
     "iopub.execute_input": "2023-10-11T13:17:11.191390Z",
     "iopub.status.busy": "2023-10-11T13:17:11.190887Z",
     "iopub.status.idle": "2023-10-11T13:17:11.387920Z",
     "shell.execute_reply": "2023-10-11T13:17:11.386716Z",
     "shell.execute_reply.started": "2023-10-11T13:17:11.191355Z"
    }
   },
   "outputs": [
    {
     "data": {
      "text/plain": [
       "[<matplotlib.lines.Line2D at 0x23dfe3dd750>]"
      ]
     },
     "execution_count": 39,
     "metadata": {},
     "output_type": "execute_result"
    },
    {
     "data": {
      "image/png": "[encoded data removed]",
      "text/plain": [
       "<Figure size 640x480 with 1 Axes>"
      ]
     },
     "metadata": {},
     "output_type": "display_data"
    }
   ],
   "source": [
    "plt.plot(History.history['loss'])#blue\n",
    "plt.plot(History.history['val_loss'])#orange\n",
    "#X axis 10 epochs,,at each epochs how training error is varied\n",
    "#y axis is training error"
   ]
  },
  {
   "cell_type": "code",
   "execution_count": 40,
   "metadata": {
    "execution": {
     "iopub.execute_input": "2023-10-11T13:17:39.415676Z",
     "iopub.status.busy": "2023-10-11T13:17:39.415285Z",
     "iopub.status.idle": "2023-10-11T13:17:39.591609Z",
     "shell.execute_reply": "2023-10-11T13:17:39.590281Z",
     "shell.execute_reply.started": "2023-10-11T13:17:39.415646Z"
    }
   },
   "outputs": [
    {
     "data": {
      "text/plain": [
       "[<matplotlib.lines.Line2D at 0x23d8006ac50>]"
      ]
     },
     "execution_count": 40,
     "metadata": {},
     "output_type": "execute_result"
    },
    {
     "data": {
      "image/png": "[encoded data removed]",
      "text/plain": [
       "<Figure size 640x480 with 1 Axes>"
      ]
     },
     "metadata": {},
     "output_type": "display_data"
    }
   ],
   "source": [
    "plt.plot(History.history['accuracy'])#blue\n",
    "plt.plot(History.history['val_accuracy'])#orange\n",
    "#X axis epochs,,at each round how many accuracy is increased\n",
    "#y axis,,accuracy"
   ]
  },
  {
   "cell_type": "code",
   "execution_count": null,
   "metadata": {},
   "outputs": [],
   "source": []
  },
  {
   "cell_type": "code",
   "execution_count": null,
   "metadata": {},
   "outputs": [],
   "source": []
  }
 ],
 "metadata": {
  "kernelspec": {
   "display_name": "Python 3 (ipykernel)",
   "language": "python",
   "name": "python3"
  },
  "language_info": {
   "codemirror_mode": {
    "name": "ipython",
    "version": 3
   },
   "file_extension": ".py",
   "mimetype": "text/x-python",
   "name": "python",
   "nbconvert_exporter": "python",
   "pygments_lexer": "ipython3",
   "version": "3.11.4"
  }
 },
 "nbformat": 4,
 "nbformat_minor": 4
}
