{
 "cells": [
  {
   "cell_type": "code",
   "execution_count": null,
   "id": "fed0060f",
   "metadata": {},
   "outputs": [],
   "source": [
    "# 1.GRE Scores ( out of 340 )\n",
    "# 2.TOEFL Scores ( out of 120 )\n",
    "# 3.University Rating ( out of 5 )\n",
    "# 4.Statement of Purpose and Letter of Recommendation Strength ( out of 5 )\n",
    "# 5.Undergraduate GPA ( out of 10 )\n",
    "# 6.Research Experience ( either 0 or 1 )\n",
    "# 7.Chance of Admit ( ranging from 0 to 1 )#ie; 0 to 1 there are many no,,so continuous value"
   ]
  },
  {
   "cell_type": "code",
   "execution_count": null,
   "id": "abf2847b",
   "metadata": {},
   "outputs": [],
   "source": []
  }
 ],
 "metadata": {
  "kernelspec": {
   "display_name": "Python 3 (ipykernel)",
   "language": "python",
   "name": "python3"
  },
  "language_info": {
   "codemirror_mode": {
    "name": "ipython",
    "version": 3
   },
   "file_extension": ".py",
   "mimetype": "text/x-python",
   "name": "python",
   "nbconvert_exporter": "python",
   "pygments_lexer": "ipython3",
   "version": "3.11.4"
  }
 },
 "nbformat": 4,
 "nbformat_minor": 5
}
