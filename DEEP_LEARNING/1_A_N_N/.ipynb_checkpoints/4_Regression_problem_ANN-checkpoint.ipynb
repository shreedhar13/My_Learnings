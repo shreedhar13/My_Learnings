{
 "cells": [
  {
   "cell_type": "markdown",
   "id": "ff20b9f3",
   "metadata": {},
   "source": [
    "# Graduate Admision prediction,,,ie;based on below given marks range if new students come then how much probability is there of selection of that student"
   ]
  },
  {
   "cell_type": "code",
   "execution_count": 1,
   "id": "fed0060f",
   "metadata": {},
   "outputs": [],
   "source": [
    "# 1.GRE Scores ( out of 340 )\n",
    "# 2.TOEFL Scores ( out of 120 )\n",
    "# 3.University Rating ( out of 5 )\n",
    "# 4.Statement of Purpose and Letter of Recommendation Strength ( out of 5 )\n",
    "# 5.Undergraduate GPA ( out of 10 )\n",
    "# 6.Research Experience ( either 0 or 1 )\n",
    "# 7.Chance of Admit ( ranging from 0 to 1 )#ie; 0 to 1 there are many no,,so continuous value"
   ]
  },
  {
   "cell_type": "code",
   "execution_count": 2,
   "id": "abf2847b",
   "metadata": {},
   "outputs": [],
   "source": [
    "import pandas as pd\n",
    "import numpy as np"
   ]
  },
  {
   "cell_type": "code",
   "execution_count": 3,
   "id": "9ece13ae",
   "metadata": {},
   "outputs": [
    {
     "data": {
      "text/html": [
       "<div>\n",
       "<style scoped>\n",
       "    .dataframe tbody tr th:only-of-type {\n",
       "        vertical-align: middle;\n",
       "    }\n",
       "\n",
       "    .dataframe tbody tr th {\n",
       "        vertical-align: top;\n",
       "    }\n",
       "\n",
       "    .dataframe thead th {\n",
       "        text-align: right;\n",
       "    }\n",
       "</style>\n",
       "<table border=\"1\" class=\"dataframe\">\n",
       "  <thead>\n",
       "    <tr style=\"text-align: right;\">\n",
       "      <th></th>\n",
       "      <th>Serial No.</th>\n",
       "      <th>GRE Score</th>\n",
       "      <th>TOEFL Score</th>\n",
       "      <th>University Rating</th>\n",
       "      <th>SOP</th>\n",
       "      <th>LOR</th>\n",
       "      <th>CGPA</th>\n",
       "      <th>Research</th>\n",
       "      <th>Chance of Admit</th>\n",
       "    </tr>\n",
       "  </thead>\n",
       "  <tbody>\n",
       "    <tr>\n",
       "      <th>0</th>\n",
       "      <td>1</td>\n",
       "      <td>337</td>\n",
       "      <td>118</td>\n",
       "      <td>4</td>\n",
       "      <td>4.5</td>\n",
       "      <td>4.5</td>\n",
       "      <td>9.65</td>\n",
       "      <td>1</td>\n",
       "      <td>0.92</td>\n",
       "    </tr>\n",
       "    <tr>\n",
       "      <th>1</th>\n",
       "      <td>2</td>\n",
       "      <td>324</td>\n",
       "      <td>107</td>\n",
       "      <td>4</td>\n",
       "      <td>4.0</td>\n",
       "      <td>4.5</td>\n",
       "      <td>8.87</td>\n",
       "      <td>1</td>\n",
       "      <td>0.76</td>\n",
       "    </tr>\n",
       "    <tr>\n",
       "      <th>2</th>\n",
       "      <td>3</td>\n",
       "      <td>316</td>\n",
       "      <td>104</td>\n",
       "      <td>3</td>\n",
       "      <td>3.0</td>\n",
       "      <td>3.5</td>\n",
       "      <td>8.00</td>\n",
       "      <td>1</td>\n",
       "      <td>0.72</td>\n",
       "    </tr>\n",
       "    <tr>\n",
       "      <th>3</th>\n",
       "      <td>4</td>\n",
       "      <td>322</td>\n",
       "      <td>110</td>\n",
       "      <td>3</td>\n",
       "      <td>3.5</td>\n",
       "      <td>2.5</td>\n",
       "      <td>8.67</td>\n",
       "      <td>1</td>\n",
       "      <td>0.80</td>\n",
       "    </tr>\n",
       "    <tr>\n",
       "      <th>4</th>\n",
       "      <td>5</td>\n",
       "      <td>314</td>\n",
       "      <td>103</td>\n",
       "      <td>2</td>\n",
       "      <td>2.0</td>\n",
       "      <td>3.0</td>\n",
       "      <td>8.21</td>\n",
       "      <td>0</td>\n",
       "      <td>0.65</td>\n",
       "    </tr>\n",
       "  </tbody>\n",
       "</table>\n",
       "</div>"
      ],
      "text/plain": [
       "   Serial No.  GRE Score  TOEFL Score  University Rating  SOP  LOR   CGPA  \\\n",
       "0           1        337          118                  4  4.5   4.5  9.65   \n",
       "1           2        324          107                  4  4.0   4.5  8.87   \n",
       "2           3        316          104                  3  3.0   3.5  8.00   \n",
       "3           4        322          110                  3  3.5   2.5  8.67   \n",
       "4           5        314          103                  2  2.0   3.0  8.21   \n",
       "\n",
       "   Research  Chance of Admit   \n",
       "0         1              0.92  \n",
       "1         1              0.76  \n",
       "2         1              0.72  \n",
       "3         1              0.80  \n",
       "4         0              0.65  "
      ]
     },
     "execution_count": 3,
     "metadata": {},
     "output_type": "execute_result"
    }
   ],
   "source": [
    "df=pd.read_csv(r\"D:\\DEEP_LEARNING\\4_Admission_Predict_Ver1.1.csv\")\n",
    "df.head()"
   ]
  },
  {
   "cell_type": "code",
   "execution_count": 4,
   "id": "37a696cd",
   "metadata": {},
   "outputs": [
    {
     "name": "stdout",
     "output_type": "stream",
     "text": [
      "<class 'pandas.core.frame.DataFrame'>\n",
      "RangeIndex: 500 entries, 0 to 499\n",
      "Data columns (total 9 columns):\n",
      " #   Column             Non-Null Count  Dtype  \n",
      "---  ------             --------------  -----  \n",
      " 0   Serial No.         500 non-null    int64  \n",
      " 1   GRE Score          500 non-null    int64  \n",
      " 2   TOEFL Score        500 non-null    int64  \n",
      " 3   University Rating  500 non-null    int64  \n",
      " 4   SOP                500 non-null    float64\n",
      " 5   LOR                500 non-null    float64\n",
      " 6   CGPA               500 non-null    float64\n",
      " 7   Research           500 non-null    int64  \n",
      " 8   Chance of Admit    500 non-null    float64\n",
      "dtypes: float64(4), int64(5)\n",
      "memory usage: 35.3 KB\n"
     ]
    }
   ],
   "source": [
    "df.info()\n",
    "#no any missing value"
   ]
  },
  {
   "cell_type": "code",
   "execution_count": 5,
   "id": "a570e721",
   "metadata": {},
   "outputs": [
    {
     "data": {
      "text/plain": [
       "0"
      ]
     },
     "execution_count": 5,
     "metadata": {},
     "output_type": "execute_result"
    }
   ],
   "source": [
    "df.duplicated().sum()\n",
    "#all rows are unique"
   ]
  },
  {
   "cell_type": "code",
   "execution_count": 6,
   "id": "018e85a6",
   "metadata": {},
   "outputs": [],
   "source": [
    "#but scaling is must before training it on ANN model\n",
    "#bcz,,all values come in one range thus weights(coefficient) and bias(intercept) converges easily and fastly\n",
    "#converges means,,best value of w and b is calculated ,such that on unseen data testing accuracy is high"
   ]
  },
  {
   "cell_type": "code",
   "execution_count": 7,
   "id": "af2fe94c",
   "metadata": {},
   "outputs": [],
   "source": [
    "#here we use Min-MAX scaler,,,bcz we know upper bound and lower bound of each column\n",
    "#ie;GRE score has upper bound 340\n",
    "# 2.TOEFL Scores ( out of 120 )\n",
    "# 3.University Rating ( out of 5 )\n",
    "# 4.Statement of Purpose and Letter of Recommendation Strength ( out of 5 )\n",
    "# 5.Undergraduate GPA ( out of 10 )\n",
    "# 6.Research Experience ( either 0 or 1 )\n",
    "#and lower bound for all is 0,,,,,\n",
    "#if this is not the case then use StandardScaler()\n"
   ]
  },
  {
   "cell_type": "code",
   "execution_count": 8,
   "id": "e9fc7da2",
   "metadata": {},
   "outputs": [],
   "source": [
    "df.drop(columns=['Serial No.'],inplace=True)#doesnt effect on prediction/selection"
   ]
  },
  {
   "cell_type": "code",
   "execution_count": 9,
   "id": "e2417e5a",
   "metadata": {},
   "outputs": [
    {
     "data": {
      "text/html": [
       "<div>\n",
       "<style scoped>\n",
       "    .dataframe tbody tr th:only-of-type {\n",
       "        vertical-align: middle;\n",
       "    }\n",
       "\n",
       "    .dataframe tbody tr th {\n",
       "        vertical-align: top;\n",
       "    }\n",
       "\n",
       "    .dataframe thead th {\n",
       "        text-align: right;\n",
       "    }\n",
       "</style>\n",
       "<table border=\"1\" class=\"dataframe\">\n",
       "  <thead>\n",
       "    <tr style=\"text-align: right;\">\n",
       "      <th></th>\n",
       "      <th>GRE Score</th>\n",
       "      <th>TOEFL Score</th>\n",
       "      <th>University Rating</th>\n",
       "      <th>SOP</th>\n",
       "      <th>LOR</th>\n",
       "      <th>CGPA</th>\n",
       "      <th>Research</th>\n",
       "      <th>Chance of Admit</th>\n",
       "    </tr>\n",
       "  </thead>\n",
       "  <tbody>\n",
       "    <tr>\n",
       "      <th>0</th>\n",
       "      <td>337</td>\n",
       "      <td>118</td>\n",
       "      <td>4</td>\n",
       "      <td>4.5</td>\n",
       "      <td>4.5</td>\n",
       "      <td>9.65</td>\n",
       "      <td>1</td>\n",
       "      <td>0.92</td>\n",
       "    </tr>\n",
       "    <tr>\n",
       "      <th>1</th>\n",
       "      <td>324</td>\n",
       "      <td>107</td>\n",
       "      <td>4</td>\n",
       "      <td>4.0</td>\n",
       "      <td>4.5</td>\n",
       "      <td>8.87</td>\n",
       "      <td>1</td>\n",
       "      <td>0.76</td>\n",
       "    </tr>\n",
       "    <tr>\n",
       "      <th>2</th>\n",
       "      <td>316</td>\n",
       "      <td>104</td>\n",
       "      <td>3</td>\n",
       "      <td>3.0</td>\n",
       "      <td>3.5</td>\n",
       "      <td>8.00</td>\n",
       "      <td>1</td>\n",
       "      <td>0.72</td>\n",
       "    </tr>\n",
       "    <tr>\n",
       "      <th>3</th>\n",
       "      <td>322</td>\n",
       "      <td>110</td>\n",
       "      <td>3</td>\n",
       "      <td>3.5</td>\n",
       "      <td>2.5</td>\n",
       "      <td>8.67</td>\n",
       "      <td>1</td>\n",
       "      <td>0.80</td>\n",
       "    </tr>\n",
       "    <tr>\n",
       "      <th>4</th>\n",
       "      <td>314</td>\n",
       "      <td>103</td>\n",
       "      <td>2</td>\n",
       "      <td>2.0</td>\n",
       "      <td>3.0</td>\n",
       "      <td>8.21</td>\n",
       "      <td>0</td>\n",
       "      <td>0.65</td>\n",
       "    </tr>\n",
       "  </tbody>\n",
       "</table>\n",
       "</div>"
      ],
      "text/plain": [
       "   GRE Score  TOEFL Score  University Rating  SOP  LOR   CGPA  Research  \\\n",
       "0        337          118                  4  4.5   4.5  9.65         1   \n",
       "1        324          107                  4  4.0   4.5  8.87         1   \n",
       "2        316          104                  3  3.0   3.5  8.00         1   \n",
       "3        322          110                  3  3.5   2.5  8.67         1   \n",
       "4        314          103                  2  2.0   3.0  8.21         0   \n",
       "\n",
       "   Chance of Admit   \n",
       "0              0.92  \n",
       "1              0.76  \n",
       "2              0.72  \n",
       "3              0.80  \n",
       "4              0.65  "
      ]
     },
     "execution_count": 9,
     "metadata": {},
     "output_type": "execute_result"
    }
   ],
   "source": [
    "df.head()"
   ]
  },
  {
   "cell_type": "code",
   "execution_count": 10,
   "id": "12dd7753",
   "metadata": {},
   "outputs": [],
   "source": [
    "X=df.iloc[:,:-1]\n",
    "y=df.iloc[:,-1]"
   ]
  },
  {
   "cell_type": "code",
   "execution_count": 11,
   "id": "b7014147",
   "metadata": {},
   "outputs": [],
   "source": [
    "from sklearn.model_selection import train_test_split\n",
    "X_train,X_test,y_train,y_test=train_test_split(X,y,random_state=1,test_size=0.2)"
   ]
  },
  {
   "cell_type": "code",
   "execution_count": 12,
   "id": "61c5b511",
   "metadata": {},
   "outputs": [
    {
     "data": {
      "text/plain": [
       "((400, 7), (400,), (100, 7), (100,))"
      ]
     },
     "execution_count": 12,
     "metadata": {},
     "output_type": "execute_result"
    }
   ],
   "source": [
    "X_train.shape,y_train.shape,X_test.shape,y_test.shape"
   ]
  },
  {
   "cell_type": "code",
   "execution_count": 13,
   "id": "8aa1f787",
   "metadata": {},
   "outputs": [],
   "source": [
    "from sklearn.preprocessing import MinMaxScaler\n",
    "scaler=MinMaxScaler()\n",
    "X_train_scaled=scaler.fit_transform(X_train)\n",
    "X_test_scaled=scaler.transform(X_test)#bcz we are using same parameters which are calculated for scaling X_train,,so that both should compatible"
   ]
  },
  {
   "cell_type": "code",
   "execution_count": 14,
   "id": "42949e2d",
   "metadata": {},
   "outputs": [
    {
     "data": {
      "text/plain": [
       "array([[0.4       , 0.42857143, 0.5       , ..., 0.57142857, 0.50320513,\n",
       "        0.        ],\n",
       "       [0.56      , 0.64285714, 0.        , ..., 0.57142857, 0.55769231,\n",
       "        1.        ],\n",
       "       [0.2       , 0.32142857, 0.5       , ..., 0.28571429, 0.34615385,\n",
       "        0.        ],\n",
       "       ...,\n",
       "       [0.7       , 0.53571429, 0.5       , ..., 0.57142857, 0.74038462,\n",
       "        1.        ],\n",
       "       [0.72      , 0.67857143, 1.        , ..., 0.71428571, 0.77884615,\n",
       "        1.        ],\n",
       "       [0.2       , 0.46428571, 0.        , ..., 0.14285714, 0.32051282,\n",
       "        0.        ]])"
      ]
     },
     "execution_count": 14,
     "metadata": {},
     "output_type": "execute_result"
    }
   ],
   "source": [
    "X_train_scaled"
   ]
  },
  {
   "cell_type": "markdown",
   "id": "2d73d4a2",
   "metadata": {},
   "source": [
    "# TRAINING ANN"
   ]
  },
  {
   "cell_type": "code",
   "execution_count": 15,
   "id": "65f9cae1",
   "metadata": {},
   "outputs": [],
   "source": [
    "import tensorflow\n",
    "from tensorflow import keras\n",
    "from keras import Sequential\n",
    "from keras.layers import Dense"
   ]
  },
  {
   "cell_type": "code",
   "execution_count": 16,
   "id": "073e9e84",
   "metadata": {},
   "outputs": [],
   "source": [
    "model=Sequential()\n",
    "\n",
    "model.add(Dense(7,activation='relu',input_dim=7))\n",
    "model.add(Dense(1,activation='linear'))#NOTE-->whenever u are dealing with regression problem  ,o/p layers has 1 node with\n",
    "#activation function as 'linear'...only"
   ]
  },
  {
   "cell_type": "code",
   "execution_count": 17,
   "id": "be2ca261",
   "metadata": {},
   "outputs": [
    {
     "name": "stdout",
     "output_type": "stream",
     "text": [
      "Model: \"sequential\"\n",
      "_________________________________________________________________\n",
      " Layer (type)                Output Shape              Param #   \n",
      "=================================================================\n",
      " dense (Dense)               (None, 7)                 56        \n",
      "                                                                 \n",
      " dense_1 (Dense)             (None, 1)                 8         \n",
      "                                                                 \n",
      "=================================================================\n",
      "Total params: 64 (256.00 Byte)\n",
      "Trainable params: 64 (256.00 Byte)\n",
      "Non-trainable params: 0 (0.00 Byte)\n",
      "_________________________________________________________________\n"
     ]
    }
   ],
   "source": [
    "model.summary()"
   ]
  },
  {
   "cell_type": "code",
   "execution_count": 18,
   "id": "a94d07a2",
   "metadata": {},
   "outputs": [],
   "source": [
    "# dense (Dense)               (None, 7)                 56  ->H.L 1      \n",
    "                                                                 \n",
    "#  dense_1 (Dense)             (None, 1)                 8  ->o/p layer"
   ]
  },
  {
   "cell_type": "code",
   "execution_count": 19,
   "id": "77bc4828",
   "metadata": {},
   "outputs": [],
   "source": [
    "model.compile(loss='mean_squared_error',optimizer='Adam')"
   ]
  },
  {
   "cell_type": "code",
   "execution_count": 20,
   "id": "661bfdf9",
   "metadata": {},
   "outputs": [
    {
     "name": "stdout",
     "output_type": "stream",
     "text": [
      "Epoch 1/10\n",
      "10/10 [==============================] - 0s 12ms/step - loss: 1.1966 - val_loss: 1.2570\n",
      "Epoch 2/10\n",
      "10/10 [==============================] - 0s 5ms/step - loss: 1.0349 - val_loss: 1.0984\n",
      "Epoch 3/10\n",
      "10/10 [==============================] - 0s 4ms/step - loss: 0.9080 - val_loss: 0.9748\n",
      "Epoch 4/10\n",
      "10/10 [==============================] - 0s 5ms/step - loss: 0.8083 - val_loss: 0.8729\n",
      "Epoch 5/10\n",
      "10/10 [==============================] - 0s 5ms/step - loss: 0.7275 - val_loss: 0.7908\n",
      "Epoch 6/10\n",
      "10/10 [==============================] - 0s 4ms/step - loss: 0.6609 - val_loss: 0.7268\n",
      "Epoch 7/10\n",
      "10/10 [==============================] - 0s 5ms/step - loss: 0.6109 - val_loss: 0.6731\n",
      "Epoch 8/10\n",
      "10/10 [==============================] - 0s 4ms/step - loss: 0.5706 - val_loss: 0.6292\n",
      "Epoch 9/10\n",
      "10/10 [==============================] - 0s 4ms/step - loss: 0.5370 - val_loss: 0.5919\n",
      "Epoch 10/10\n",
      "10/10 [==============================] - 0s 4ms/step - loss: 0.5090 - val_loss: 0.5598\n"
     ]
    }
   ],
   "source": [
    "history=model.fit(X_train_scaled,y_train,epochs=10,validation_split=0.2)\n",
    "#for tracking accuracy use metrics=['accuracy']"
   ]
  },
  {
   "cell_type": "markdown",
   "id": "053c1865",
   "metadata": {},
   "source": [
    "# predicting/testing ANN"
   ]
  },
  {
   "cell_type": "code",
   "execution_count": 21,
   "id": "87d745aa",
   "metadata": {},
   "outputs": [
    {
     "name": "stdout",
     "output_type": "stream",
     "text": [
      "4/4 [==============================] - 0s 3ms/step\n"
     ]
    },
    {
     "data": {
      "text/plain": [
       "array([[-0.07295094],\n",
       "       [ 0.09172656],\n",
       "       [-0.2261987 ],\n",
       "       [ 0.09569117],\n",
       "       [ 0.09641751],\n",
       "       [ 0.09327066],\n",
       "       [ 0.09411404],\n",
       "       [ 0.09639584],\n",
       "       [ 0.09551408],\n",
       "       [ 0.09601158],\n",
       "       [ 0.09980716],\n",
       "       [ 0.09111813],\n",
       "       [ 0.09191182],\n",
       "       [-0.10901914],\n",
       "       [ 0.09483288],\n",
       "       [ 0.09725218],\n",
       "       [-0.12182181],\n",
       "       [-0.11435734],\n",
       "       [ 0.0945207 ],\n",
       "       [-0.02208275],\n",
       "       [ 0.09574518],\n",
       "       [ 0.09609118],\n",
       "       [ 0.09734136],\n",
       "       [ 0.09111813],\n",
       "       [-0.11975131],\n",
       "       [ 0.05551418],\n",
       "       [ 0.09780943],\n",
       "       [-0.05862244],\n",
       "       [ 0.09649522],\n",
       "       [ 0.09421863],\n",
       "       [-0.07595422],\n",
       "       [ 0.09646597],\n",
       "       [ 0.0511828 ],\n",
       "       [ 0.09838393],\n",
       "       [-0.08083668],\n",
       "       [ 0.05771355],\n",
       "       [-0.03806599],\n",
       "       [ 0.03910169],\n",
       "       [ 0.01634982],\n",
       "       [ 0.09652278],\n",
       "       [-0.02941062],\n",
       "       [ 0.09359708],\n",
       "       [ 0.09424347],\n",
       "       [ 0.09839945],\n",
       "       [ 0.09407162],\n",
       "       [-0.04166859],\n",
       "       [-0.05801598],\n",
       "       [-0.1792675 ],\n",
       "       [ 0.09111813],\n",
       "       [-0.06133672],\n",
       "       [ 0.09685174],\n",
       "       [ 0.0990293 ],\n",
       "       [ 0.09429519],\n",
       "       [ 0.09126128],\n",
       "       [-0.06221064],\n",
       "       [ 0.09206831],\n",
       "       [ 0.09466683],\n",
       "       [ 0.04443877],\n",
       "       [ 0.09320286],\n",
       "       [ 0.09267247],\n",
       "       [-0.03947224],\n",
       "       [-0.26246223],\n",
       "       [ 0.09858026],\n",
       "       [ 0.09555669],\n",
       "       [ 0.09959376],\n",
       "       [ 0.05341618],\n",
       "       [ 0.09478449],\n",
       "       [ 0.09261774],\n",
       "       [ 0.10090522],\n",
       "       [-0.03657027],\n",
       "       [ 0.05625704],\n",
       "       [-0.07903037],\n",
       "       [-0.00747058],\n",
       "       [ 0.07778687],\n",
       "       [ 0.09734413],\n",
       "       [-0.11001558],\n",
       "       [ 0.09583284],\n",
       "       [ 0.09721626],\n",
       "       [ 0.09222002],\n",
       "       [ 0.0932737 ],\n",
       "       [ 0.03216546],\n",
       "       [-0.07924504],\n",
       "       [ 0.09555379],\n",
       "       [ 0.09635983],\n",
       "       [-0.28356615],\n",
       "       [ 0.06488097],\n",
       "       [ 0.09584174],\n",
       "       [ 0.09481773],\n",
       "       [-0.156609  ],\n",
       "       [-0.05688976],\n",
       "       [-0.22008777],\n",
       "       [ 0.09656326],\n",
       "       [-0.15617797],\n",
       "       [ 0.09343478],\n",
       "       [ 0.09210987],\n",
       "       [ 0.09653895],\n",
       "       [ 0.09422444],\n",
       "       [-0.1253655 ],\n",
       "       [-0.04703794],\n",
       "       [-0.19662112]], dtype=float32)"
      ]
     },
     "execution_count": 21,
     "metadata": {},
     "output_type": "execute_result"
    }
   ],
   "source": [
    "y_pred=model.predict(X_test_scaled)\n",
    "y_pred"
   ]
  },
  {
   "cell_type": "code",
   "execution_count": 22,
   "id": "fdae3062",
   "metadata": {},
   "outputs": [
    {
     "data": {
      "text/plain": [
       "304    0.62\n",
       "340    0.75\n",
       "47     0.89\n",
       "67     0.57\n",
       "479    0.79\n",
       "       ... \n",
       "11     0.84\n",
       "192    0.86\n",
       "92     0.34\n",
       "221    0.75\n",
       "110    0.61\n",
       "Name: Chance of Admit , Length: 100, dtype: float64"
      ]
     },
     "execution_count": 22,
     "metadata": {},
     "output_type": "execute_result"
    }
   ],
   "source": [
    "y_test"
   ]
  },
  {
   "cell_type": "code",
   "execution_count": 23,
   "id": "4cc2ab74",
   "metadata": {},
   "outputs": [
    {
     "data": {
      "text/plain": [
       "((100, 1), (100,))"
      ]
     },
     "execution_count": 23,
     "metadata": {},
     "output_type": "execute_result"
    }
   ],
   "source": [
    "y_pred.shape,y_test.shape"
   ]
  },
  {
   "cell_type": "code",
   "execution_count": 24,
   "id": "39264b1c",
   "metadata": {},
   "outputs": [
    {
     "data": {
      "text/plain": [
       "-25.192304975851293"
      ]
     },
     "execution_count": 24,
     "metadata": {},
     "output_type": "execute_result"
    }
   ],
   "source": [
    "from sklearn.metrics import r2_score\n",
    "r2_score(y_test,y_pred)"
   ]
  },
  {
   "cell_type": "code",
   "execution_count": 25,
   "id": "db1e93cc",
   "metadata": {},
   "outputs": [],
   "source": [
    "#performance very bad"
   ]
  },
  {
   "cell_type": "markdown",
   "id": "5512f4df",
   "metadata": {},
   "source": [
    "# ANN2 training"
   ]
  },
  {
   "cell_type": "code",
   "execution_count": 26,
   "id": "8bc91e75",
   "metadata": {},
   "outputs": [
    {
     "name": "stdout",
     "output_type": "stream",
     "text": [
      "Epoch 1/100\n",
      "10/10 [==============================] - 0s 9ms/step - loss: 0.6665 - val_loss: 0.6641\n",
      "Epoch 2/100\n",
      "10/10 [==============================] - 0s 4ms/step - loss: 0.5685 - val_loss: 0.5961\n",
      "Epoch 3/100\n",
      "10/10 [==============================] - 0s 4ms/step - loss: 0.5200 - val_loss: 0.5476\n",
      "Epoch 4/100\n",
      "10/10 [==============================] - 0s 5ms/step - loss: 0.4776 - val_loss: 0.5015\n",
      "Epoch 5/100\n",
      "10/10 [==============================] - 0s 4ms/step - loss: 0.4358 - val_loss: 0.4557\n",
      "Epoch 6/100\n",
      "10/10 [==============================] - 0s 5ms/step - loss: 0.3941 - val_loss: 0.4090\n",
      "Epoch 7/100\n",
      "10/10 [==============================] - 0s 5ms/step - loss: 0.3512 - val_loss: 0.3615\n",
      "Epoch 8/100\n",
      "10/10 [==============================] - 0s 4ms/step - loss: 0.3077 - val_loss: 0.3127\n",
      "Epoch 9/100\n",
      "10/10 [==============================] - 0s 4ms/step - loss: 0.2632 - val_loss: 0.2639\n",
      "Epoch 10/100\n",
      "10/10 [==============================] - 0s 4ms/step - loss: 0.2194 - val_loss: 0.2162\n",
      "Epoch 11/100\n",
      "10/10 [==============================] - 0s 4ms/step - loss: 0.1777 - val_loss: 0.1707\n",
      "Epoch 12/100\n",
      "10/10 [==============================] - 0s 3ms/step - loss: 0.1378 - val_loss: 0.1299\n",
      "Epoch 13/100\n",
      "10/10 [==============================] - 0s 5ms/step - loss: 0.1028 - val_loss: 0.0948\n",
      "Epoch 14/100\n",
      "10/10 [==============================] - 0s 4ms/step - loss: 0.0737 - val_loss: 0.0663\n",
      "Epoch 15/100\n",
      "10/10 [==============================] - 0s 4ms/step - loss: 0.0506 - val_loss: 0.0452\n",
      "Epoch 16/100\n",
      "10/10 [==============================] - 0s 4ms/step - loss: 0.0345 - val_loss: 0.0308\n",
      "Epoch 17/100\n",
      "10/10 [==============================] - 0s 5ms/step - loss: 0.0240 - val_loss: 0.0222\n",
      "Epoch 18/100\n",
      "10/10 [==============================] - 0s 4ms/step - loss: 0.0179 - val_loss: 0.0177\n",
      "Epoch 19/100\n",
      "10/10 [==============================] - 0s 3ms/step - loss: 0.0151 - val_loss: 0.0156\n",
      "Epoch 20/100\n",
      "10/10 [==============================] - 0s 4ms/step - loss: 0.0138 - val_loss: 0.0148\n",
      "Epoch 21/100\n",
      "10/10 [==============================] - 0s 3ms/step - loss: 0.0134 - val_loss: 0.0145\n",
      "Epoch 22/100\n",
      "10/10 [==============================] - 0s 4ms/step - loss: 0.0132 - val_loss: 0.0143\n",
      "Epoch 23/100\n",
      "10/10 [==============================] - 0s 4ms/step - loss: 0.0131 - val_loss: 0.0142\n",
      "Epoch 24/100\n",
      "10/10 [==============================] - 0s 4ms/step - loss: 0.0130 - val_loss: 0.0141\n",
      "Epoch 25/100\n",
      "10/10 [==============================] - 0s 4ms/step - loss: 0.0129 - val_loss: 0.0139\n",
      "Epoch 26/100\n",
      "10/10 [==============================] - 0s 4ms/step - loss: 0.0128 - val_loss: 0.0138\n",
      "Epoch 27/100\n",
      "10/10 [==============================] - 0s 4ms/step - loss: 0.0127 - val_loss: 0.0137\n",
      "Epoch 28/100\n",
      "10/10 [==============================] - 0s 4ms/step - loss: 0.0126 - val_loss: 0.0136\n",
      "Epoch 29/100\n",
      "10/10 [==============================] - 0s 4ms/step - loss: 0.0125 - val_loss: 0.0134\n",
      "Epoch 30/100\n",
      "10/10 [==============================] - 0s 3ms/step - loss: 0.0124 - val_loss: 0.0133\n",
      "Epoch 31/100\n",
      "10/10 [==============================] - 0s 4ms/step - loss: 0.0123 - val_loss: 0.0132\n",
      "Epoch 32/100\n",
      "10/10 [==============================] - 0s 4ms/step - loss: 0.0122 - val_loss: 0.0131\n",
      "Epoch 33/100\n",
      "10/10 [==============================] - 0s 3ms/step - loss: 0.0121 - val_loss: 0.0130\n",
      "Epoch 34/100\n",
      "10/10 [==============================] - 0s 4ms/step - loss: 0.0120 - val_loss: 0.0128\n",
      "Epoch 35/100\n",
      "10/10 [==============================] - 0s 4ms/step - loss: 0.0119 - val_loss: 0.0127\n",
      "Epoch 36/100\n",
      "10/10 [==============================] - 0s 4ms/step - loss: 0.0118 - val_loss: 0.0126\n",
      "Epoch 37/100\n",
      "10/10 [==============================] - 0s 4ms/step - loss: 0.0117 - val_loss: 0.0125\n",
      "Epoch 38/100\n",
      "10/10 [==============================] - 0s 4ms/step - loss: 0.0116 - val_loss: 0.0123\n",
      "Epoch 39/100\n",
      "10/10 [==============================] - 0s 4ms/step - loss: 0.0115 - val_loss: 0.0122\n",
      "Epoch 40/100\n",
      "10/10 [==============================] - 0s 4ms/step - loss: 0.0114 - val_loss: 0.0121\n",
      "Epoch 41/100\n",
      "10/10 [==============================] - 0s 3ms/step - loss: 0.0113 - val_loss: 0.0120\n",
      "Epoch 42/100\n",
      "10/10 [==============================] - 0s 5ms/step - loss: 0.0112 - val_loss: 0.0119\n",
      "Epoch 43/100\n",
      "10/10 [==============================] - 0s 4ms/step - loss: 0.0111 - val_loss: 0.0118\n",
      "Epoch 44/100\n",
      "10/10 [==============================] - 0s 3ms/step - loss: 0.0110 - val_loss: 0.0116\n",
      "Epoch 45/100\n",
      "10/10 [==============================] - 0s 4ms/step - loss: 0.0109 - val_loss: 0.0115\n",
      "Epoch 46/100\n",
      "10/10 [==============================] - 0s 4ms/step - loss: 0.0108 - val_loss: 0.0114\n",
      "Epoch 47/100\n",
      "10/10 [==============================] - 0s 4ms/step - loss: 0.0107 - val_loss: 0.0113\n",
      "Epoch 48/100\n",
      "10/10 [==============================] - 0s 4ms/step - loss: 0.0106 - val_loss: 0.0112\n",
      "Epoch 49/100\n",
      "10/10 [==============================] - 0s 4ms/step - loss: 0.0105 - val_loss: 0.0111\n",
      "Epoch 50/100\n",
      "10/10 [==============================] - 0s 4ms/step - loss: 0.0104 - val_loss: 0.0110\n",
      "Epoch 51/100\n",
      "10/10 [==============================] - 0s 4ms/step - loss: 0.0103 - val_loss: 0.0109\n",
      "Epoch 52/100\n",
      "10/10 [==============================] - 0s 4ms/step - loss: 0.0103 - val_loss: 0.0107\n",
      "Epoch 53/100\n",
      "10/10 [==============================] - 0s 5ms/step - loss: 0.0102 - val_loss: 0.0106\n",
      "Epoch 54/100\n",
      "10/10 [==============================] - 0s 4ms/step - loss: 0.0101 - val_loss: 0.0105\n",
      "Epoch 55/100\n",
      "10/10 [==============================] - 0s 4ms/step - loss: 0.0100 - val_loss: 0.0104\n",
      "Epoch 56/100\n",
      "10/10 [==============================] - 0s 5ms/step - loss: 0.0099 - val_loss: 0.0103\n",
      "Epoch 57/100\n",
      "10/10 [==============================] - 0s 4ms/step - loss: 0.0098 - val_loss: 0.0102\n",
      "Epoch 58/100\n",
      "10/10 [==============================] - 0s 4ms/step - loss: 0.0097 - val_loss: 0.0101\n",
      "Epoch 59/100\n",
      "10/10 [==============================] - 0s 4ms/step - loss: 0.0097 - val_loss: 0.0100\n",
      "Epoch 60/100\n",
      "10/10 [==============================] - 0s 4ms/step - loss: 0.0096 - val_loss: 0.0099\n",
      "Epoch 61/100\n",
      "10/10 [==============================] - 0s 4ms/step - loss: 0.0095 - val_loss: 0.0099\n",
      "Epoch 62/100\n",
      "10/10 [==============================] - 0s 4ms/step - loss: 0.0094 - val_loss: 0.0097\n",
      "Epoch 63/100\n",
      "10/10 [==============================] - 0s 5ms/step - loss: 0.0093 - val_loss: 0.0096\n",
      "Epoch 64/100\n",
      "10/10 [==============================] - 0s 3ms/step - loss: 0.0093 - val_loss: 0.0096\n",
      "Epoch 65/100\n",
      "10/10 [==============================] - 0s 4ms/step - loss: 0.0092 - val_loss: 0.0095\n",
      "Epoch 66/100\n",
      "10/10 [==============================] - 0s 8ms/step - loss: 0.0091 - val_loss: 0.0094\n",
      "Epoch 67/100\n",
      "10/10 [==============================] - 0s 7ms/step - loss: 0.0090 - val_loss: 0.0093\n",
      "Epoch 68/100\n",
      "10/10 [==============================] - 0s 7ms/step - loss: 0.0090 - val_loss: 0.0092\n",
      "Epoch 69/100\n",
      "10/10 [==============================] - 0s 7ms/step - loss: 0.0089 - val_loss: 0.0091\n",
      "Epoch 70/100\n",
      "10/10 [==============================] - 0s 8ms/step - loss: 0.0088 - val_loss: 0.0090\n",
      "Epoch 71/100\n",
      "10/10 [==============================] - 0s 8ms/step - loss: 0.0088 - val_loss: 0.0089\n",
      "Epoch 72/100\n",
      "10/10 [==============================] - 0s 8ms/step - loss: 0.0087 - val_loss: 0.0089\n",
      "Epoch 73/100\n",
      "10/10 [==============================] - 0s 7ms/step - loss: 0.0086 - val_loss: 0.0088\n",
      "Epoch 74/100\n",
      "10/10 [==============================] - 0s 8ms/step - loss: 0.0086 - val_loss: 0.0087\n",
      "Epoch 75/100\n",
      "10/10 [==============================] - 0s 7ms/step - loss: 0.0085 - val_loss: 0.0086\n",
      "Epoch 76/100\n",
      "10/10 [==============================] - 0s 7ms/step - loss: 0.0084 - val_loss: 0.0085\n",
      "Epoch 77/100\n",
      "10/10 [==============================] - 0s 7ms/step - loss: 0.0084 - val_loss: 0.0085\n",
      "Epoch 78/100\n",
      "10/10 [==============================] - 0s 7ms/step - loss: 0.0083 - val_loss: 0.0084\n",
      "Epoch 79/100\n",
      "10/10 [==============================] - 0s 10ms/step - loss: 0.0082 - val_loss: 0.0083\n",
      "Epoch 80/100\n",
      "10/10 [==============================] - 0s 7ms/step - loss: 0.0082 - val_loss: 0.0083\n",
      "Epoch 81/100\n",
      "10/10 [==============================] - 0s 8ms/step - loss: 0.0081 - val_loss: 0.0082\n",
      "Epoch 82/100\n",
      "10/10 [==============================] - 0s 7ms/step - loss: 0.0080 - val_loss: 0.0081\n",
      "Epoch 83/100\n"
     ]
    },
    {
     "name": "stdout",
     "output_type": "stream",
     "text": [
      "10/10 [==============================] - 0s 8ms/step - loss: 0.0080 - val_loss: 0.0080\n",
      "Epoch 84/100\n",
      "10/10 [==============================] - 0s 7ms/step - loss: 0.0079 - val_loss: 0.0080\n",
      "Epoch 85/100\n",
      "10/10 [==============================] - 0s 8ms/step - loss: 0.0079 - val_loss: 0.0079\n",
      "Epoch 86/100\n",
      "10/10 [==============================] - 0s 7ms/step - loss: 0.0078 - val_loss: 0.0078\n",
      "Epoch 87/100\n",
      "10/10 [==============================] - 0s 7ms/step - loss: 0.0078 - val_loss: 0.0078\n",
      "Epoch 88/100\n",
      "10/10 [==============================] - 0s 7ms/step - loss: 0.0077 - val_loss: 0.0077\n",
      "Epoch 89/100\n",
      "10/10 [==============================] - 0s 7ms/step - loss: 0.0076 - val_loss: 0.0077\n",
      "Epoch 90/100\n",
      "10/10 [==============================] - 0s 7ms/step - loss: 0.0076 - val_loss: 0.0076\n",
      "Epoch 91/100\n",
      "10/10 [==============================] - 0s 7ms/step - loss: 0.0075 - val_loss: 0.0075\n",
      "Epoch 92/100\n",
      "10/10 [==============================] - 0s 7ms/step - loss: 0.0075 - val_loss: 0.0074\n",
      "Epoch 93/100\n",
      "10/10 [==============================] - 0s 9ms/step - loss: 0.0074 - val_loss: 0.0074\n",
      "Epoch 94/100\n",
      "10/10 [==============================] - 0s 7ms/step - loss: 0.0074 - val_loss: 0.0074\n",
      "Epoch 95/100\n",
      "10/10 [==============================] - 0s 7ms/step - loss: 0.0073 - val_loss: 0.0073\n",
      "Epoch 96/100\n",
      "10/10 [==============================] - 0s 7ms/step - loss: 0.0073 - val_loss: 0.0072\n",
      "Epoch 97/100\n",
      "10/10 [==============================] - 0s 8ms/step - loss: 0.0072 - val_loss: 0.0072\n",
      "Epoch 98/100\n",
      "10/10 [==============================] - 0s 7ms/step - loss: 0.0072 - val_loss: 0.0071\n",
      "Epoch 99/100\n",
      "10/10 [==============================] - 0s 8ms/step - loss: 0.0071 - val_loss: 0.0071\n",
      "Epoch 100/100\n",
      "10/10 [==============================] - 0s 8ms/step - loss: 0.0071 - val_loss: 0.0070\n"
     ]
    }
   ],
   "source": [
    "model2=Sequential()\n",
    "\n",
    "model2.add(Dense(7,activation='relu',input_dim=7))\n",
    "model2.add(Dense(7,activation='relu'))\n",
    "model2.add(Dense(1,activation='linear'))\n",
    "model2.compile(loss='mean_squared_error',optimizer='Adam')\n",
    "history2=model2.fit(X_train_scaled,y_train,epochs=100,validation_split=0.2)"
   ]
  },
  {
   "cell_type": "markdown",
   "id": "fd69f927",
   "metadata": {},
   "source": [
    "# ANN2 test"
   ]
  },
  {
   "cell_type": "code",
   "execution_count": 27,
   "id": "9a179d49",
   "metadata": {},
   "outputs": [
    {
     "name": "stdout",
     "output_type": "stream",
     "text": [
      "4/4 [==============================] - 0s 4ms/step\n"
     ]
    },
    {
     "data": {
      "text/plain": [
       "array([[0.5188873 ],\n",
       "       [0.6659118 ],\n",
       "       [0.835534  ],\n",
       "       [0.71761537],\n",
       "       [0.8365697 ],\n",
       "       [0.69366145],\n",
       "       [0.7546654 ],\n",
       "       [0.8266283 ],\n",
       "       [0.78284216],\n",
       "       [0.75340486],\n",
       "       [0.6980239 ],\n",
       "       [0.6478362 ],\n",
       "       [0.81647915],\n",
       "       [0.6570984 ],\n",
       "       [0.7510974 ],\n",
       "       [0.9271177 ],\n",
       "       [0.6229254 ],\n",
       "       [0.69224334],\n",
       "       [0.82813156],\n",
       "       [0.5926377 ],\n",
       "       [0.665564  ],\n",
       "       [0.8281687 ],\n",
       "       [0.86204857],\n",
       "       [0.72695875],\n",
       "       [0.72619045],\n",
       "       [0.5457321 ],\n",
       "       [0.9617225 ],\n",
       "       [0.6079456 ],\n",
       "       [0.8561928 ],\n",
       "       [0.66046304],\n",
       "       [0.6303814 ],\n",
       "       [0.77216995],\n",
       "       [0.64426625],\n",
       "       [0.8924584 ],\n",
       "       [0.5110881 ],\n",
       "       [0.732515  ],\n",
       "       [0.673588  ],\n",
       "       [0.6222898 ],\n",
       "       [0.62771624],\n",
       "       [0.8248447 ],\n",
       "       [0.50078994],\n",
       "       [0.7150674 ],\n",
       "       [0.90847945],\n",
       "       [0.9230262 ],\n",
       "       [0.72041065],\n",
       "       [0.45534134],\n",
       "       [0.6280288 ],\n",
       "       [0.60365856],\n",
       "       [0.6850925 ],\n",
       "       [0.67077106],\n",
       "       [0.8510314 ],\n",
       "       [0.9261351 ],\n",
       "       [0.79100007],\n",
       "       [0.6599667 ],\n",
       "       [0.82233256],\n",
       "       [0.6172222 ],\n",
       "       [0.78442645],\n",
       "       [0.53503424],\n",
       "       [0.69964486],\n",
       "       [0.72261584],\n",
       "       [0.3642164 ],\n",
       "       [0.7600915 ],\n",
       "       [0.90971434],\n",
       "       [0.77433074],\n",
       "       [0.9768114 ],\n",
       "       [0.5933513 ],\n",
       "       [0.7775496 ],\n",
       "       [0.83395135],\n",
       "       [0.9568304 ],\n",
       "       [0.6357935 ],\n",
       "       [0.54723585],\n",
       "       [0.60275936],\n",
       "       [0.7185033 ],\n",
       "       [0.50015193],\n",
       "       [0.9032881 ],\n",
       "       [0.57751524],\n",
       "       [0.88888854],\n",
       "       [0.9340708 ],\n",
       "       [0.67441964],\n",
       "       [0.7742885 ],\n",
       "       [0.84147954],\n",
       "       [0.48765337],\n",
       "       [0.8418875 ],\n",
       "       [0.88232344],\n",
       "       [0.8018829 ],\n",
       "       [0.67472833],\n",
       "       [0.91362727],\n",
       "       [0.8571484 ],\n",
       "       [0.64911586],\n",
       "       [0.50268644],\n",
       "       [0.5426451 ],\n",
       "       [0.81857944],\n",
       "       [0.5469767 ],\n",
       "       [0.76374346],\n",
       "       [0.69125044],\n",
       "       [0.87266403],\n",
       "       [0.8252459 ],\n",
       "       [0.60660636],\n",
       "       [0.7229074 ],\n",
       "       [0.62539715]], dtype=float32)"
      ]
     },
     "execution_count": 27,
     "metadata": {},
     "output_type": "execute_result"
    }
   ],
   "source": [
    "y_pred2=model2.predict(X_test_scaled)\n",
    "y_pred2"
   ]
  },
  {
   "cell_type": "code",
   "execution_count": 28,
   "id": "3d82393d",
   "metadata": {},
   "outputs": [
    {
     "data": {
      "text/plain": [
       "304    0.62\n",
       "340    0.75\n",
       "47     0.89\n",
       "67     0.57\n",
       "479    0.79\n",
       "       ... \n",
       "11     0.84\n",
       "192    0.86\n",
       "92     0.34\n",
       "221    0.75\n",
       "110    0.61\n",
       "Name: Chance of Admit , Length: 100, dtype: float64"
      ]
     },
     "execution_count": 28,
     "metadata": {},
     "output_type": "execute_result"
    }
   ],
   "source": [
    "y_test"
   ]
  },
  {
   "cell_type": "code",
   "execution_count": 29,
   "id": "4a804d0f",
   "metadata": {},
   "outputs": [
    {
     "data": {
      "text/plain": [
       "0.7048206883235015"
      ]
     },
     "execution_count": 29,
     "metadata": {},
     "output_type": "execute_result"
    }
   ],
   "source": [
    "from sklearn.metrics import r2_score\n",
    "r2_score(y_test,y_pred2)"
   ]
  },
  {
   "cell_type": "markdown",
   "id": "62af61a9",
   "metadata": {},
   "source": [
    "\n",
    "# plot loss "
   ]
  },
  {
   "cell_type": "code",
   "execution_count": 30,
   "id": "e3b4e6cc",
   "metadata": {},
   "outputs": [
    {
     "data": {
      "text/plain": [
       "[<matplotlib.lines.Line2D at 0x1781dde1110>]"
      ]
     },
     "execution_count": 30,
     "metadata": {},
     "output_type": "execute_result"
    },
    {
     "data": {
      "image/png": "[encoded data removed]",
      "text/plain": [
       "<Figure size 640x480 with 1 Axes>"
      ]
     },
     "metadata": {},
     "output_type": "display_data"
    }
   ],
   "source": [
    "import matplotlib.pyplot as plt\n",
    "plt.plot(history2.history['loss'])#blue\n",
    "plt.plot(history2.history['val_loss'])#orange\n",
    "#as u see at epochs loss decreasing ,,,both val_loss and loss are same ,,so model is not overfitted"
   ]
  }
 ],
 "metadata": {
  "kernelspec": {
   "display_name": "Python 3 (ipykernel)",
   "language": "python",
   "name": "python3"
  },
  "language_info": {
   "codemirror_mode": {
    "name": "ipython",
    "version": 3
   },
   "file_extension": ".py",
   "mimetype": "text/x-python",
   "name": "python",
   "nbconvert_exporter": "python",
   "pygments_lexer": "ipython3",
   "version": "3.11.4"
  }
 },
 "nbformat": 4,
 "nbformat_minor": 5
}
