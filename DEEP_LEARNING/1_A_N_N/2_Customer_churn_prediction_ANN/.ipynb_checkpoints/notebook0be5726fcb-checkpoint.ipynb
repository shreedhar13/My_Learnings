{
 "cells": [
  {
   "cell_type": "markdown",
   "metadata": {},
   "source": [
    "# knowing which customer are likely to leave or unsubscribe from your service\n",
    "in this case we use Bank churn prediction fro many companies this is an important prediction ,bcz acquiring new customers often costs more than retaining existing one"
   ]
  },
  {
   "cell_type": "code",
   "execution_count": 1,
   "metadata": {
    "_cell_guid": "b1076dfc-b9ad-4769-8c92-a6c4dae69d19",
    "_uuid": "8f2839f25d086af736a60e9eeb907d3b93b6e0e5",
    "execution": {
     "iopub.execute_input": "2023-10-11T11:24:27.156937Z",
     "iopub.status.busy": "2023-10-11T11:24:27.156178Z",
     "iopub.status.idle": "2023-10-11T11:24:27.568413Z",
     "shell.execute_reply": "2023-10-11T11:24:27.567168Z",
     "shell.execute_reply.started": "2023-10-11T11:24:27.156903Z"
    }
   },
   "outputs": [
    {
     "name": "stdout",
     "output_type": "stream",
     "text": [
      "/kaggle/input/credit-card-customer-churn-prediction/Churn_Modelling.csv\n"
     ]
    }
   ],
   "source": [
    "# This Python 3 environment comes with many helpful analytics libraries installed\n",
    "# It is defined by the kaggle/python Docker image: https://github.com/kaggle/docker-python\n",
    "# For example, here's several helpful packages to load\n",
    "\n",
    "import numpy as np # linear algebra\n",
    "import pandas as pd # data processing, CSV file I/O (e.g. pd.read_csv)\n",
    "\n",
    "# Input data files are available in the read-only \"../input/\" directory\n",
    "# For example, running this (by clicking run or pressing Shift+Enter) will list all files under the input directory\n",
    "\n",
    "import os\n",
    "for dirname, _, filenames in os.walk('/kaggle/input'):\n",
    "    for filename in filenames:\n",
    "        print(os.path.join(dirname, filename))\n",
    "\n",
    "# You can write up to 20GB to the current directory (/kaggle/working/) that gets preserved as output when you create a version using \"Save & Run All\" \n",
    "# You can also write temporary files to /kaggle/temp/, but they won't be saved outside of the current session"
   ]
  },
  {
   "cell_type": "code",
   "execution_count": 2,
   "metadata": {
    "execution": {
     "iopub.execute_input": "2023-10-11T11:24:27.571244Z",
     "iopub.status.busy": "2023-10-11T11:24:27.570778Z",
     "iopub.status.idle": "2023-10-11T11:24:27.647315Z",
     "shell.execute_reply": "2023-10-11T11:24:27.646100Z",
     "shell.execute_reply.started": "2023-10-11T11:24:27.571213Z"
    }
   },
   "outputs": [
    {
     "data": {
      "text/html": [
       "<div>\n",
       "<style scoped>\n",
       "    .dataframe tbody tr th:only-of-type {\n",
       "        vertical-align: middle;\n",
       "    }\n",
       "\n",
       "    .dataframe tbody tr th {\n",
       "        vertical-align: top;\n",
       "    }\n",
       "\n",
       "    .dataframe thead th {\n",
       "        text-align: right;\n",
       "    }\n",
       "</style>\n",
       "<table border=\"1\" class=\"dataframe\">\n",
       "  <thead>\n",
       "    <tr style=\"text-align: right;\">\n",
       "      <th></th>\n",
       "      <th>RowNumber</th>\n",
       "      <th>CustomerId</th>\n",
       "      <th>Surname</th>\n",
       "      <th>CreditScore</th>\n",
       "      <th>Geography</th>\n",
       "      <th>Gender</th>\n",
       "      <th>Age</th>\n",
       "      <th>Tenure</th>\n",
       "      <th>Balance</th>\n",
       "      <th>NumOfProducts</th>\n",
       "      <th>HasCrCard</th>\n",
       "      <th>IsActiveMember</th>\n",
       "      <th>EstimatedSalary</th>\n",
       "      <th>Exited</th>\n",
       "    </tr>\n",
       "  </thead>\n",
       "  <tbody>\n",
       "    <tr>\n",
       "      <th>0</th>\n",
       "      <td>1</td>\n",
       "      <td>15634602</td>\n",
       "      <td>Hargrave</td>\n",
       "      <td>619</td>\n",
       "      <td>France</td>\n",
       "      <td>Female</td>\n",
       "      <td>42</td>\n",
       "      <td>2</td>\n",
       "      <td>0.00</td>\n",
       "      <td>1</td>\n",
       "      <td>1</td>\n",
       "      <td>1</td>\n",
       "      <td>101348.88</td>\n",
       "      <td>1</td>\n",
       "    </tr>\n",
       "    <tr>\n",
       "      <th>1</th>\n",
       "      <td>2</td>\n",
       "      <td>15647311</td>\n",
       "      <td>Hill</td>\n",
       "      <td>608</td>\n",
       "      <td>Spain</td>\n",
       "      <td>Female</td>\n",
       "      <td>41</td>\n",
       "      <td>1</td>\n",
       "      <td>83807.86</td>\n",
       "      <td>1</td>\n",
       "      <td>0</td>\n",
       "      <td>1</td>\n",
       "      <td>112542.58</td>\n",
       "      <td>0</td>\n",
       "    </tr>\n",
       "    <tr>\n",
       "      <th>2</th>\n",
       "      <td>3</td>\n",
       "      <td>15619304</td>\n",
       "      <td>Onio</td>\n",
       "      <td>502</td>\n",
       "      <td>France</td>\n",
       "      <td>Female</td>\n",
       "      <td>42</td>\n",
       "      <td>8</td>\n",
       "      <td>159660.80</td>\n",
       "      <td>3</td>\n",
       "      <td>1</td>\n",
       "      <td>0</td>\n",
       "      <td>113931.57</td>\n",
       "      <td>1</td>\n",
       "    </tr>\n",
       "    <tr>\n",
       "      <th>3</th>\n",
       "      <td>4</td>\n",
       "      <td>15701354</td>\n",
       "      <td>Boni</td>\n",
       "      <td>699</td>\n",
       "      <td>France</td>\n",
       "      <td>Female</td>\n",
       "      <td>39</td>\n",
       "      <td>1</td>\n",
       "      <td>0.00</td>\n",
       "      <td>2</td>\n",
       "      <td>0</td>\n",
       "      <td>0</td>\n",
       "      <td>93826.63</td>\n",
       "      <td>0</td>\n",
       "    </tr>\n",
       "    <tr>\n",
       "      <th>4</th>\n",
       "      <td>5</td>\n",
       "      <td>15737888</td>\n",
       "      <td>Mitchell</td>\n",
       "      <td>850</td>\n",
       "      <td>Spain</td>\n",
       "      <td>Female</td>\n",
       "      <td>43</td>\n",
       "      <td>2</td>\n",
       "      <td>125510.82</td>\n",
       "      <td>1</td>\n",
       "      <td>1</td>\n",
       "      <td>1</td>\n",
       "      <td>79084.10</td>\n",
       "      <td>0</td>\n",
       "    </tr>\n",
       "  </tbody>\n",
       "</table>\n",
       "</div>"
      ],
      "text/plain": [
       "   RowNumber  CustomerId   Surname  CreditScore Geography  Gender  Age  \\\n",
       "0          1    15634602  Hargrave          619    France  Female   42   \n",
       "1          2    15647311      Hill          608     Spain  Female   41   \n",
       "2          3    15619304      Onio          502    France  Female   42   \n",
       "3          4    15701354      Boni          699    France  Female   39   \n",
       "4          5    15737888  Mitchell          850     Spain  Female   43   \n",
       "\n",
       "   Tenure    Balance  NumOfProducts  HasCrCard  IsActiveMember  \\\n",
       "0       2       0.00              1          1               1   \n",
       "1       1   83807.86              1          0               1   \n",
       "2       8  159660.80              3          1               0   \n",
       "3       1       0.00              2          0               0   \n",
       "4       2  125510.82              1          1               1   \n",
       "\n",
       "   EstimatedSalary  Exited  \n",
       "0        101348.88       1  \n",
       "1        112542.58       0  \n",
       "2        113931.57       1  \n",
       "3         93826.63       0  \n",
       "4         79084.10       0  "
      ]
     },
     "execution_count": 2,
     "metadata": {},
     "output_type": "execute_result"
    }
   ],
   "source": [
    "#bcz,,we have not yet installed Tenserflow(keras) so that we are working on kaggle ,,bcz it has cloud ,tenserflow(keras) and all library related to AI are already installed\n",
    "#after installing it you can replace this path with \"D:\\DEEP_LEARNING\\Customer_churn_prediction\\Churn_Modelling.csv\"\n",
    "df=pd.read_csv('/kaggle/input/credit-card-customer-churn-prediction/Churn_Modelling.csv')\n",
    "df.head()"
   ]
  },
  {
   "cell_type": "code",
   "execution_count": 3,
   "metadata": {
    "execution": {
     "iopub.execute_input": "2023-10-11T11:24:27.649677Z",
     "iopub.status.busy": "2023-10-11T11:24:27.648829Z",
     "iopub.status.idle": "2023-10-11T11:24:27.654273Z",
     "shell.execute_reply": "2023-10-11T11:24:27.653133Z",
     "shell.execute_reply.started": "2023-10-11T11:24:27.649641Z"
    }
   },
   "outputs": [],
   "source": [
    "#bcz now our goal is to observe how tenserfloe(keras ) works so no need to deep dive into problem statement"
   ]
  },
  {
   "cell_type": "code",
   "execution_count": 4,
   "metadata": {
    "execution": {
     "iopub.execute_input": "2023-10-11T11:24:27.656979Z",
     "iopub.status.busy": "2023-10-11T11:24:27.656653Z",
     "iopub.status.idle": "2023-10-11T11:24:27.699408Z",
     "shell.execute_reply": "2023-10-11T11:24:27.698312Z",
     "shell.execute_reply.started": "2023-10-11T11:24:27.656952Z"
    }
   },
   "outputs": [
    {
     "name": "stdout",
     "output_type": "stream",
     "text": [
      "<class 'pandas.core.frame.DataFrame'>\n",
      "RangeIndex: 10000 entries, 0 to 9999\n",
      "Data columns (total 14 columns):\n",
      " #   Column           Non-Null Count  Dtype  \n",
      "---  ------           --------------  -----  \n",
      " 0   RowNumber        10000 non-null  int64  \n",
      " 1   CustomerId       10000 non-null  int64  \n",
      " 2   Surname          10000 non-null  object \n",
      " 3   CreditScore      10000 non-null  int64  \n",
      " 4   Geography        10000 non-null  object \n",
      " 5   Gender           10000 non-null  object \n",
      " 6   Age              10000 non-null  int64  \n",
      " 7   Tenure           10000 non-null  int64  \n",
      " 8   Balance          10000 non-null  float64\n",
      " 9   NumOfProducts    10000 non-null  int64  \n",
      " 10  HasCrCard        10000 non-null  int64  \n",
      " 11  IsActiveMember   10000 non-null  int64  \n",
      " 12  EstimatedSalary  10000 non-null  float64\n",
      " 13  Exited           10000 non-null  int64  \n",
      "dtypes: float64(2), int64(9), object(3)\n",
      "memory usage: 1.1+ MB\n"
     ]
    }
   ],
   "source": [
    "df.info()"
   ]
  },
  {
   "cell_type": "code",
   "execution_count": 5,
   "metadata": {
    "execution": {
     "iopub.execute_input": "2023-10-11T11:24:27.701999Z",
     "iopub.status.busy": "2023-10-11T11:24:27.701022Z",
     "iopub.status.idle": "2023-10-11T11:24:27.706921Z",
     "shell.execute_reply": "2023-10-11T11:24:27.705573Z",
     "shell.execute_reply.started": "2023-10-11T11:24:27.701956Z"
    }
   },
   "outputs": [],
   "source": [
    "#no missing values"
   ]
  },
  {
   "cell_type": "code",
   "execution_count": 6,
   "metadata": {
    "execution": {
     "iopub.execute_input": "2023-10-11T11:24:27.708825Z",
     "iopub.status.busy": "2023-10-11T11:24:27.708031Z",
     "iopub.status.idle": "2023-10-11T11:24:27.734880Z",
     "shell.execute_reply": "2023-10-11T11:24:27.733645Z",
     "shell.execute_reply.started": "2023-10-11T11:24:27.708797Z"
    }
   },
   "outputs": [
    {
     "data": {
      "text/plain": [
       "0"
      ]
     },
     "execution_count": 6,
     "metadata": {},
     "output_type": "execute_result"
    }
   ],
   "source": [
    "df.duplicated().sum()\n",
    "#check,,whether duplicate rows are present in dataset"
   ]
  },
  {
   "cell_type": "code",
   "execution_count": 7,
   "metadata": {
    "execution": {
     "iopub.execute_input": "2023-10-11T11:24:27.737224Z",
     "iopub.status.busy": "2023-10-11T11:24:27.736290Z",
     "iopub.status.idle": "2023-10-11T11:24:27.744461Z",
     "shell.execute_reply": "2023-10-11T11:24:27.743456Z",
     "shell.execute_reply.started": "2023-10-11T11:24:27.737193Z"
    }
   },
   "outputs": [
    {
     "data": {
      "text/plain": [
       "Exited\n",
       "0    7963\n",
       "1    2037\n",
       "Name: count, dtype: int64"
      ]
     },
     "execution_count": 7,
     "metadata": {},
     "output_type": "execute_result"
    }
   ],
   "source": [
    "df['Exited'].value_counts()\n",
    "#   7963 customers are not exited bank ,  2037 customers are exited the company\n",
    "#imbalance classification,,,,problem\n",
    "#but we are learning Tenserflow working,,so not doing any feature engg and EDA"
   ]
  },
  {
   "cell_type": "code",
   "execution_count": 8,
   "metadata": {
    "execution": {
     "iopub.execute_input": "2023-10-11T11:24:27.746985Z",
     "iopub.status.busy": "2023-10-11T11:24:27.745938Z",
     "iopub.status.idle": "2023-10-11T11:24:27.757091Z",
     "shell.execute_reply": "2023-10-11T11:24:27.755917Z",
     "shell.execute_reply.started": "2023-10-11T11:24:27.746937Z"
    }
   },
   "outputs": [],
   "source": [
    "# as u see 'RowNumber\tCustomerId\tSurname' is not important to check that particular customer leave bank or not\n",
    "#so u can drop them"
   ]
  },
  {
   "cell_type": "code",
   "execution_count": 9,
   "metadata": {
    "execution": {
     "iopub.execute_input": "2023-10-11T11:24:27.759016Z",
     "iopub.status.busy": "2023-10-11T11:24:27.758274Z",
     "iopub.status.idle": "2023-10-11T11:24:27.785859Z",
     "shell.execute_reply": "2023-10-11T11:24:27.784544Z",
     "shell.execute_reply.started": "2023-10-11T11:24:27.758985Z"
    }
   },
   "outputs": [
    {
     "data": {
      "text/html": [
       "<div>\n",
       "<style scoped>\n",
       "    .dataframe tbody tr th:only-of-type {\n",
       "        vertical-align: middle;\n",
       "    }\n",
       "\n",
       "    .dataframe tbody tr th {\n",
       "        vertical-align: top;\n",
       "    }\n",
       "\n",
       "    .dataframe thead th {\n",
       "        text-align: right;\n",
       "    }\n",
       "</style>\n",
       "<table border=\"1\" class=\"dataframe\">\n",
       "  <thead>\n",
       "    <tr style=\"text-align: right;\">\n",
       "      <th></th>\n",
       "      <th>CreditScore</th>\n",
       "      <th>Geography</th>\n",
       "      <th>Gender</th>\n",
       "      <th>Age</th>\n",
       "      <th>Tenure</th>\n",
       "      <th>Balance</th>\n",
       "      <th>NumOfProducts</th>\n",
       "      <th>HasCrCard</th>\n",
       "      <th>IsActiveMember</th>\n",
       "      <th>EstimatedSalary</th>\n",
       "      <th>Exited</th>\n",
       "    </tr>\n",
       "  </thead>\n",
       "  <tbody>\n",
       "    <tr>\n",
       "      <th>0</th>\n",
       "      <td>619</td>\n",
       "      <td>France</td>\n",
       "      <td>Female</td>\n",
       "      <td>42</td>\n",
       "      <td>2</td>\n",
       "      <td>0.00</td>\n",
       "      <td>1</td>\n",
       "      <td>1</td>\n",
       "      <td>1</td>\n",
       "      <td>101348.88</td>\n",
       "      <td>1</td>\n",
       "    </tr>\n",
       "    <tr>\n",
       "      <th>1</th>\n",
       "      <td>608</td>\n",
       "      <td>Spain</td>\n",
       "      <td>Female</td>\n",
       "      <td>41</td>\n",
       "      <td>1</td>\n",
       "      <td>83807.86</td>\n",
       "      <td>1</td>\n",
       "      <td>0</td>\n",
       "      <td>1</td>\n",
       "      <td>112542.58</td>\n",
       "      <td>0</td>\n",
       "    </tr>\n",
       "    <tr>\n",
       "      <th>2</th>\n",
       "      <td>502</td>\n",
       "      <td>France</td>\n",
       "      <td>Female</td>\n",
       "      <td>42</td>\n",
       "      <td>8</td>\n",
       "      <td>159660.80</td>\n",
       "      <td>3</td>\n",
       "      <td>1</td>\n",
       "      <td>0</td>\n",
       "      <td>113931.57</td>\n",
       "      <td>1</td>\n",
       "    </tr>\n",
       "    <tr>\n",
       "      <th>3</th>\n",
       "      <td>699</td>\n",
       "      <td>France</td>\n",
       "      <td>Female</td>\n",
       "      <td>39</td>\n",
       "      <td>1</td>\n",
       "      <td>0.00</td>\n",
       "      <td>2</td>\n",
       "      <td>0</td>\n",
       "      <td>0</td>\n",
       "      <td>93826.63</td>\n",
       "      <td>0</td>\n",
       "    </tr>\n",
       "    <tr>\n",
       "      <th>4</th>\n",
       "      <td>850</td>\n",
       "      <td>Spain</td>\n",
       "      <td>Female</td>\n",
       "      <td>43</td>\n",
       "      <td>2</td>\n",
       "      <td>125510.82</td>\n",
       "      <td>1</td>\n",
       "      <td>1</td>\n",
       "      <td>1</td>\n",
       "      <td>79084.10</td>\n",
       "      <td>0</td>\n",
       "    </tr>\n",
       "  </tbody>\n",
       "</table>\n",
       "</div>"
      ],
      "text/plain": [
       "   CreditScore Geography  Gender  Age  Tenure    Balance  NumOfProducts  \\\n",
       "0          619    France  Female   42       2       0.00              1   \n",
       "1          608     Spain  Female   41       1   83807.86              1   \n",
       "2          502    France  Female   42       8  159660.80              3   \n",
       "3          699    France  Female   39       1       0.00              2   \n",
       "4          850     Spain  Female   43       2  125510.82              1   \n",
       "\n",
       "   HasCrCard  IsActiveMember  EstimatedSalary  Exited  \n",
       "0          1               1        101348.88       1  \n",
       "1          0               1        112542.58       0  \n",
       "2          1               0        113931.57       1  \n",
       "3          0               0         93826.63       0  \n",
       "4          1               1         79084.10       0  "
      ]
     },
     "execution_count": 9,
     "metadata": {},
     "output_type": "execute_result"
    }
   ],
   "source": [
    "df.drop(columns=['RowNumber','CustomerId','Surname'],inplace=True)\n",
    "df.head()"
   ]
  },
  {
   "cell_type": "code",
   "execution_count": 10,
   "metadata": {
    "execution": {
     "iopub.execute_input": "2023-10-11T11:24:27.789495Z",
     "iopub.status.busy": "2023-10-11T11:24:27.788879Z",
     "iopub.status.idle": "2023-10-11T11:24:27.793800Z",
     "shell.execute_reply": "2023-10-11T11:24:27.792452Z",
     "shell.execute_reply.started": "2023-10-11T11:24:27.789462Z"
    }
   },
   "outputs": [],
   "source": [
    "#we want numerical value,,Geography,Gender are catogarical var,so convert them in to Number by \n",
    "#ONE_HOT_ENCODING"
   ]
  },
  {
   "cell_type": "code",
   "execution_count": 11,
   "metadata": {
    "execution": {
     "iopub.execute_input": "2023-10-11T11:24:27.795534Z",
     "iopub.status.busy": "2023-10-11T11:24:27.795214Z",
     "iopub.status.idle": "2023-10-11T11:24:27.825156Z",
     "shell.execute_reply": "2023-10-11T11:24:27.824189Z",
     "shell.execute_reply.started": "2023-10-11T11:24:27.795507Z"
    }
   },
   "outputs": [
    {
     "data": {
      "text/html": [
       "<div>\n",
       "<style scoped>\n",
       "    .dataframe tbody tr th:only-of-type {\n",
       "        vertical-align: middle;\n",
       "    }\n",
       "\n",
       "    .dataframe tbody tr th {\n",
       "        vertical-align: top;\n",
       "    }\n",
       "\n",
       "    .dataframe thead th {\n",
       "        text-align: right;\n",
       "    }\n",
       "</style>\n",
       "<table border=\"1\" class=\"dataframe\">\n",
       "  <thead>\n",
       "    <tr style=\"text-align: right;\">\n",
       "      <th></th>\n",
       "      <th>CreditScore</th>\n",
       "      <th>Age</th>\n",
       "      <th>Tenure</th>\n",
       "      <th>Balance</th>\n",
       "      <th>NumOfProducts</th>\n",
       "      <th>HasCrCard</th>\n",
       "      <th>IsActiveMember</th>\n",
       "      <th>EstimatedSalary</th>\n",
       "      <th>Exited</th>\n",
       "      <th>Geography_Germany</th>\n",
       "      <th>Geography_Spain</th>\n",
       "      <th>Gender_Male</th>\n",
       "    </tr>\n",
       "  </thead>\n",
       "  <tbody>\n",
       "    <tr>\n",
       "      <th>0</th>\n",
       "      <td>619</td>\n",
       "      <td>42</td>\n",
       "      <td>2</td>\n",
       "      <td>0.00</td>\n",
       "      <td>1</td>\n",
       "      <td>1</td>\n",
       "      <td>1</td>\n",
       "      <td>101348.88</td>\n",
       "      <td>1</td>\n",
       "      <td>False</td>\n",
       "      <td>False</td>\n",
       "      <td>False</td>\n",
       "    </tr>\n",
       "    <tr>\n",
       "      <th>1</th>\n",
       "      <td>608</td>\n",
       "      <td>41</td>\n",
       "      <td>1</td>\n",
       "      <td>83807.86</td>\n",
       "      <td>1</td>\n",
       "      <td>0</td>\n",
       "      <td>1</td>\n",
       "      <td>112542.58</td>\n",
       "      <td>0</td>\n",
       "      <td>False</td>\n",
       "      <td>True</td>\n",
       "      <td>False</td>\n",
       "    </tr>\n",
       "    <tr>\n",
       "      <th>2</th>\n",
       "      <td>502</td>\n",
       "      <td>42</td>\n",
       "      <td>8</td>\n",
       "      <td>159660.80</td>\n",
       "      <td>3</td>\n",
       "      <td>1</td>\n",
       "      <td>0</td>\n",
       "      <td>113931.57</td>\n",
       "      <td>1</td>\n",
       "      <td>False</td>\n",
       "      <td>False</td>\n",
       "      <td>False</td>\n",
       "    </tr>\n",
       "    <tr>\n",
       "      <th>3</th>\n",
       "      <td>699</td>\n",
       "      <td>39</td>\n",
       "      <td>1</td>\n",
       "      <td>0.00</td>\n",
       "      <td>2</td>\n",
       "      <td>0</td>\n",
       "      <td>0</td>\n",
       "      <td>93826.63</td>\n",
       "      <td>0</td>\n",
       "      <td>False</td>\n",
       "      <td>False</td>\n",
       "      <td>False</td>\n",
       "    </tr>\n",
       "    <tr>\n",
       "      <th>4</th>\n",
       "      <td>850</td>\n",
       "      <td>43</td>\n",
       "      <td>2</td>\n",
       "      <td>125510.82</td>\n",
       "      <td>1</td>\n",
       "      <td>1</td>\n",
       "      <td>1</td>\n",
       "      <td>79084.10</td>\n",
       "      <td>0</td>\n",
       "      <td>False</td>\n",
       "      <td>True</td>\n",
       "      <td>False</td>\n",
       "    </tr>\n",
       "  </tbody>\n",
       "</table>\n",
       "</div>"
      ],
      "text/plain": [
       "   CreditScore  Age  Tenure    Balance  NumOfProducts  HasCrCard  \\\n",
       "0          619   42       2       0.00              1          1   \n",
       "1          608   41       1   83807.86              1          0   \n",
       "2          502   42       8  159660.80              3          1   \n",
       "3          699   39       1       0.00              2          0   \n",
       "4          850   43       2  125510.82              1          1   \n",
       "\n",
       "   IsActiveMember  EstimatedSalary  Exited  Geography_Germany  \\\n",
       "0               1        101348.88       1              False   \n",
       "1               1        112542.58       0              False   \n",
       "2               0        113931.57       1              False   \n",
       "3               0         93826.63       0              False   \n",
       "4               1         79084.10       0              False   \n",
       "\n",
       "   Geography_Spain  Gender_Male  \n",
       "0            False        False  \n",
       "1             True        False  \n",
       "2            False        False  \n",
       "3            False        False  \n",
       "4             True        False  "
      ]
     },
     "execution_count": 11,
     "metadata": {},
     "output_type": "execute_result"
    }
   ],
   "source": [
    "df=pd.get_dummies(df,columns=['Geography','Gender'],drop_first=True)\n",
    "df.head()\n",
    "#drop_first=True-->Geography has 3 class France,Germany,Spain so,Geography_France,Geography_Germany,\n",
    "#Geography_Spain is created and Geography_France droped bcz ,if Geography_Germany,Geography_Spain\n",
    "#are False then Geography should be France...so drop 1st dummie feature\n",
    "#same for Gender,,,Gender_female is droped,,bcz if Gender_male is False then Gender is female\n"
   ]
  },
  {
   "cell_type": "code",
   "execution_count": 12,
   "metadata": {
    "execution": {
     "iopub.execute_input": "2023-10-11T11:24:27.826963Z",
     "iopub.status.busy": "2023-10-11T11:24:27.826150Z",
     "iopub.status.idle": "2023-10-11T11:24:27.830496Z",
     "shell.execute_reply": "2023-10-11T11:24:27.829534Z",
     "shell.execute_reply.started": "2023-10-11T11:24:27.826934Z"
    }
   },
   "outputs": [],
   "source": [
    "# bcz all data is in numerical form so we are ready for build our DL model\n",
    "#but,,wait----->feature scaling is required broo.."
   ]
  },
  {
   "cell_type": "code",
   "execution_count": 13,
   "metadata": {
    "execution": {
     "iopub.execute_input": "2023-10-11T11:24:27.832209Z",
     "iopub.status.busy": "2023-10-11T11:24:27.831684Z",
     "iopub.status.idle": "2023-10-11T11:24:27.845914Z",
     "shell.execute_reply": "2023-10-11T11:24:27.844925Z",
     "shell.execute_reply.started": "2023-10-11T11:24:27.832181Z"
    }
   },
   "outputs": [],
   "source": [
    "#bcz,some values are in more digit and some are in one digit,,some are in 3 digit ...etc\n",
    "#therfore while training the model ,,values are not converged correctly and fastly soo,,feature scaling is must in NN\n",
    "#so while creating Neural Network u must scale the feature\n",
    "#Note-->feature scaling done on INDEPENDENT NUMERICAL FEATURES(so if any independent feature \n",
    "#is categorical then convert it to numeric by one-hot-encoding)"
   ]
  },
  {
   "cell_type": "code",
   "execution_count": 14,
   "metadata": {
    "execution": {
     "iopub.execute_input": "2023-10-11T11:24:27.847668Z",
     "iopub.status.busy": "2023-10-11T11:24:27.847232Z",
     "iopub.status.idle": "2023-10-11T11:24:29.395996Z",
     "shell.execute_reply": "2023-10-11T11:24:29.394763Z",
     "shell.execute_reply.started": "2023-10-11T11:24:27.847637Z"
    }
   },
   "outputs": [],
   "source": [
    "X=df.drop(columns=['Exited'])\n",
    "y=df['Exited']\n",
    "from sklearn.model_selection import train_test_split\n",
    "X_train,X_test,y_train,y_test=train_test_split(X,y,test_size=0.2,random_state=1)"
   ]
  },
  {
   "cell_type": "code",
   "execution_count": 15,
   "metadata": {
    "execution": {
     "iopub.execute_input": "2023-10-11T11:24:29.398488Z",
     "iopub.status.busy": "2023-10-11T11:24:29.397734Z",
     "iopub.status.idle": "2023-10-11T11:24:29.445728Z",
     "shell.execute_reply": "2023-10-11T11:24:29.444614Z",
     "shell.execute_reply.started": "2023-10-11T11:24:29.398443Z"
    }
   },
   "outputs": [
    {
     "data": {
      "text/html": [
       "<div>\n",
       "<style scoped>\n",
       "    .dataframe tbody tr th:only-of-type {\n",
       "        vertical-align: middle;\n",
       "    }\n",
       "\n",
       "    .dataframe tbody tr th {\n",
       "        vertical-align: top;\n",
       "    }\n",
       "\n",
       "    .dataframe thead th {\n",
       "        text-align: right;\n",
       "    }\n",
       "</style>\n",
       "<table border=\"1\" class=\"dataframe\">\n",
       "  <thead>\n",
       "    <tr style=\"text-align: right;\">\n",
       "      <th></th>\n",
       "      <th>CreditScore</th>\n",
       "      <th>Age</th>\n",
       "      <th>Tenure</th>\n",
       "      <th>Balance</th>\n",
       "      <th>NumOfProducts</th>\n",
       "      <th>HasCrCard</th>\n",
       "      <th>IsActiveMember</th>\n",
       "      <th>EstimatedSalary</th>\n",
       "      <th>Geography_Germany</th>\n",
       "      <th>Geography_Spain</th>\n",
       "      <th>Gender_Male</th>\n",
       "    </tr>\n",
       "  </thead>\n",
       "  <tbody>\n",
       "    <tr>\n",
       "      <th>0</th>\n",
       "      <td>619</td>\n",
       "      <td>42</td>\n",
       "      <td>2</td>\n",
       "      <td>0.00</td>\n",
       "      <td>1</td>\n",
       "      <td>1</td>\n",
       "      <td>1</td>\n",
       "      <td>101348.88</td>\n",
       "      <td>False</td>\n",
       "      <td>False</td>\n",
       "      <td>False</td>\n",
       "    </tr>\n",
       "    <tr>\n",
       "      <th>1</th>\n",
       "      <td>608</td>\n",
       "      <td>41</td>\n",
       "      <td>1</td>\n",
       "      <td>83807.86</td>\n",
       "      <td>1</td>\n",
       "      <td>0</td>\n",
       "      <td>1</td>\n",
       "      <td>112542.58</td>\n",
       "      <td>False</td>\n",
       "      <td>True</td>\n",
       "      <td>False</td>\n",
       "    </tr>\n",
       "    <tr>\n",
       "      <th>2</th>\n",
       "      <td>502</td>\n",
       "      <td>42</td>\n",
       "      <td>8</td>\n",
       "      <td>159660.80</td>\n",
       "      <td>3</td>\n",
       "      <td>1</td>\n",
       "      <td>0</td>\n",
       "      <td>113931.57</td>\n",
       "      <td>False</td>\n",
       "      <td>False</td>\n",
       "      <td>False</td>\n",
       "    </tr>\n",
       "    <tr>\n",
       "      <th>3</th>\n",
       "      <td>699</td>\n",
       "      <td>39</td>\n",
       "      <td>1</td>\n",
       "      <td>0.00</td>\n",
       "      <td>2</td>\n",
       "      <td>0</td>\n",
       "      <td>0</td>\n",
       "      <td>93826.63</td>\n",
       "      <td>False</td>\n",
       "      <td>False</td>\n",
       "      <td>False</td>\n",
       "    </tr>\n",
       "    <tr>\n",
       "      <th>4</th>\n",
       "      <td>850</td>\n",
       "      <td>43</td>\n",
       "      <td>2</td>\n",
       "      <td>125510.82</td>\n",
       "      <td>1</td>\n",
       "      <td>1</td>\n",
       "      <td>1</td>\n",
       "      <td>79084.10</td>\n",
       "      <td>False</td>\n",
       "      <td>True</td>\n",
       "      <td>False</td>\n",
       "    </tr>\n",
       "    <tr>\n",
       "      <th>...</th>\n",
       "      <td>...</td>\n",
       "      <td>...</td>\n",
       "      <td>...</td>\n",
       "      <td>...</td>\n",
       "      <td>...</td>\n",
       "      <td>...</td>\n",
       "      <td>...</td>\n",
       "      <td>...</td>\n",
       "      <td>...</td>\n",
       "      <td>...</td>\n",
       "      <td>...</td>\n",
       "    </tr>\n",
       "    <tr>\n",
       "      <th>9995</th>\n",
       "      <td>771</td>\n",
       "      <td>39</td>\n",
       "      <td>5</td>\n",
       "      <td>0.00</td>\n",
       "      <td>2</td>\n",
       "      <td>1</td>\n",
       "      <td>0</td>\n",
       "      <td>96270.64</td>\n",
       "      <td>False</td>\n",
       "      <td>False</td>\n",
       "      <td>True</td>\n",
       "    </tr>\n",
       "    <tr>\n",
       "      <th>9996</th>\n",
       "      <td>516</td>\n",
       "      <td>35</td>\n",
       "      <td>10</td>\n",
       "      <td>57369.61</td>\n",
       "      <td>1</td>\n",
       "      <td>1</td>\n",
       "      <td>1</td>\n",
       "      <td>101699.77</td>\n",
       "      <td>False</td>\n",
       "      <td>False</td>\n",
       "      <td>True</td>\n",
       "    </tr>\n",
       "    <tr>\n",
       "      <th>9997</th>\n",
       "      <td>709</td>\n",
       "      <td>36</td>\n",
       "      <td>7</td>\n",
       "      <td>0.00</td>\n",
       "      <td>1</td>\n",
       "      <td>0</td>\n",
       "      <td>1</td>\n",
       "      <td>42085.58</td>\n",
       "      <td>False</td>\n",
       "      <td>False</td>\n",
       "      <td>False</td>\n",
       "    </tr>\n",
       "    <tr>\n",
       "      <th>9998</th>\n",
       "      <td>772</td>\n",
       "      <td>42</td>\n",
       "      <td>3</td>\n",
       "      <td>75075.31</td>\n",
       "      <td>2</td>\n",
       "      <td>1</td>\n",
       "      <td>0</td>\n",
       "      <td>92888.52</td>\n",
       "      <td>True</td>\n",
       "      <td>False</td>\n",
       "      <td>True</td>\n",
       "    </tr>\n",
       "    <tr>\n",
       "      <th>9999</th>\n",
       "      <td>792</td>\n",
       "      <td>28</td>\n",
       "      <td>4</td>\n",
       "      <td>130142.79</td>\n",
       "      <td>1</td>\n",
       "      <td>1</td>\n",
       "      <td>0</td>\n",
       "      <td>38190.78</td>\n",
       "      <td>False</td>\n",
       "      <td>False</td>\n",
       "      <td>False</td>\n",
       "    </tr>\n",
       "  </tbody>\n",
       "</table>\n",
       "<p>10000 rows × 11 columns</p>\n",
       "</div>"
      ],
      "text/plain": [
       "      CreditScore  Age  Tenure    Balance  NumOfProducts  HasCrCard  \\\n",
       "0             619   42       2       0.00              1          1   \n",
       "1             608   41       1   83807.86              1          0   \n",
       "2             502   42       8  159660.80              3          1   \n",
       "3             699   39       1       0.00              2          0   \n",
       "4             850   43       2  125510.82              1          1   \n",
       "...           ...  ...     ...        ...            ...        ...   \n",
       "9995          771   39       5       0.00              2          1   \n",
       "9996          516   35      10   57369.61              1          1   \n",
       "9997          709   36       7       0.00              1          0   \n",
       "9998          772   42       3   75075.31              2          1   \n",
       "9999          792   28       4  130142.79              1          1   \n",
       "\n",
       "      IsActiveMember  EstimatedSalary  Geography_Germany  Geography_Spain  \\\n",
       "0                  1        101348.88              False            False   \n",
       "1                  1        112542.58              False             True   \n",
       "2                  0        113931.57              False            False   \n",
       "3                  0         93826.63              False            False   \n",
       "4                  1         79084.10              False             True   \n",
       "...              ...              ...                ...              ...   \n",
       "9995               0         96270.64              False            False   \n",
       "9996               1        101699.77              False            False   \n",
       "9997               1         42085.58              False            False   \n",
       "9998               0         92888.52               True            False   \n",
       "9999               0         38190.78              False            False   \n",
       "\n",
       "      Gender_Male  \n",
       "0           False  \n",
       "1           False  \n",
       "2           False  \n",
       "3           False  \n",
       "4           False  \n",
       "...           ...  \n",
       "9995         True  \n",
       "9996         True  \n",
       "9997        False  \n",
       "9998         True  \n",
       "9999        False  \n",
       "\n",
       "[10000 rows x 11 columns]"
      ]
     },
     "execution_count": 15,
     "metadata": {},
     "output_type": "execute_result"
    }
   ],
   "source": [
    "X"
   ]
  },
  {
   "cell_type": "code",
   "execution_count": 16,
   "metadata": {
    "execution": {
     "iopub.execute_input": "2023-10-11T11:24:29.448055Z",
     "iopub.status.busy": "2023-10-11T11:24:29.447360Z",
     "iopub.status.idle": "2023-10-11T11:24:29.469616Z",
     "shell.execute_reply": "2023-10-11T11:24:29.468423Z",
     "shell.execute_reply.started": "2023-10-11T11:24:29.448015Z"
    }
   },
   "outputs": [],
   "source": [
    "from sklearn.preprocessing import StandardScaler\n",
    "scaler=StandardScaler()\n",
    "X_train_scaled=scaler.fit_transform(X_train)\n",
    "X_test_scaled=scaler.fit_transform(X_test)"
   ]
  },
  {
   "cell_type": "code",
   "execution_count": 17,
   "metadata": {
    "execution": {
     "iopub.execute_input": "2023-10-11T11:24:29.472119Z",
     "iopub.status.busy": "2023-10-11T11:24:29.471382Z",
     "iopub.status.idle": "2023-10-11T11:24:29.480833Z",
     "shell.execute_reply": "2023-10-11T11:24:29.479596Z",
     "shell.execute_reply.started": "2023-10-11T11:24:29.472052Z"
    }
   },
   "outputs": [
    {
     "data": {
      "text/plain": [
       "array([[-0.23082038, -0.94449979, -0.70174202, ...,  1.71490137,\n",
       "        -0.57273139,  0.91509065],\n",
       "       [-0.25150912, -0.94449979, -0.35520275, ..., -0.58312392,\n",
       "        -0.57273139, -1.09278791],\n",
       "       [-0.3963303 ,  0.77498705,  0.33787579, ...,  1.71490137,\n",
       "        -0.57273139, -1.09278791],\n",
       "       ...,\n",
       "       [ 0.22433188,  0.58393295,  1.3774936 , ..., -0.58312392,\n",
       "        -0.57273139, -1.09278791],\n",
       "       [ 0.13123255,  0.01077067,  1.03095433, ..., -0.58312392,\n",
       "        -0.57273139, -1.09278791],\n",
       "       [ 1.1656695 ,  0.29735181,  0.33787579, ...,  1.71490137,\n",
       "        -0.57273139,  0.91509065]])"
      ]
     },
     "execution_count": 17,
     "metadata": {},
     "output_type": "execute_result"
    }
   ],
   "source": [
    "X_train_scaled"
   ]
  },
  {
   "cell_type": "code",
   "execution_count": 18,
   "metadata": {
    "execution": {
     "iopub.execute_input": "2023-10-11T11:24:29.483297Z",
     "iopub.status.busy": "2023-10-11T11:24:29.482561Z",
     "iopub.status.idle": "2023-10-11T11:24:29.494702Z",
     "shell.execute_reply": "2023-10-11T11:24:29.493573Z",
     "shell.execute_reply.started": "2023-10-11T11:24:29.483254Z"
    }
   },
   "outputs": [
    {
     "data": {
      "text/plain": [
       "array([[-1.05008411,  0.75175306, -1.01618321, ..., -0.56118125,\n",
       "        -0.57812007,  0.90179633],\n",
       "       [ 0.29631699, -0.47907689, -0.67334137, ..., -0.56118125,\n",
       "        -0.57812007,  0.90179633],\n",
       "       [-1.24686581,  0.27835693, -1.01618321, ..., -0.56118125,\n",
       "        -0.57812007, -1.10889783],\n",
       "       ...,\n",
       "       [-0.87401628, -0.47907689,  1.72655149, ..., -0.56118125,\n",
       "         1.72974448,  0.90179633],\n",
       "       [-0.31474197, -0.85779379, -1.01618321, ...,  1.78195548,\n",
       "        -0.57812007, -1.10889783],\n",
       "       [ 0.0373937 ,  1.22514919,  1.38370966, ...,  1.78195548,\n",
       "        -0.57812007,  0.90179633]])"
      ]
     },
     "execution_count": 18,
     "metadata": {},
     "output_type": "execute_result"
    }
   ],
   "source": [
    "X_test_scaled"
   ]
  },
  {
   "cell_type": "code",
   "execution_count": 19,
   "metadata": {
    "execution": {
     "iopub.execute_input": "2023-10-11T11:24:29.496827Z",
     "iopub.status.busy": "2023-10-11T11:24:29.496410Z",
     "iopub.status.idle": "2023-10-11T11:24:29.506062Z",
     "shell.execute_reply": "2023-10-11T11:24:29.504812Z",
     "shell.execute_reply.started": "2023-10-11T11:24:29.496790Z"
    }
   },
   "outputs": [],
   "source": [
    "#feature sccaling is succefull"
   ]
  },
  {
   "cell_type": "code",
   "execution_count": 20,
   "metadata": {
    "execution": {
     "iopub.execute_input": "2023-10-11T11:24:29.508694Z",
     "iopub.status.busy": "2023-10-11T11:24:29.507660Z",
     "iopub.status.idle": "2023-10-11T11:24:39.669368Z",
     "shell.execute_reply": "2023-10-11T11:24:39.668372Z",
     "shell.execute_reply.started": "2023-10-11T11:24:29.508651Z"
    }
   },
   "outputs": [],
   "source": [
    "import tensorflow\n",
    "from tensorflow import keras\n",
    "from tensorflow.keras import Sequential\n",
    "from tensorflow.keras.layers import Dense\n",
    "#there are 2 type of models we can build in keras ,,,ie;Sequential and non-sequential"
   ]
  },
  {
   "cell_type": "code",
   "execution_count": 21,
   "metadata": {
    "execution": {
     "iopub.execute_input": "2023-10-11T11:43:01.761556Z",
     "iopub.status.busy": "2023-10-11T11:43:01.761141Z",
     "iopub.status.idle": "2023-10-11T11:43:01.951759Z",
     "shell.execute_reply": "2023-10-11T11:43:01.950767Z",
     "shell.execute_reply.started": "2023-10-11T11:43:01.761522Z"
    }
   },
   "outputs": [],
   "source": [
    "model1=Sequential()\n",
    "#1 input layer(11 input),1 Hidden layer(3 nodes(perceptron/neuron) in that layer),\n",
    "#1 output layer(1 node/perceptron/neurn-->bcz binary classification problem is there,we need only 1 node in output layer)\n",
    "#if multiclass classification problem is there then u can give N no of node for N class in output layer\n",
    "model1.add(Dense(3,activation='sigmoid',input_dim=11))#hidden layer is created with 3 node and 11 ip fields for each node is created\n",
    "model1.add(Dense(1,activation='sigmoid'))#output layer is created with 1 node/perceptron\n",
    "#11*3 + 3*1 + 4 (bias ,,1 for each node)==>40 trainable para ie;which has to be calculated during training of NN"
   ]
  },
  {
   "cell_type": "code",
   "execution_count": 23,
   "metadata": {
    "execution": {
     "iopub.execute_input": "2023-10-11T11:43:25.067108Z",
     "iopub.status.busy": "2023-10-11T11:43:25.066743Z",
     "iopub.status.idle": "2023-10-11T11:43:25.085870Z",
     "shell.execute_reply": "2023-10-11T11:43:25.084707Z",
     "shell.execute_reply.started": "2023-10-11T11:43:25.067064Z"
    }
   },
   "outputs": [
    {
     "name": "stdout",
     "output_type": "stream",
     "text": [
      "Model: \"sequential\"\n",
      "_________________________________________________________________\n",
      " Layer (type)                Output Shape              Param #   \n",
      "=================================================================\n",
      " dense (Dense)               (None, 3)                 36        \n",
      "                                                                 \n",
      " dense_1 (Dense)             (None, 1)                 4         \n",
      "                                                                 \n",
      "=================================================================\n",
      "Total params: 40\n",
      "Trainable params: 40\n",
      "Non-trainable params: 0\n",
      "_________________________________________________________________\n"
     ]
    }
   ],
   "source": [
    "model1.summary()"
   ]
  },
  {
   "cell_type": "code",
   "execution_count": 24,
   "metadata": {
    "execution": {
     "iopub.execute_input": "2023-10-11T11:48:17.724547Z",
     "iopub.status.busy": "2023-10-11T11:48:17.724102Z",
     "iopub.status.idle": "2023-10-11T11:48:17.729746Z",
     "shell.execute_reply": "2023-10-11T11:48:17.728741Z",
     "shell.execute_reply.started": "2023-10-11T11:48:17.724513Z"
    }
   },
   "outputs": [],
   "source": [
    "#now compile the model,,while compiling we give which loss function,which optimizer used for gradient and desent used while compiling processs"
   ]
  },
  {
   "cell_type": "code",
   "execution_count": 45,
   "metadata": {
    "execution": {
     "iopub.execute_input": "2023-10-11T13:06:21.496640Z",
     "iopub.status.busy": "2023-10-11T13:06:21.495180Z",
     "iopub.status.idle": "2023-10-11T13:06:21.531575Z",
     "shell.execute_reply": "2023-10-11T13:06:21.530732Z",
     "shell.execute_reply.started": "2023-10-11T13:06:21.496511Z"
    }
   },
   "outputs": [],
   "source": [
    "model1.compile(loss='binary_crossentropy',optimizer='Adam',metrics=['accuracy'])#log loss -->binary_crossentropy\n",
    "#displays accuracy at each epochs wjile training,,see below after loss ,accuracy is displayed"
   ]
  },
  {
   "cell_type": "code",
   "execution_count": 48,
   "metadata": {
    "execution": {
     "iopub.execute_input": "2023-10-11T13:13:07.040633Z",
     "iopub.status.busy": "2023-10-11T13:13:07.040213Z",
     "iopub.status.idle": "2023-10-11T13:13:11.221818Z",
     "shell.execute_reply": "2023-10-11T13:13:11.220936Z",
     "shell.execute_reply.started": "2023-10-11T13:13:07.040603Z"
    }
   },
   "outputs": [
    {
     "name": "stdout",
     "output_type": "stream",
     "text": [
      "Epoch 1/10\n",
      "200/200 [==============================] - 0s 2ms/step - loss: 0.4015 - accuracy: 0.8230 - val_loss: 0.4073 - val_accuracy: 0.8163\n",
      "Epoch 2/10\n",
      "200/200 [==============================] - 0s 2ms/step - loss: 0.4006 - accuracy: 0.8228 - val_loss: 0.4064 - val_accuracy: 0.8169\n",
      "Epoch 3/10\n",
      "200/200 [==============================] - 0s 2ms/step - loss: 0.3997 - accuracy: 0.8233 - val_loss: 0.4054 - val_accuracy: 0.8169\n",
      "Epoch 4/10\n",
      "200/200 [==============================] - 0s 2ms/step - loss: 0.3988 - accuracy: 0.8245 - val_loss: 0.4046 - val_accuracy: 0.8163\n",
      "Epoch 5/10\n",
      "200/200 [==============================] - 0s 2ms/step - loss: 0.3979 - accuracy: 0.8236 - val_loss: 0.4035 - val_accuracy: 0.8181\n",
      "Epoch 6/10\n",
      "200/200 [==============================] - 0s 2ms/step - loss: 0.3971 - accuracy: 0.8241 - val_loss: 0.4026 - val_accuracy: 0.8188\n",
      "Epoch 7/10\n",
      "200/200 [==============================] - 0s 2ms/step - loss: 0.3962 - accuracy: 0.8247 - val_loss: 0.4019 - val_accuracy: 0.8194\n",
      "Epoch 8/10\n",
      "200/200 [==============================] - 0s 2ms/step - loss: 0.3954 - accuracy: 0.8242 - val_loss: 0.4011 - val_accuracy: 0.8194\n",
      "Epoch 9/10\n",
      "200/200 [==============================] - 0s 2ms/step - loss: 0.3946 - accuracy: 0.8245 - val_loss: 0.4002 - val_accuracy: 0.8213\n",
      "Epoch 10/10\n",
      "200/200 [==============================] - 0s 2ms/step - loss: 0.3938 - accuracy: 0.8253 - val_loss: 0.3990 - val_accuracy: 0.8238\n"
     ]
    }
   ],
   "source": [
    "#train the model\n",
    "History=model1.fit(X_train_scaled,y_train,epochs=10,validation_split=0.2)#epochs=10 ,how many times NN model(ANN/MLP)should glance data\n",
    "#(ie;1 forward and 1 backeard propogation is 1 epochs)\n",
    "#validation_split=0.2 ie;in X_train data 80% data is used for training and 20% is for testing,,,\n",
    "#NOTE__>this testing is done while training only and produce validation loss and validation accuracy"
   ]
  },
  {
   "cell_type": "code",
   "execution_count": 27,
   "metadata": {
    "execution": {
     "iopub.execute_input": "2023-10-11T11:54:39.072206Z",
     "iopub.status.busy": "2023-10-11T11:54:39.071748Z",
     "iopub.status.idle": "2023-10-11T11:54:39.077446Z",
     "shell.execute_reply": "2023-10-11T11:54:39.075967Z",
     "shell.execute_reply.started": "2023-10-11T11:54:39.072172Z"
    }
   },
   "outputs": [],
   "source": [
    "#as u see at 10th epochs(round),loss is minimized(ie;error is less..) and accuracy is 82%\n",
    "#model is trained successfully,,ie;established the relation ship bn data by calculating \n",
    "#weight and bias\n"
   ]
  },
  {
   "cell_type": "code",
   "execution_count": 29,
   "metadata": {
    "execution": {
     "iopub.execute_input": "2023-10-11T11:56:20.448883Z",
     "iopub.status.busy": "2023-10-11T11:56:20.448525Z",
     "iopub.status.idle": "2023-10-11T11:56:20.462143Z",
     "shell.execute_reply": "2023-10-11T11:56:20.460934Z",
     "shell.execute_reply.started": "2023-10-11T11:56:20.448857Z"
    }
   },
   "outputs": [
    {
     "data": {
      "text/plain": [
       "[array([[-0.12716597,  0.06810645,  0.08293062],\n",
       "        [ 0.8684037 ,  0.5055229 , -1.1275129 ],\n",
       "        [ 0.11812021,  0.28184995,  0.23329422],\n",
       "        [ 0.50064343,  0.06346337, -0.14474756],\n",
       "        [ 0.16175409, -0.89656377, -0.00256725],\n",
       "        [-0.07576854, -0.13488467, -0.04115386],\n",
       "        [-0.54641587, -0.154594  ,  0.8978918 ],\n",
       "        [-0.15792151,  0.16111419, -0.07545798],\n",
       "        [ 0.17192927,  0.5745996 , -0.54793066],\n",
       "        [-0.22274597, -0.07771114, -0.11109576],\n",
       "        [-0.66487885, -0.36336473,  0.22575003]], dtype=float32),\n",
       " array([-0.6304102 , -0.69175357,  1.0174648 ], dtype=float32)]"
      ]
     },
     "execution_count": 29,
     "metadata": {},
     "output_type": "execute_result"
    }
   ],
   "source": [
    "model1.layers[0].get_weights()\n",
    "#33 weights and 3 bias values,at the end of training it is calculated..\n",
    "#which is given as i/p to hiddem layer"
   ]
  },
  {
   "cell_type": "code",
   "execution_count": 30,
   "metadata": {
    "execution": {
     "iopub.execute_input": "2023-10-11T11:57:31.038794Z",
     "iopub.status.busy": "2023-10-11T11:57:31.038398Z",
     "iopub.status.idle": "2023-10-11T11:57:31.050391Z",
     "shell.execute_reply": "2023-10-11T11:57:31.049178Z",
     "shell.execute_reply.started": "2023-10-11T11:57:31.038765Z"
    }
   },
   "outputs": [
    {
     "data": {
      "text/plain": [
       "[array([[ 0.6431748],\n",
       "        [ 0.6183336],\n",
       "        [-1.6006804]], dtype=float32),\n",
       " array([-0.85211015], dtype=float32)]"
      ]
     },
     "execution_count": 30,
     "metadata": {},
     "output_type": "execute_result"
    }
   ],
   "source": [
    "model1.layers[1].get_weights()\n",
    "#3 weights and 1 bias,,,which is given as i/p to output layer"
   ]
  },
  {
   "cell_type": "code",
   "execution_count": 38,
   "metadata": {
    "execution": {
     "iopub.execute_input": "2023-10-11T12:05:55.953316Z",
     "iopub.status.busy": "2023-10-11T12:05:55.952893Z",
     "iopub.status.idle": "2023-10-11T12:05:56.120417Z",
     "shell.execute_reply": "2023-10-11T12:05:56.119109Z",
     "shell.execute_reply.started": "2023-10-11T12:05:55.953283Z"
    }
   },
   "outputs": [
    {
     "name": "stdout",
     "output_type": "stream",
     "text": [
      "63/63 [==============================] - 0s 1ms/step\n"
     ]
    },
    {
     "data": {
      "text/plain": [
       "array([[0.12178208],\n",
       "       [0.1682972 ],\n",
       "       [0.13924597],\n",
       "       ...,\n",
       "       [0.09329685],\n",
       "       [0.15748212],\n",
       "       [0.3210384 ]], dtype=float32)"
      ]
     },
     "execution_count": 38,
     "metadata": {},
     "output_type": "execute_result"
    }
   ],
   "source": [
    "#test the model\n",
    "y_log=model1.predict(X_test_scaled)\n",
    "y_log\n",
    "#model1.predict(X_test_scaled)[1]  access 1th index predicted value"
   ]
  },
  {
   "cell_type": "code",
   "execution_count": 37,
   "metadata": {
    "execution": {
     "iopub.execute_input": "2023-10-11T12:05:24.155426Z",
     "iopub.status.busy": "2023-10-11T12:05:24.154994Z",
     "iopub.status.idle": "2023-10-11T12:05:24.159697Z",
     "shell.execute_reply": "2023-10-11T12:05:24.158607Z",
     "shell.execute_reply.started": "2023-10-11T12:05:24.155396Z"
    }
   },
   "outputs": [],
   "source": [
    "#NOTE-->output of NN/ANN/MLP os a probability,,so we have to range it\n",
    "#ie;if probability >= 0.5 then prediction is 1,,else 0"
   ]
  },
  {
   "cell_type": "code",
   "execution_count": 42,
   "metadata": {
    "execution": {
     "iopub.execute_input": "2023-10-11T12:09:32.548038Z",
     "iopub.status.busy": "2023-10-11T12:09:32.547590Z",
     "iopub.status.idle": "2023-10-11T12:09:32.556777Z",
     "shell.execute_reply": "2023-10-11T12:09:32.555441Z",
     "shell.execute_reply.started": "2023-10-11T12:09:32.548005Z"
    }
   },
   "outputs": [
    {
     "data": {
      "text/plain": [
       "array([[0],\n",
       "       [0],\n",
       "       [0],\n",
       "       ...,\n",
       "       [0],\n",
       "       [0],\n",
       "       [0]])"
      ]
     },
     "execution_count": 42,
     "metadata": {},
     "output_type": "execute_result"
    }
   ],
   "source": [
    "y_pred=np.where(y_log>0.5,1,0)#if y_log (on each element of array) is > 0.5 then1 else 0\n",
    "y_pred"
   ]
  },
  {
   "cell_type": "code",
   "execution_count": 43,
   "metadata": {
    "execution": {
     "iopub.execute_input": "2023-10-11T12:09:38.162387Z",
     "iopub.status.busy": "2023-10-11T12:09:38.162013Z",
     "iopub.status.idle": "2023-10-11T12:09:38.170952Z",
     "shell.execute_reply": "2023-10-11T12:09:38.170178Z",
     "shell.execute_reply.started": "2023-10-11T12:09:38.162352Z"
    }
   },
   "outputs": [
    {
     "data": {
      "text/plain": [
       "0.8105"
      ]
     },
     "execution_count": 43,
     "metadata": {},
     "output_type": "execute_result"
    }
   ],
   "source": [
    "#calculate accuracy\n",
    "from sklearn.metrics import accuracy_score\n",
    "accuracy_score(y_test,y_pred)"
   ]
  },
  {
   "cell_type": "code",
   "execution_count": 44,
   "metadata": {
    "execution": {
     "iopub.execute_input": "2023-10-11T12:14:00.005583Z",
     "iopub.status.busy": "2023-10-11T12:14:00.005154Z",
     "iopub.status.idle": "2023-10-11T12:14:00.011383Z",
     "shell.execute_reply": "2023-10-11T12:14:00.009846Z",
     "shell.execute_reply.started": "2023-10-11T12:14:00.005552Z"
    }
   },
   "outputs": [],
   "source": [
    "#81% accuracy of model\n",
    "#so..appropriately use no of nodes ,activation function,no of hidden layers,epochs while training \n",
    "#it can give more accuracy on test data\n",
    "#but it can lead overfitting also,,,so no of these things used  appropriately..\n",
    "#mostly,,,relu activation function used bcz,,it gives more accuracy\n"
   ]
  },
  {
   "cell_type": "code",
   "execution_count": 49,
   "metadata": {
    "execution": {
     "iopub.execute_input": "2023-10-11T13:13:58.107770Z",
     "iopub.status.busy": "2023-10-11T13:13:58.107401Z",
     "iopub.status.idle": "2023-10-11T13:13:58.113461Z",
     "shell.execute_reply": "2023-10-11T13:13:58.111986Z",
     "shell.execute_reply.started": "2023-10-11T13:13:58.107742Z"
    }
   },
   "outputs": [],
   "source": [
    "import matplotlib.pyplot as plt"
   ]
  },
  {
   "cell_type": "code",
   "execution_count": 51,
   "metadata": {
    "execution": {
     "iopub.execute_input": "2023-10-11T13:14:13.717731Z",
     "iopub.status.busy": "2023-10-11T13:14:13.716869Z",
     "iopub.status.idle": "2023-10-11T13:14:13.723340Z",
     "shell.execute_reply": "2023-10-11T13:14:13.722551Z",
     "shell.execute_reply.started": "2023-10-11T13:14:13.717691Z"
    }
   },
   "outputs": [
    {
     "data": {
      "text/plain": [
       "<keras.callbacks.History at 0x7934d6f39000>"
      ]
     },
     "execution_count": 51,
     "metadata": {},
     "output_type": "execute_result"
    }
   ],
   "source": [
    "History"
   ]
  },
  {
   "cell_type": "code",
   "execution_count": 52,
   "metadata": {
    "execution": {
     "iopub.execute_input": "2023-10-11T13:14:21.534912Z",
     "iopub.status.busy": "2023-10-11T13:14:21.533843Z",
     "iopub.status.idle": "2023-10-11T13:14:21.541373Z",
     "shell.execute_reply": "2023-10-11T13:14:21.540061Z",
     "shell.execute_reply.started": "2023-10-11T13:14:21.534875Z"
    }
   },
   "outputs": [
    {
     "data": {
      "text/plain": [
       "{'loss': [0.4014800190925598,\n",
       "  0.40058547258377075,\n",
       "  0.3996799886226654,\n",
       "  0.39884331822395325,\n",
       "  0.3979370594024658,\n",
       "  0.3970901072025299,\n",
       "  0.3962380290031433,\n",
       "  0.3954107165336609,\n",
       "  0.394633412361145,\n",
       "  0.3937514126300812],\n",
       " 'accuracy': [0.8229687213897705,\n",
       "  0.8228124976158142,\n",
       "  0.8232812285423279,\n",
       "  0.8245312571525574,\n",
       "  0.8235937356948853,\n",
       "  0.8240625262260437,\n",
       "  0.8246874809265137,\n",
       "  0.82421875,\n",
       "  0.8245312571525574,\n",
       "  0.8253124952316284],\n",
       " 'val_loss': [0.40734386444091797,\n",
       "  0.4064183831214905,\n",
       "  0.40543225407600403,\n",
       "  0.40459972620010376,\n",
       "  0.4034828841686249,\n",
       "  0.40262484550476074,\n",
       "  0.4018790125846863,\n",
       "  0.4011376202106476,\n",
       "  0.40016964077949524,\n",
       "  0.39901185035705566],\n",
       " 'val_accuracy': [0.8162500262260437,\n",
       "  0.8168749809265137,\n",
       "  0.8168749809265137,\n",
       "  0.8162500262260437,\n",
       "  0.8181250095367432,\n",
       "  0.8187500238418579,\n",
       "  0.8193749785423279,\n",
       "  0.8193749785423279,\n",
       "  0.8212500214576721,\n",
       "  0.8237500190734863]}"
      ]
     },
     "execution_count": 52,
     "metadata": {},
     "output_type": "execute_result"
    }
   ],
   "source": [
    "History.history\n",
    "#at each epochs ,loss ,accuracy,validation loss and accuracy is stroed in history attribute"
   ]
  },
  {
   "cell_type": "code",
   "execution_count": 54,
   "metadata": {
    "execution": {
     "iopub.execute_input": "2023-10-11T13:17:11.191390Z",
     "iopub.status.busy": "2023-10-11T13:17:11.190887Z",
     "iopub.status.idle": "2023-10-11T13:17:11.387920Z",
     "shell.execute_reply": "2023-10-11T13:17:11.386716Z",
     "shell.execute_reply.started": "2023-10-11T13:17:11.191355Z"
    }
   },
   "outputs": [
    {
     "data": {
      "text/plain": [
       "[<matplotlib.lines.Line2D at 0x7934d89361d0>]"
      ]
     },
     "execution_count": 54,
     "metadata": {},
     "output_type": "execute_result"
    },
    {
     "data": {
      "image/png": "[encoded data removed]",
      "text/plain": [
       "<Figure size 640x480 with 1 Axes>"
      ]
     },
     "metadata": {},
     "output_type": "display_data"
    }
   ],
   "source": [
    "plt.plot(History.history['loss'])\n",
    "plt.plot(History.history['val_loss'])\n",
    "#X axis 10 epochs,,at each epochs how training error is varied\n",
    "#y axis is training error"
   ]
  },
  {
   "cell_type": "code",
   "execution_count": 55,
   "metadata": {
    "execution": {
     "iopub.execute_input": "2023-10-11T13:17:39.415676Z",
     "iopub.status.busy": "2023-10-11T13:17:39.415285Z",
     "iopub.status.idle": "2023-10-11T13:17:39.591609Z",
     "shell.execute_reply": "2023-10-11T13:17:39.590281Z",
     "shell.execute_reply.started": "2023-10-11T13:17:39.415646Z"
    }
   },
   "outputs": [
    {
     "data": {
      "text/plain": [
       "[<matplotlib.lines.Line2D at 0x7934d76d4130>]"
      ]
     },
     "execution_count": 55,
     "metadata": {},
     "output_type": "execute_result"
    },
    {
     "data": {
      "image/png": "[encoded data removed]",
      "text/plain": [
       "<Figure size 640x480 with 1 Axes>"
      ]
     },
     "metadata": {},
     "output_type": "display_data"
    }
   ],
   "source": [
    "plt.plot(History.history['accuracy'])\n",
    "plt.plot(History.history['val_accuracy'])\n",
    "#X axis 10 epochs,,at each epochs how training accuracy is increased\n",
    "#y axis trainig error"
   ]
  },
  {
   "cell_type": "code",
   "execution_count": null,
   "metadata": {},
   "outputs": [],
   "source": []
  }
 ],
 "metadata": {
  "kernelspec": {
   "display_name": "Python 3 (ipykernel)",
   "language": "python",
   "name": "python3"
  },
  "language_info": {
   "codemirror_mode": {
    "name": "ipython",
    "version": 3
   },
   "file_extension": ".py",
   "mimetype": "text/x-python",
   "name": "python",
   "nbconvert_exporter": "python",
   "pygments_lexer": "ipython3",
   "version": "3.11.4"
  }
 },
 "nbformat": 4,
 "nbformat_minor": 4
}
