{
 "cells": [
  {
   "cell_type": "code",
   "execution_count": 2,
   "id": "f223f740",
   "metadata": {},
   "outputs": [],
   "source": [
    "from keras import Sequential\n",
    "from keras.layers import Dense,SimpleRNN"
   ]
  },
  {
   "cell_type": "code",
   "execution_count": 3,
   "id": "63a266f5",
   "metadata": {},
   "outputs": [
    {
     "name": "stdout",
     "output_type": "stream",
     "text": [
      "Model: \"sequential\"\n",
      "_________________________________________________________________\n",
      " Layer (type)                Output Shape              Param #   \n",
      "=================================================================\n",
      " simple_rnn (SimpleRNN)      (None, 3)                 27        \n",
      "                                                                 \n",
      " dense (Dense)               (None, 1)                 4         \n",
      "                                                                 \n",
      "=================================================================\n",
      "Total params: 31 (124.00 Byte)\n",
      "Trainable params: 31 (124.00 Byte)\n",
      "Non-trainable params: 0 (0.00 Byte)\n",
      "_________________________________________________________________\n"
     ]
    }
   ],
   "source": [
    "#see RNN notes in book,,in that we assumed dataset which has 2 column (1 indep and 1 dep),review and sentiment,,where 3 rows are there\n",
    "model=Sequential()\n",
    "\n",
    "model.add(SimpleRNN(3,input_shape=(4,5)))#H_L1-->3 neurons in it,,and totally 5 unique words are there in review feature,,and atmost 4 words sentence is there\n",
    "#we give i/p to rnn in this form (timesteps,input_features)-->atmost 4 timesteps can possible(bcz max 4 words sentence is there),and 5 unique words there\n",
    "model.add(Dense(1,activation='sigmoid'))\n",
    "\n",
    "model.summary()\n",
    "\n",
    "#at h_l1(recureent layer) 27 parameters-->5 unique words/vocalblary is of 5 words so  5 dimesnsion vector is for each sentence/review,5*3=>15 normal weights from i/p to h_l1,3*3=>9 feedback weights,3 bias,,15+9+3=>27"
   ]
  },
  {
   "cell_type": "code",
   "execution_count": 6,
   "id": "f30cd928",
   "metadata": {},
   "outputs": [
    {
     "name": "stdout",
     "output_type": "stream",
     "text": [
      "(5, 3)\n"
     ]
    },
    {
     "data": {
      "text/plain": [
       "array([[-0.707284  ,  0.6874415 , -0.5077762 ],\n",
       "       [ 0.4558701 , -0.48346233,  0.67401093],\n",
       "       [ 0.12667584,  0.78488237,  0.27757078],\n",
       "       [ 0.8366813 , -0.07446104, -0.20495915],\n",
       "       [-0.5405288 ,  0.7315232 , -0.51065636]], dtype=float32)"
      ]
     },
     "execution_count": 6,
     "metadata": {},
     "output_type": "execute_result"
    }
   ],
   "source": [
    "print(model.get_weights()[0].shape)\n",
    "model.get_weights()[0]\n",
    "#(5,3)-->5 words are giving as i/p,,(bcz all reviews are formed using these 5 words only) and there are 3 nodes in H_L1\n",
    "#NOTE->in review1 sentence is comprises of 3 words,,,so 3 times loop(feed bcak occurs) run at H_L1 and vector/number representing that word is given\n",
    "#ie;at timestep=1 ,1st words vector is given ,at timestep=2 ,2nd words vector is given,and same for 3rd word at t=3\n",
    "#in review 3 ,sentence comprises of 4 words so 4 times loop(feed back) runs,,and at each timestep(t),,each word is given to simple rnn(ie;at each loop next word is given along with feedback(o/p of previous process))\n"
   ]
  },
  {
   "cell_type": "code",
   "execution_count": 7,
   "id": "16c05e23",
   "metadata": {},
   "outputs": [
    {
     "name": "stdout",
     "output_type": "stream",
     "text": [
      "(3, 3)\n"
     ]
    },
    {
     "data": {
      "text/plain": [
       "array([[-0.6767242 , -0.7358082 , -0.0251103 ],\n",
       "       [ 0.728615  , -0.6742239 ,  0.12059145],\n",
       "       [-0.10566216,  0.06331141,  0.99238455]], dtype=float32)"
      ]
     },
     "execution_count": 7,
     "metadata": {},
     "output_type": "execute_result"
    }
   ],
   "source": [
    "print(model.get_weights()[1].shape)\n",
    "model.get_weights()[1]\n",
    "#feed back connections,,,total 9 connections are there\n",
    "#feed back/loop  ,,ie;3 nodes giving back its o/p to each nodes(including itself also),,and each connection contains some weights \n",
    "#3x3=9 weights are there "
   ]
  },
  {
   "cell_type": "code",
   "execution_count": 8,
   "id": "1fddbe0d",
   "metadata": {},
   "outputs": [
    {
     "name": "stdout",
     "output_type": "stream",
     "text": [
      "(3,)\n"
     ]
    },
    {
     "data": {
      "text/plain": [
       "array([0., 0., 0.], dtype=float32)"
      ]
     },
     "execution_count": 8,
     "metadata": {},
     "output_type": "execute_result"
    }
   ],
   "source": [
    "print(model.get_weights()[2].shape)\n",
    "model.get_weights()[2]\n",
    "#bias of H_L1,,bcz 3 nodes are htere so 1 for each thus total 3 biases are there"
   ]
  },
  {
   "cell_type": "code",
   "execution_count": 9,
   "id": "91ab8eae",
   "metadata": {},
   "outputs": [
    {
     "name": "stdout",
     "output_type": "stream",
     "text": [
      "(3, 1)\n"
     ]
    },
    {
     "data": {
      "text/plain": [
       "array([[1.2147917 ],\n",
       "       [0.50992477],\n",
       "       [0.3691162 ]], dtype=float32)"
      ]
     },
     "execution_count": 9,
     "metadata": {},
     "output_type": "execute_result"
    }
   ],
   "source": [
    "print(model.get_weights()[3].shape)\n",
    "model.get_weights()[3]\n",
    "#i/p to o/p layer ie;3 nodes o/p, after x loop runs(x is a no of words in sentence),,H_L1's o/p after x loop runs,to o/p layer\n",
    "#3nodes in H_L1 x 1 node in o/p layer,,,(3,1)\n",
    "#ie;3 weights are there,at o.p layer"
   ]
  },
  {
   "cell_type": "code",
   "execution_count": 10,
   "id": "48d6eaeb",
   "metadata": {},
   "outputs": [
    {
     "name": "stdout",
     "output_type": "stream",
     "text": [
      "(1,)\n"
     ]
    },
    {
     "data": {
      "text/plain": [
       "array([0.], dtype=float32)"
      ]
     },
     "execution_count": 10,
     "metadata": {},
     "output_type": "execute_result"
    }
   ],
   "source": [
    "print(model.get_weights()[4].shape)\n",
    "model.get_weights()[4]\n",
    "#1 node so 1 bias is there,,at o/p layer"
   ]
  },
  {
   "cell_type": "code",
   "execution_count": 11,
   "id": "d276edae",
   "metadata": {},
   "outputs": [],
   "source": [
    "#thus Total 31 weights are there(27 weights and 4 bias) in this rnn model\n"
   ]
  },
  {
   "cell_type": "code",
   "execution_count": 12,
   "id": "977e74b4",
   "metadata": {},
   "outputs": [],
   "source": [
    "#AND while processing each word these w and b are updated"
   ]
  },
  {
   "cell_type": "code",
   "execution_count": null,
   "id": "8270bfed",
   "metadata": {},
   "outputs": [],
   "source": [
    "#now go to notes and see how forward propogation works and how feed back/loop works to update w and b while processing each word"
   ]
  }
 ],
 "metadata": {
  "kernelspec": {
   "display_name": "Python 3 (ipykernel)",
   "language": "python",
   "name": "python3"
  },
  "language_info": {
   "codemirror_mode": {
    "name": "ipython",
    "version": 3
   },
   "file_extension": ".py",
   "mimetype": "text/x-python",
   "name": "python",
   "nbconvert_exporter": "python",
   "pygments_lexer": "ipython3",
   "version": "3.11.4"
  }
 },
 "nbformat": 4,
 "nbformat_minor": 5
}
