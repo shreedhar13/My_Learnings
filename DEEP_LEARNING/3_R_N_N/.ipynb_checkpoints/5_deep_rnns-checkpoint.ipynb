{
 "cells": [
  {
   "cell_type": "code",
   "execution_count": 1,
   "metadata": {
    "id": "weJAgo7JiDpV"
   },
   "outputs": [],
   "source": [
    "import tensorflow as tf\n",
    "from tensorflow.keras.datasets import imdb\n",
    "from tensorflow.keras.preprocessing.sequence import pad_sequences\n",
    "from tensorflow.keras.models import Sequential\n",
    "from tensorflow.keras.layers import Embedding, SimpleRNN, Dense,LSTM,GRU"
   ]
  },
  {
   "cell_type": "code",
   "execution_count": 2,
   "metadata": {
    "id": "HAM-rBnFQaJu"
   },
   "outputs": [],
   "source": [
    "# Load the IMDb dataset\n",
    "(x_train, y_train), (x_test, y_test) = imdb.load_data(num_words=10000)\n",
    "\n",
    "# Pad sequences to have the same length\n",
    "x_train = pad_sequences(x_train, maxlen=100)\n",
    "x_test = pad_sequences(x_test, maxlen=100)"
   ]
  },
  {
   "cell_type": "code",
   "execution_count": 3,
   "metadata": {
    "colab": {
     "base_uri": "https://localhost:8080/"
    },
    "id": "PDIFKrxVQarl",
    "outputId": "a42d740e-559b-48e5-ae3f-2d46e08f7f72"
   },
   "outputs": [
    {
     "name": "stdout",
     "output_type": "stream",
     "text": [
      "Model: \"sequential\"\n",
      "_________________________________________________________________\n",
      " Layer (type)                Output Shape              Param #   \n",
      "=================================================================\n",
      " embedding (Embedding)       (None, 100, 32)           320000    \n",
      "                                                                 \n",
      " simple_rnn (SimpleRNN)      (None, 100, 5)            190       \n",
      "                                                                 \n",
      " simple_rnn_1 (SimpleRNN)    (None, 5)                 55        \n",
      "                                                                 \n",
      " dense (Dense)               (None, 1)                 6         \n",
      "                                                                 \n",
      "=================================================================\n",
      "Total params: 320251 (1.22 MB)\n",
      "Trainable params: 320251 (1.22 MB)\n",
      "Non-trainable params: 0 (0.00 Byte)\n",
      "_________________________________________________________________\n"
     ]
    }
   ],
   "source": [
    "# Define the deepRNN model\n",
    "model = Sequential([\n",
    "    Embedding(10000, 32, input_length=100), # Embedding layer to convert words to vectors....i/p has 10k unique words..each vector is of 32 dimension ie;every word represented with 32 dimension vector\n",
    "    SimpleRNN(5, return_sequences=True),   # RNN layer with 5 units,,u can take any no of nodes\n",
    "    SimpleRNN(5),                          # Another RNN layer with 5 units,,u can take any no of nodes\n",
    "    Dense(1, activation='sigmoid')          # Output layer for binary classification\n",
    "])\n",
    "\n",
    "model.summary()"
   ]
  },
  {
   "cell_type": "code",
   "execution_count": 4,
   "metadata": {
    "colab": {
     "base_uri": "https://localhost:8080/"
    },
    "id": "72Xl_iHKVvRc",
    "outputId": "b3bd2bf6-6b05-4dbc-eb2b-59cfe5cddbc2"
   },
   "outputs": [
    {
     "name": "stdout",
     "output_type": "stream",
     "text": [
      "Model: \"sequential_1\"\n",
      "_________________________________________________________________\n",
      " Layer (type)                Output Shape              Param #   \n",
      "=================================================================\n",
      " embedding_1 (Embedding)     (None, 100, 32)           320000    \n",
      "                                                                 \n",
      " lstm (LSTM)                 (None, 100, 5)            760       \n",
      "                                                                 \n",
      " lstm_1 (LSTM)               (None, 5)                 220       \n",
      "                                                                 \n",
      " dense_1 (Dense)             (None, 1)                 6         \n",
      "                                                                 \n",
      "=================================================================\n",
      "Total params: 320986 (1.22 MB)\n",
      "Trainable params: 320986 (1.22 MB)\n",
      "Non-trainable params: 0 (0.00 Byte)\n",
      "_________________________________________________________________\n"
     ]
    }
   ],
   "source": [
    "# Define the LSTM model\n",
    "model = Sequential([\n",
    "    Embedding(10000, 32, input_length=100),\n",
    "    LSTM(5, return_sequences=True),\n",
    "    LSTM(5),\n",
    "    Dense(1, activation='sigmoid')\n",
    "])\n",
    "\n",
    "model.summary()"
   ]
  },
  {
   "cell_type": "code",
   "execution_count": 5,
   "metadata": {
    "colab": {
     "base_uri": "https://localhost:8080/"
    },
    "id": "UrnX_um9V9GM",
    "outputId": "6dced782-8077-4542-82da-da8ad419fe91"
   },
   "outputs": [
    {
     "name": "stdout",
     "output_type": "stream",
     "text": [
      "Model: \"sequential_2\"\n",
      "_________________________________________________________________\n",
      " Layer (type)                Output Shape              Param #   \n",
      "=================================================================\n",
      " embedding_2 (Embedding)     (None, 100, 32)           320000    \n",
      "                                                                 \n",
      " gru (GRU)                   (None, 100, 5)            585       \n",
      "                                                                 \n",
      " gru_1 (GRU)                 (None, 5)                 180       \n",
      "                                                                 \n",
      " dense_2 (Dense)             (None, 1)                 6         \n",
      "                                                                 \n",
      "=================================================================\n",
      "Total params: 320771 (1.22 MB)\n",
      "Trainable params: 320771 (1.22 MB)\n",
      "Non-trainable params: 0 (0.00 Byte)\n",
      "_________________________________________________________________\n"
     ]
    }
   ],
   "source": [
    "# Define the GRU model\n",
    "model = Sequential([\n",
    "    Embedding(10000, 32, input_length=100),\n",
    "    GRU(5, return_sequences=True),\n",
    "    GRU(5),\n",
    "    Dense(1, activation='sigmoid')\n",
    "])\n",
    "\n",
    "model.summary()"
   ]
  },
  {
   "cell_type": "code",
   "execution_count": 6,
   "metadata": {
    "id": "ygDT30CaQimm"
   },
   "outputs": [],
   "source": [
    "# Compile the model\n",
    "model.compile(optimizer='adam', loss='binary_crossentropy', metrics=['accuracy'])"
   ]
  },
  {
   "cell_type": "code",
   "execution_count": 7,
   "metadata": {
    "colab": {
     "base_uri": "https://localhost:8080/"
    },
    "id": "NwRJ_HduQiyr",
    "outputId": "82b97e9f-4fcb-4873-dfcb-4fd8b52965a7"
   },
   "outputs": [
    {
     "name": "stdout",
     "output_type": "stream",
     "text": [
      "Epoch 1/5\n",
      "625/625 [==============================] - 50s 71ms/step - loss: 0.5074 - accuracy: 0.7437 - val_loss: 0.4029 - val_accuracy: 0.8266\n",
      "Epoch 2/5\n",
      "625/625 [==============================] - 43s 68ms/step - loss: 0.3175 - accuracy: 0.8747 - val_loss: 0.3816 - val_accuracy: 0.8360\n",
      "Epoch 3/5\n",
      "625/625 [==============================] - 43s 68ms/step - loss: 0.2430 - accuracy: 0.9087 - val_loss: 0.3932 - val_accuracy: 0.8384\n",
      "Epoch 4/5\n",
      "625/625 [==============================] - 46s 73ms/step - loss: 0.1949 - accuracy: 0.9300 - val_loss: 0.4070 - val_accuracy: 0.8326\n",
      "Epoch 5/5\n",
      "625/625 [==============================] - 145s 233ms/step - loss: 0.1541 - accuracy: 0.9493 - val_loss: 0.4468 - val_accuracy: 0.8328\n"
     ]
    }
   ],
   "source": [
    "# Train the model\n",
    "history = model.fit(x_train, y_train, epochs=5, batch_size=32, validation_split=0.2)"
   ]
  },
  {
   "cell_type": "code",
   "execution_count": null,
   "metadata": {
    "id": "WOFo1KXZQjCA"
   },
   "outputs": [],
   "source": []
  },
  {
   "cell_type": "code",
   "execution_count": null,
   "metadata": {
    "id": "iLpW9jxVi5B9"
   },
   "outputs": [],
   "source": []
  }
 ],
 "metadata": {
  "accelerator": "GPU",
  "colab": {
   "gpuType": "T4",
   "provenance": []
  },
  "kernelspec": {
   "display_name": "Python 3 (ipykernel)",
   "language": "python",
   "name": "python3"
  },
  "language_info": {
   "codemirror_mode": {
    "name": "ipython",
    "version": 3
   },
   "file_extension": ".py",
   "mimetype": "text/x-python",
   "name": "python",
   "nbconvert_exporter": "python",
   "pygments_lexer": "ipython3",
   "version": "3.11.4"
  }
 },
 "nbformat": 4,
 "nbformat_minor": 1
}
