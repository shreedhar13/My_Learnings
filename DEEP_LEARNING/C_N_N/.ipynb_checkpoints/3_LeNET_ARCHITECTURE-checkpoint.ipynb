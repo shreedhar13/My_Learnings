{
 "cells": [
  {
   "cell_type": "code",
   "execution_count": 4,
   "id": "d2fdcf30",
   "metadata": {},
   "outputs": [],
   "source": [
    "import tensorflow\n",
    "from tensorflow import keras\n",
    "from keras.layers import Dense,Conv2D,Flatten,MaxPooling2D,AveragePooling2D\n",
    "from keras import Sequential\n",
    "from keras.datasets import mnist"
   ]
  },
  {
   "cell_type": "code",
   "execution_count": 5,
   "id": "4d1a34e4",
   "metadata": {},
   "outputs": [],
   "source": [
    "(X_train, y_train), (X_test, y_test) = mnist.load_data()"
   ]
  },
  {
   "cell_type": "markdown",
   "id": "ac1f3719",
   "metadata": {},
   "source": [
    "# LeNET-5  ARCHITECTure"
   ]
  },
  {
   "cell_type": "code",
   "execution_count": 6,
   "id": "eec3eca9",
   "metadata": {},
   "outputs": [],
   "source": [
    "#dont change anything,,,exactly this is designed by \"yann lu cunn\"\n",
    "model = Sequential()\n",
    "\n",
    "#C_L1\n",
    "model.add(Conv2D(6,kernel_size=(5,5),padding='valid', activation='tanh', input_shape=(32,32,1)))#bcz in 1989 tanh is famous and relus is not there so yann used tanh\n",
    "model.add(AveragePooling2D(pool_size=(2, 2), strides=2, padding='valid'))#passing reduced feature map\n",
    "\n",
    "#C_L2\n",
    "model.add(Conv2D(16,kernel_size=(5,5),padding='valid', activation='tanh'))\n",
    "model.add(AveragePooling2D(pool_size=(2, 2), strides=2, padding='valid'))#passing reduced feature map to fully connected layer by flatting\n",
    "\n",
    "#NOT A LAYER ,it is operation/preprocess before sending to Fully connected layer,,,thats why trainable parameters are 0 in this layer\n",
    "model.add(Flatten())#flatten/convert high dimension data coming from C_L2 is converted to 1D\n",
    "\n",
    "#fully connected layers\n",
    "model.add(Dense(120,activation='tanh'))#F_C_L1\n",
    "model.add(Dense(84,activation='tanh'))#F_C_L2\n",
    "model.add(Dense(10,activation='softmax'))#output layer(bcz multiclass classification so 10 neurons and activation is softmax)\n",
    "\n",
    "#TOTAL 5 LAYERS(which are having trainable para) so named LeNET5"
   ]
  },
  {
   "cell_type": "code",
   "execution_count": 7,
   "id": "c4973a81",
   "metadata": {},
   "outputs": [
    {
     "name": "stdout",
     "output_type": "stream",
     "text": [
      "Model: \"sequential_1\"\n",
      "_________________________________________________________________\n",
      " Layer (type)                Output Shape              Param #   \n",
      "=================================================================\n",
      " conv2d_1 (Conv2D)           (None, 28, 28, 6)         156       \n",
      "                                                                 \n",
      " average_pooling2d (Average  (None, 14, 14, 6)         0         \n",
      " Pooling2D)                                                      \n",
      "                                                                 \n",
      " conv2d_2 (Conv2D)           (None, 10, 10, 16)        2416      \n",
      "                                                                 \n",
      " average_pooling2d_1 (Avera  (None, 5, 5, 16)          0         \n",
      " gePooling2D)                                                    \n",
      "                                                                 \n",
      " flatten (Flatten)           (None, 400)               0         \n",
      "                                                                 \n",
      " dense (Dense)               (None, 120)               48120     \n",
      "                                                                 \n",
      " dense_1 (Dense)             (None, 84)                10164     \n",
      "                                                                 \n",
      " dense_2 (Dense)             (None, 10)                850       \n",
      "                                                                 \n",
      "=================================================================\n",
      "Total params: 61706 (241.04 KB)\n",
      "Trainable params: 61706 (241.04 KB)\n",
      "Non-trainable params: 0 (0.00 Byte)\n",
      "_________________________________________________________________\n"
     ]
    }
   ],
   "source": [
    "model.summary()\n",
    "#output shape means feature map shape"
   ]
  },
  {
   "cell_type": "code",
   "execution_count": null,
   "id": "779618b4",
   "metadata": {},
   "outputs": [],
   "source": []
  }
 ],
 "metadata": {
  "kernelspec": {
   "display_name": "Python 3 (ipykernel)",
   "language": "python",
   "name": "python3"
  },
  "language_info": {
   "codemirror_mode": {
    "name": "ipython",
    "version": 3
   },
   "file_extension": ".py",
   "mimetype": "text/x-python",
   "name": "python",
   "nbconvert_exporter": "python",
   "pygments_lexer": "ipython3",
   "version": "3.11.4"
  }
 },
 "nbformat": 4,
 "nbformat_minor": 5
}
