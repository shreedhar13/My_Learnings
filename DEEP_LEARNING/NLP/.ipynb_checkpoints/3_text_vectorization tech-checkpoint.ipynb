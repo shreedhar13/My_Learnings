{
 "cells": [
  {
   "cell_type": "markdown",
   "id": "f19b897a",
   "metadata": {},
   "source": [
    "# BAG OF WORDS(BOW)"
   ]
  },
  {
   "cell_type": "code",
   "execution_count": 2,
   "id": "1cb2ce41",
   "metadata": {},
   "outputs": [],
   "source": [
    "import pandas as pd\n",
    "import numpy as np"
   ]
  },
  {
   "cell_type": "code",
   "execution_count": 3,
   "id": "d1b6e69d",
   "metadata": {},
   "outputs": [
    {
     "data": {
      "text/html": [
       "<div>\n",
       "<style scoped>\n",
       "    .dataframe tbody tr th:only-of-type {\n",
       "        vertical-align: middle;\n",
       "    }\n",
       "\n",
       "    .dataframe tbody tr th {\n",
       "        vertical-align: top;\n",
       "    }\n",
       "\n",
       "    .dataframe thead th {\n",
       "        text-align: right;\n",
       "    }\n",
       "</style>\n",
       "<table border=\"1\" class=\"dataframe\">\n",
       "  <thead>\n",
       "    <tr style=\"text-align: right;\">\n",
       "      <th></th>\n",
       "      <th>text</th>\n",
       "      <th>output</th>\n",
       "    </tr>\n",
       "  </thead>\n",
       "  <tbody>\n",
       "    <tr>\n",
       "      <th>0</th>\n",
       "      <td>people watch campusx</td>\n",
       "      <td>1</td>\n",
       "    </tr>\n",
       "    <tr>\n",
       "      <th>1</th>\n",
       "      <td>campusx watch campusx</td>\n",
       "      <td>1</td>\n",
       "    </tr>\n",
       "    <tr>\n",
       "      <th>2</th>\n",
       "      <td>people write comment</td>\n",
       "      <td>0</td>\n",
       "    </tr>\n",
       "    <tr>\n",
       "      <th>3</th>\n",
       "      <td>campusx write comment</td>\n",
       "      <td>0</td>\n",
       "    </tr>\n",
       "  </tbody>\n",
       "</table>\n",
       "</div>"
      ],
      "text/plain": [
       "                    text  output\n",
       "0   people watch campusx       1\n",
       "1  campusx watch campusx       1\n",
       "2   people write comment       0\n",
       "3  campusx write comment       0"
      ]
     },
     "execution_count": 3,
     "metadata": {},
     "output_type": "execute_result"
    }
   ],
   "source": [
    "df=pd.DataFrame({'text':['people watch campusx','campusx watch campusx','people write comment','campusx write comment'],'output':[1,1,0,0]})\n",
    "df"
   ]
  },
  {
   "cell_type": "code",
   "execution_count": 15,
   "id": "21969699",
   "metadata": {},
   "outputs": [
    {
     "data": {
      "text/plain": [
       "(4, 2)"
      ]
     },
     "execution_count": 15,
     "metadata": {},
     "output_type": "execute_result"
    }
   ],
   "source": [
    "df.shape"
   ]
  },
  {
   "cell_type": "code",
   "execution_count": 3,
   "id": "a6621880",
   "metadata": {},
   "outputs": [
    {
     "data": {
      "text/html": [
       "<div>\n",
       "<style scoped>\n",
       "    .dataframe tbody tr th:only-of-type {\n",
       "        vertical-align: middle;\n",
       "    }\n",
       "\n",
       "    .dataframe tbody tr th {\n",
       "        vertical-align: top;\n",
       "    }\n",
       "\n",
       "    .dataframe thead th {\n",
       "        text-align: right;\n",
       "    }\n",
       "</style>\n",
       "<table border=\"1\" class=\"dataframe\">\n",
       "  <thead>\n",
       "    <tr style=\"text-align: right;\">\n",
       "      <th></th>\n",
       "      <th>text</th>\n",
       "      <th>output</th>\n",
       "      <th>name</th>\n",
       "    </tr>\n",
       "  </thead>\n",
       "  <tbody>\n",
       "    <tr>\n",
       "      <th>0</th>\n",
       "      <td>people watch campusx</td>\n",
       "      <td>1</td>\n",
       "      <td>1</td>\n",
       "    </tr>\n",
       "    <tr>\n",
       "      <th>1</th>\n",
       "      <td>campusx watch campusx</td>\n",
       "      <td>1</td>\n",
       "      <td>2</td>\n",
       "    </tr>\n",
       "    <tr>\n",
       "      <th>2</th>\n",
       "      <td>people write comment</td>\n",
       "      <td>0</td>\n",
       "      <td>3</td>\n",
       "    </tr>\n",
       "    <tr>\n",
       "      <th>3</th>\n",
       "      <td>campusx write comment</td>\n",
       "      <td>0</td>\n",
       "      <td>4</td>\n",
       "    </tr>\n",
       "  </tbody>\n",
       "</table>\n",
       "</div>"
      ],
      "text/plain": [
       "                    text  output  name\n",
       "0   people watch campusx       1     1\n",
       "1  campusx watch campusx       1     2\n",
       "2   people write comment       0     3\n",
       "3  campusx write comment       0     4"
      ]
     },
     "execution_count": 3,
     "metadata": {},
     "output_type": "execute_result"
    }
   ],
   "source": [
    "df['name']=[1,2,3,4]\n",
    "df"
   ]
  },
  {
   "cell_type": "code",
   "execution_count": 4,
   "id": "bb620d1e",
   "metadata": {},
   "outputs": [
    {
     "data": {
      "text/html": [
       "<div>\n",
       "<style scoped>\n",
       "    .dataframe tbody tr th:only-of-type {\n",
       "        vertical-align: middle;\n",
       "    }\n",
       "\n",
       "    .dataframe tbody tr th {\n",
       "        vertical-align: top;\n",
       "    }\n",
       "\n",
       "    .dataframe thead th {\n",
       "        text-align: right;\n",
       "    }\n",
       "</style>\n",
       "<table border=\"1\" class=\"dataframe\">\n",
       "  <thead>\n",
       "    <tr style=\"text-align: right;\">\n",
       "      <th></th>\n",
       "      <th>text</th>\n",
       "      <th>output</th>\n",
       "      <th>name</th>\n",
       "    </tr>\n",
       "  </thead>\n",
       "  <tbody>\n",
       "    <tr>\n",
       "      <th>0</th>\n",
       "      <td>people watch campusx</td>\n",
       "      <td>1</td>\n",
       "      <td>2</td>\n",
       "    </tr>\n",
       "    <tr>\n",
       "      <th>1</th>\n",
       "      <td>campusx watch campusx</td>\n",
       "      <td>1</td>\n",
       "      <td>2</td>\n",
       "    </tr>\n",
       "    <tr>\n",
       "      <th>2</th>\n",
       "      <td>people write comment</td>\n",
       "      <td>0</td>\n",
       "      <td>3</td>\n",
       "    </tr>\n",
       "    <tr>\n",
       "      <th>3</th>\n",
       "      <td>campusx write comment</td>\n",
       "      <td>0</td>\n",
       "      <td>4</td>\n",
       "    </tr>\n",
       "  </tbody>\n",
       "</table>\n",
       "</div>"
      ],
      "text/plain": [
       "                    text  output  name\n",
       "0   people watch campusx       1     2\n",
       "1  campusx watch campusx       1     2\n",
       "2   people write comment       0     3\n",
       "3  campusx write comment       0     4"
      ]
     },
     "execution_count": 4,
     "metadata": {},
     "output_type": "execute_result"
    }
   ],
   "source": [
    "df['name']=[2,2,3,4]\n",
    "df"
   ]
  },
  {
   "cell_type": "code",
   "execution_count": 6,
   "id": "8786bd6f",
   "metadata": {},
   "outputs": [
    {
     "data": {
      "text/html": [
       "<div>\n",
       "<style scoped>\n",
       "    .dataframe tbody tr th:only-of-type {\n",
       "        vertical-align: middle;\n",
       "    }\n",
       "\n",
       "    .dataframe tbody tr th {\n",
       "        vertical-align: top;\n",
       "    }\n",
       "\n",
       "    .dataframe thead th {\n",
       "        text-align: right;\n",
       "    }\n",
       "</style>\n",
       "<table border=\"1\" class=\"dataframe\">\n",
       "  <thead>\n",
       "    <tr style=\"text-align: right;\">\n",
       "      <th></th>\n",
       "      <th>text</th>\n",
       "      <th>output</th>\n",
       "    </tr>\n",
       "  </thead>\n",
       "  <tbody>\n",
       "    <tr>\n",
       "      <th>0</th>\n",
       "      <td>people watch campusx</td>\n",
       "      <td>1</td>\n",
       "    </tr>\n",
       "    <tr>\n",
       "      <th>1</th>\n",
       "      <td>campusx watch campusx</td>\n",
       "      <td>1</td>\n",
       "    </tr>\n",
       "    <tr>\n",
       "      <th>2</th>\n",
       "      <td>people write comment</td>\n",
       "      <td>0</td>\n",
       "    </tr>\n",
       "    <tr>\n",
       "      <th>3</th>\n",
       "      <td>campusx write comment</td>\n",
       "      <td>0</td>\n",
       "    </tr>\n",
       "  </tbody>\n",
       "</table>\n",
       "</div>"
      ],
      "text/plain": [
       "                    text  output\n",
       "0   people watch campusx       1\n",
       "1  campusx watch campusx       1\n",
       "2   people write comment       0\n",
       "3  campusx write comment       0"
      ]
     },
     "execution_count": 6,
     "metadata": {},
     "output_type": "execute_result"
    }
   ],
   "source": [
    "df.drop(columns='name',inplace=True)\n",
    "df"
   ]
  },
  {
   "cell_type": "code",
   "execution_count": 7,
   "id": "6e9ccdd7",
   "metadata": {},
   "outputs": [],
   "source": [
    "from sklearn.feature_extraction.text import CountVectorizer\n",
    "cv=CountVectorizer()\n",
    "bow=cv.fit_transform(df['text'])"
   ]
  },
  {
   "cell_type": "code",
   "execution_count": 9,
   "id": "2d9c63c7",
   "metadata": {},
   "outputs": [
    {
     "data": {
      "text/plain": [
       "{'people': 2, 'watch': 3, 'campusx': 0, 'write': 4, 'comment': 1}"
      ]
     },
     "execution_count": 9,
     "metadata": {},
     "output_type": "execute_result"
    }
   ],
   "source": [
    "cv.vocabulary_\n",
    "#w.r.t alphabatic order of words(vocab) indexing is done..\n",
    "#    campusx |comment | people | watch | write\n",
    "#d1    1         0        1        1      0"
   ]
  },
  {
   "cell_type": "code",
   "execution_count": 10,
   "id": "85f795ba",
   "metadata": {},
   "outputs": [
    {
     "data": {
      "text/plain": [
       "<1x5 sparse matrix of type '<class 'numpy.int64'>'\n",
       "\twith 3 stored elements in Compressed Sparse Row format>"
      ]
     },
     "execution_count": 10,
     "metadata": {},
     "output_type": "execute_result"
    }
   ],
   "source": [
    "bow[0]"
   ]
  },
  {
   "cell_type": "code",
   "execution_count": 12,
   "id": "d9fee918",
   "metadata": {},
   "outputs": [
    {
     "data": {
      "text/plain": [
       "array([[1, 0, 1, 1, 0]], dtype=int64)"
      ]
     },
     "execution_count": 12,
     "metadata": {},
     "output_type": "execute_result"
    }
   ],
   "source": [
    "bow[0].toarray()"
   ]
  },
  {
   "cell_type": "code",
   "execution_count": 24,
   "id": "9f131cc0",
   "metadata": {},
   "outputs": [
    {
     "name": "stdout",
     "output_type": "stream",
     "text": [
      "D0->[[1 0 1 1 0]]\n",
      "D1->[[2 0 0 1 0]]\n",
      "D2->[[0 1 1 0 1]]\n",
      "D3->[[1 1 0 0 1]]\n"
     ]
    }
   ],
   "source": [
    "for i in range(df.shape[0]):\n",
    "    print('D{}'.format(i),end='->')\n",
    "    print(bow[i].toarray())"
   ]
  },
  {
   "cell_type": "code",
   "execution_count": 25,
   "id": "12fc45ef",
   "metadata": {},
   "outputs": [],
   "source": [
    "#as u see vector d1 and d2 are more similar"
   ]
  },
  {
   "cell_type": "code",
   "execution_count": 32,
   "id": "2d0b17be",
   "metadata": {},
   "outputs": [
    {
     "data": {
      "text/plain": [
       "array([[2, 0, 0, 0, 0]], dtype=int64)"
      ]
     },
     "execution_count": 32,
     "metadata": {},
     "output_type": "execute_result"
    }
   ],
   "source": [
    "cv.transform(['caMpusX not campusx shree']).toarray()\n",
    "#ignoring case bro....internally all alphabets are converted to 'lowercasse',,so while text preparation no need to do lowercasing"
   ]
  },
  {
   "cell_type": "code",
   "execution_count": 30,
   "id": "0d36f1bd",
   "metadata": {},
   "outputs": [],
   "source": [
    "#as u see not and shree are OOV(out of vocab) then also there is no error ,, so we resolved this problem which is there in OHE\n",
    "#oov is handle automaticcaly by BOW tech"
   ]
  },
  {
   "cell_type": "code",
   "execution_count": 33,
   "id": "8b90aed4",
   "metadata": {},
   "outputs": [],
   "source": [
    "#learn hyperparameters of CountVectorizer()...\n",
    "#few important once are\n",
    "#1)binary=False ->bydefault,,if u set it as True then all non zero values vector are set to 1\n",
    "#ie;vector is made up of only 2 values 0 or 1 ,,,ex->for d2 -> [[1 0 0 1 0]],,ie;2 is non zero and it is replaced with 1,,,ie;we are neglating frequency of each word..if that word present then set simply 1 else 0\n",
    "\n",
    "#\"this gives good result interms of SENTIMENT ANALYSIS\" research prooven\n",
    "\n",
    "#2)max_features=None bydefault -->if u give 1 then it will consider only that word in vocab which has occured more no of size in \"corpus\"\n",
    "#ex->max_features=1   ,, bcz campusx has more occurence in corpus,,so select that only bcz there is no other wrd which has similar occurense in corpus\n",
    "#   campusx      where binary=False,,,,,if u give true then   campusx\n",
    "#d1  1                                                           1\n",
    "#d2  2                                                           1\n",
    "#d3  0                                                           0\n",
    "#d4  1                                                           1\n",
    "\n",
    "#max_features=2 ,, 2 words are selected from corpus which has more occurence,,ie;"
   ]
  },
  {
   "cell_type": "code",
   "execution_count": 36,
   "id": "956a7d28",
   "metadata": {},
   "outputs": [
    {
     "name": "stdout",
     "output_type": "stream",
     "text": [
      "D0->[[1]]\n",
      "D1->[[2]]\n",
      "D2->[[0]]\n",
      "D3->[[1]]\n"
     ]
    }
   ],
   "source": [
    "cv2=CountVectorizer(max_features=1)\n",
    "bow2=cv2.fit_transform(df['text'])\n",
    "for i in range(df.shape[0]):\n",
    "    print('D{}'.format(i),end='->')\n",
    "    print(bow2[i].toarray())"
   ]
  },
  {
   "cell_type": "code",
   "execution_count": 37,
   "id": "bc50bc4d",
   "metadata": {},
   "outputs": [
    {
     "name": "stdout",
     "output_type": "stream",
     "text": [
      "D0->[[1 0]]\n",
      "D1->[[2 0]]\n",
      "D2->[[0 1]]\n",
      "D3->[[1 1]]\n"
     ]
    }
   ],
   "source": [
    "cv2=CountVectorizer(max_features=2)\n",
    "bow2=cv2.fit_transform(df['text'])\n",
    "for i in range(df.shape[0]):\n",
    "    print('D{}'.format(i),end='->')\n",
    "    print(bow2[i].toarray())\n",
    "#campusx  |  comment,,,,    note->prople,watch,write also has same no of occurence in corpus compared to comment but comment is selected bcz index wise comment comes first so..\n"
   ]
  },
  {
   "cell_type": "code",
   "execution_count": 38,
   "id": "959ebd75",
   "metadata": {},
   "outputs": [
    {
     "name": "stdout",
     "output_type": "stream",
     "text": [
      "D0->[[1 0 1]]\n",
      "D1->[[2 0 0]]\n",
      "D2->[[0 1 1]]\n",
      "D3->[[1 1 0]]\n"
     ]
    }
   ],
   "source": [
    "cv2=CountVectorizer(max_features=3)\n",
    "bow2=cv2.fit_transform(df['text'])\n",
    "for i in range(df.shape[0]):\n",
    "    print('D{}'.format(i),end='->')\n",
    "    print(bow2[i].toarray())\n",
    "    \n",
    "#campusx comment people"
   ]
  },
  {
   "cell_type": "code",
   "execution_count": 39,
   "id": "c5f8c1a5",
   "metadata": {},
   "outputs": [],
   "source": [
    "#this max_features tech used to neglate(dont take in accounts )rare words..\n",
    "#assume we have 10k word vocab,,,and only 7k words are used more times and remaining 3k are used lesser times in text then we can ignore it(ie;dont mention them in vector )\n",
    "#thus each vector formed is of 7k dimension...complexity reduced.."
   ]
  },
  {
   "cell_type": "code",
   "execution_count": 40,
   "id": "c81ec4b6",
   "metadata": {},
   "outputs": [],
   "source": [
    "#for removing rare words from vector space,,thus vector dimension is reduced"
   ]
  },
  {
   "cell_type": "code",
   "execution_count": 41,
   "id": "d9dec9c4",
   "metadata": {},
   "outputs": [],
   "source": [
    "#use other paameters of COuntVectorizer() class to know more"
   ]
  },
  {
   "cell_type": "markdown",
   "id": "fd3f7179",
   "metadata": {},
   "source": [
    "# N'GRAMS"
   ]
  },
  {
   "cell_type": "code",
   "execution_count": null,
   "id": "f3b9af9f",
   "metadata": {},
   "outputs": [],
   "source": [
    "#bigrams"
   ]
  },
  {
   "cell_type": "code",
   "execution_count": 42,
   "id": "8754ab88",
   "metadata": {},
   "outputs": [],
   "source": [
    "from sklearn.feature_extraction.text import CountVectorizer\n",
    "cv=CountVectorizer(ngram_range=(2,2))"
   ]
  },
  {
   "cell_type": "code",
   "execution_count": 43,
   "id": "3b2e2178",
   "metadata": {},
   "outputs": [],
   "source": [
    "bigrams=cv.fit_transform(df['text'])"
   ]
  },
  {
   "cell_type": "code",
   "execution_count": 45,
   "id": "cef19023",
   "metadata": {},
   "outputs": [
    {
     "data": {
      "text/plain": [
       "{'people watch': 2,\n",
       " 'watch campusx': 4,\n",
       " 'campusx watch': 0,\n",
       " 'people write': 3,\n",
       " 'write comment': 5,\n",
       " 'campusx write': 1}"
      ]
     },
     "execution_count": 45,
     "metadata": {},
     "output_type": "execute_result"
    }
   ],
   "source": [
    "cv.vocabulary_\n",
    "#as u see 6 tokens vocabulary is formed"
   ]
  },
  {
   "cell_type": "code",
   "execution_count": 46,
   "id": "5353b32f",
   "metadata": {},
   "outputs": [
    {
     "name": "stdout",
     "output_type": "stream",
     "text": [
      "D0->[[0 0 1 0 1 0]]\n",
      "D1->[[1 0 0 0 1 0]]\n",
      "D2->[[0 0 0 1 0 1]]\n",
      "D3->[[0 1 0 0 0 1]]\n"
     ]
    }
   ],
   "source": [
    "for i in range(df.shape[0]):\n",
    "    print('D{}'.format(i),end='->')\n",
    "    print(bigrams[i].toarray())"
   ]
  },
  {
   "cell_type": "code",
   "execution_count": 47,
   "id": "30a1ca9e",
   "metadata": {},
   "outputs": [],
   "source": [
    "#as u see d0 and d1 is represented such that this are not too similar,,thus gap b/n these 2 vectors are large"
   ]
  },
  {
   "cell_type": "code",
   "execution_count": 48,
   "id": "bed3e5cf",
   "metadata": {},
   "outputs": [],
   "source": [
    "#trigrams"
   ]
  },
  {
   "cell_type": "code",
   "execution_count": 49,
   "id": "78d88fc4",
   "metadata": {},
   "outputs": [
    {
     "data": {
      "text/plain": [
       "{'people watch campusx': 2,\n",
       " 'campusx watch campusx': 0,\n",
       " 'people write comment': 3,\n",
       " 'campusx write comment': 1}"
      ]
     },
     "execution_count": 49,
     "metadata": {},
     "output_type": "execute_result"
    }
   ],
   "source": [
    "cv=CountVectorizer(ngram_range=(3,3))\n",
    "trigrams=cv.fit_transform(df['text'])\n",
    "cv.vocabulary_"
   ]
  },
  {
   "cell_type": "code",
   "execution_count": 50,
   "id": "1997a24c",
   "metadata": {},
   "outputs": [],
   "source": [
    "#quadgrams"
   ]
  },
  {
   "cell_type": "code",
   "execution_count": 51,
   "id": "8c8658ca",
   "metadata": {},
   "outputs": [
    {
     "ename": "ValueError",
     "evalue": "empty vocabulary; perhaps the documents only contain stop words",
     "output_type": "error",
     "traceback": [
      "\u001b[1;31m---------------------------------------------------------------------------\u001b[0m",
      "\u001b[1;31mValueError\u001b[0m                                Traceback (most recent call last)",
      "Cell \u001b[1;32mIn[51], line 2\u001b[0m\n\u001b[0;32m      1\u001b[0m cv\u001b[38;5;241m=\u001b[39mCountVectorizer(ngram_range\u001b[38;5;241m=\u001b[39m(\u001b[38;5;241m4\u001b[39m,\u001b[38;5;241m4\u001b[39m))\n\u001b[1;32m----> 2\u001b[0m trigrams\u001b[38;5;241m=\u001b[39mcv\u001b[38;5;241m.\u001b[39mfit_transform(df[\u001b[38;5;124m'\u001b[39m\u001b[38;5;124mtext\u001b[39m\u001b[38;5;124m'\u001b[39m])\n\u001b[0;32m      3\u001b[0m cv\u001b[38;5;241m.\u001b[39mvocabulary_\n",
      "File \u001b[1;32m~\\AppData\\Roaming\\Python\\Python311\\site-packages\\sklearn\\feature_extraction\\text.py:1388\u001b[0m, in \u001b[0;36mCountVectorizer.fit_transform\u001b[1;34m(self, raw_documents, y)\u001b[0m\n\u001b[0;32m   1380\u001b[0m             warnings\u001b[38;5;241m.\u001b[39mwarn(\n\u001b[0;32m   1381\u001b[0m                 \u001b[38;5;124m\"\u001b[39m\u001b[38;5;124mUpper case characters found in\u001b[39m\u001b[38;5;124m\"\u001b[39m\n\u001b[0;32m   1382\u001b[0m                 \u001b[38;5;124m\"\u001b[39m\u001b[38;5;124m vocabulary while \u001b[39m\u001b[38;5;124m'\u001b[39m\u001b[38;5;124mlowercase\u001b[39m\u001b[38;5;124m'\u001b[39m\u001b[38;5;124m\"\u001b[39m\n\u001b[0;32m   1383\u001b[0m                 \u001b[38;5;124m\"\u001b[39m\u001b[38;5;124m is True. These entries will not\u001b[39m\u001b[38;5;124m\"\u001b[39m\n\u001b[0;32m   1384\u001b[0m                 \u001b[38;5;124m\"\u001b[39m\u001b[38;5;124m be matched with any documents\u001b[39m\u001b[38;5;124m\"\u001b[39m\n\u001b[0;32m   1385\u001b[0m             )\n\u001b[0;32m   1386\u001b[0m             \u001b[38;5;28;01mbreak\u001b[39;00m\n\u001b[1;32m-> 1388\u001b[0m vocabulary, X \u001b[38;5;241m=\u001b[39m \u001b[38;5;28mself\u001b[39m\u001b[38;5;241m.\u001b[39m_count_vocab(raw_documents, \u001b[38;5;28mself\u001b[39m\u001b[38;5;241m.\u001b[39mfixed_vocabulary_)\n\u001b[0;32m   1390\u001b[0m \u001b[38;5;28;01mif\u001b[39;00m \u001b[38;5;28mself\u001b[39m\u001b[38;5;241m.\u001b[39mbinary:\n\u001b[0;32m   1391\u001b[0m     X\u001b[38;5;241m.\u001b[39mdata\u001b[38;5;241m.\u001b[39mfill(\u001b[38;5;241m1\u001b[39m)\n",
      "File \u001b[1;32m~\\AppData\\Roaming\\Python\\Python311\\site-packages\\sklearn\\feature_extraction\\text.py:1294\u001b[0m, in \u001b[0;36mCountVectorizer._count_vocab\u001b[1;34m(self, raw_documents, fixed_vocab)\u001b[0m\n\u001b[0;32m   1292\u001b[0m     vocabulary \u001b[38;5;241m=\u001b[39m \u001b[38;5;28mdict\u001b[39m(vocabulary)\n\u001b[0;32m   1293\u001b[0m     \u001b[38;5;28;01mif\u001b[39;00m \u001b[38;5;129;01mnot\u001b[39;00m vocabulary:\n\u001b[1;32m-> 1294\u001b[0m         \u001b[38;5;28;01mraise\u001b[39;00m \u001b[38;5;167;01mValueError\u001b[39;00m(\n\u001b[0;32m   1295\u001b[0m             \u001b[38;5;124m\"\u001b[39m\u001b[38;5;124mempty vocabulary; perhaps the documents only contain stop words\u001b[39m\u001b[38;5;124m\"\u001b[39m\n\u001b[0;32m   1296\u001b[0m         )\n\u001b[0;32m   1298\u001b[0m \u001b[38;5;28;01mif\u001b[39;00m indptr[\u001b[38;5;241m-\u001b[39m\u001b[38;5;241m1\u001b[39m] \u001b[38;5;241m>\u001b[39m np\u001b[38;5;241m.\u001b[39miinfo(np\u001b[38;5;241m.\u001b[39mint32)\u001b[38;5;241m.\u001b[39mmax:  \u001b[38;5;66;03m# = 2**31 - 1\u001b[39;00m\n\u001b[0;32m   1299\u001b[0m     \u001b[38;5;28;01mif\u001b[39;00m _IS_32BIT:\n",
      "\u001b[1;31mValueError\u001b[0m: empty vocabulary; perhaps the documents only contain stop words"
     ]
    }
   ],
   "source": [
    "cv=CountVectorizer(ngram_range=(4,4))\n",
    "trigrams=cv.fit_transform(df['text'])\n",
    "cv.vocabulary_\n",
    "#error,,bcz there is exist atleast one document/row with no of words less than 4,,,"
   ]
  },
  {
   "cell_type": "code",
   "execution_count": 52,
   "id": "e4236af9",
   "metadata": {},
   "outputs": [
    {
     "data": {
      "text/plain": [
       "{'people': 6,\n",
       " 'watch': 11,\n",
       " 'campusx': 0,\n",
       " 'people watch': 7,\n",
       " 'watch campusx': 12,\n",
       " 'people watch campusx': 8,\n",
       " 'campusx watch': 1,\n",
       " 'campusx watch campusx': 2,\n",
       " 'write': 13,\n",
       " 'comment': 5,\n",
       " 'people write': 9,\n",
       " 'write comment': 14,\n",
       " 'people write comment': 10,\n",
       " 'campusx write': 3,\n",
       " 'campusx write comment': 4}"
      ]
     },
     "execution_count": 52,
     "metadata": {},
     "output_type": "execute_result"
    }
   ],
   "source": [
    "#if u wannt unigram,bigram and trigram as vocabulary then use range (1,3)\n",
    "cv=CountVectorizer(ngram_range=(1,3))\n",
    "trigrams=cv.fit_transform(df['text'])\n",
    "cv.vocabulary_"
   ]
  },
  {
   "cell_type": "code",
   "execution_count": 1,
   "id": "9b73f217",
   "metadata": {},
   "outputs": [],
   "source": [
    "#thus now we will represented/capture similarities and disssimilarities b/n each document/vector is more precisely\n",
    "#but this is hyperparameter,,you have to choose correctly o/w complexity and overfitting occur"
   ]
  },
  {
   "cell_type": "markdown",
   "id": "c4551217",
   "metadata": {},
   "source": [
    "# TF*IDF"
   ]
  },
  {
   "cell_type": "code",
   "execution_count": null,
   "id": "352ee3f1",
   "metadata": {},
   "outputs": [],
   "source": [
    "from sklearn.feature_extraction.text import TfidfVectorizer\n",
    "tfidf=TfidfVectorizer()\n",
    "tfidf.fit_transform(df['text'])"
   ]
  },
  {
   "cell_type": "code",
   "execution_count": null,
   "id": "4f90b14d",
   "metadata": {},
   "outputs": [],
   "source": [
    "print(tfidf.idf_)\n",
    "print(tfidf.get_feature_names_out())"
   ]
  }
 ],
 "metadata": {
  "kernelspec": {
   "display_name": "Python 3 (ipykernel)",
   "language": "python",
   "name": "python3"
  },
  "language_info": {
   "codemirror_mode": {
    "name": "ipython",
    "version": 3
   },
   "file_extension": ".py",
   "mimetype": "text/x-python",
   "name": "python",
   "nbconvert_exporter": "python",
   "pygments_lexer": "ipython3",
   "version": "3.11.4"
  }
 },
 "nbformat": 4,
 "nbformat_minor": 5
}
