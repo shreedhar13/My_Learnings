{
 "cells": [
  {
   "cell_type": "code",
   "execution_count": null,
   "id": "86bbf905",
   "metadata": {},
   "outputs": [],
   "source": [
    "#!pip install textblob\n",
    "#nltk.download('punkt')"
   ]
  },
  {
   "cell_type": "markdown",
   "id": "84f699c9",
   "metadata": {},
   "source": [
    "# html tag removal"
   ]
  },
  {
   "cell_type": "code",
   "execution_count": 14,
   "id": "6efb8458",
   "metadata": {},
   "outputs": [
    {
     "data": {
      "text/plain": [
       "'<h2>htnl elel</h2><p class=\"s\">lorem xbfhfd asjdhaklfnf msnskjhkahf asfaskfh</p>'"
      ]
     },
     "execution_count": 14,
     "metadata": {},
     "output_type": "execute_result"
    }
   ],
   "source": [
    "sample_text='<h2>htnl elel</h2><p class=\"s\">lorem xbfhfd asjdhaklfnf msnskjhkahf asfaskfh</p>'\n",
    "sample_text"
   ]
  },
  {
   "cell_type": "code",
   "execution_count": 17,
   "id": "8447d82c",
   "metadata": {},
   "outputs": [],
   "source": [
    "import re\n",
    "def striphtml(data):\n",
    "    return re.sub('<.*?>',' ',data)\n",
    "#'<.*?>' why not <.*>  \n",
    "#text=eeeAiiZuuuuAooooZeeee\n",
    "#1) i apply <.*> -->  matched string is , AiiZuuuuAooooZ  ,ie;find largest possible match\n",
    "#2) i apply <.*?> --> 1st matched string is , AiiZ   ,2nd  AooooZ ,,ie;find smalles possible match\n",
    "#see html_removal_re1 and 2 in this folder"
   ]
  },
  {
   "cell_type": "code",
   "execution_count": 18,
   "id": "0b4b78b5",
   "metadata": {},
   "outputs": [
    {
     "data": {
      "text/plain": [
       "' htnl elel  lorem xbfhfd asjdhaklfnf msnskjhkahf asfaskfh '"
      ]
     },
     "execution_count": 18,
     "metadata": {},
     "output_type": "execute_result"
    }
   ],
   "source": [
    "striphtml(sample_text)"
   ]
  },
  {
   "cell_type": "markdown",
   "id": "3a642b11",
   "metadata": {},
   "source": [
    "# unicode normalization(emoji to m/c understandable format)"
   ]
  },
  {
   "cell_type": "code",
   "execution_count": 19,
   "id": "90d48e42",
   "metadata": {},
   "outputs": [],
   "source": [
    "emoji_text='hello 😁 bro how are 🫵🏻 bye ,,✋,,,,nice day 😍!'"
   ]
  },
  {
   "cell_type": "code",
   "execution_count": 20,
   "id": "7dfeb002",
   "metadata": {},
   "outputs": [
    {
     "data": {
      "text/plain": [
       "b'hello \\xf0\\x9f\\x98\\x81 bro how are \\xf0\\x9f\\xab\\xb5\\xf0\\x9f\\x8f\\xbb bye ,,\\xe2\\x9c\\x8b,,,,nice day \\xf0\\x9f\\x98\\x8d!'"
      ]
     },
     "execution_count": 20,
     "metadata": {},
     "output_type": "execute_result"
    }
   ],
   "source": [
    "emoji_text.encode('utf-8')"
   ]
  },
  {
   "cell_type": "code",
   "execution_count": 21,
   "id": "b7cbc730",
   "metadata": {},
   "outputs": [],
   "source": [
    "#u can give this unicode to model(rnn,lstm,gru) directly,,,bcz it is m/c understanble form"
   ]
  },
  {
   "cell_type": "markdown",
   "id": "ac6bb67f",
   "metadata": {},
   "source": [
    "# spell correction"
   ]
  },
  {
   "cell_type": "code",
   "execution_count": 22,
   "id": "e260c4c3",
   "metadata": {},
   "outputs": [],
   "source": [
    "incorrect_text='ceertain conditionas duriing seveal ggenearations aree moodified in the saame maner'"
   ]
  },
  {
   "cell_type": "code",
   "execution_count": 25,
   "id": "25b0b4ec",
   "metadata": {},
   "outputs": [
    {
     "data": {
      "text/plain": [
       "TextBlob(\"certain conditions during several generations are modified in the same manner\")"
      ]
     },
     "execution_count": 25,
     "metadata": {},
     "output_type": "execute_result"
    }
   ],
   "source": [
    "from textblob import TextBlob\n",
    "textblb = TextBlob(incorrect_text)\n",
    "textblb.correct()"
   ]
  },
  {
   "cell_type": "markdown",
   "id": "1f394a2e",
   "metadata": {},
   "source": [
    "# tokenization(sentence ,word wise)"
   ]
  },
  {
   "cell_type": "code",
   "execution_count": 26,
   "id": "66b7706e",
   "metadata": {},
   "outputs": [],
   "source": [
    "from nltk.tokenize import sent_tokenize,word_tokenize"
   ]
  },
  {
   "cell_type": "code",
   "execution_count": 29,
   "id": "f7523169",
   "metadata": {},
   "outputs": [],
   "source": [
    "dummy=\"\"\"Lorem ipsum dolor sit amet consectetur adipisicing elit. Blanditiis dicta velit, laudantium eum tempora architecto\n",
    "       repudiandae iste id quia culpa. Possimus cupiditate inventore debitis exercitationem quos dolorum reiciendis atque earum maxime nostrum, nulla repudiandae ducimus deleniti eligendi? Voluptatum, \n",
    "       doloremque ex?\"\"\""
   ]
  },
  {
   "cell_type": "code",
   "execution_count": 32,
   "id": "cd5b5c38",
   "metadata": {},
   "outputs": [
    {
     "data": {
      "text/plain": [
       "['Lorem ipsum dolor sit amet consectetur adipisicing elit.',\n",
       " 'Blanditiis dicta velit, laudantium eum tempora architecto\\n       repudiandae iste id quia culpa.',\n",
       " 'Possimus cupiditate inventore debitis exercitationem quos dolorum reiciendis atque earum maxime nostrum, nulla repudiandae ducimus deleniti eligendi?',\n",
       " 'Voluptatum, \\n       doloremque ex?']"
      ]
     },
     "execution_count": 32,
     "metadata": {},
     "output_type": "execute_result"
    }
   ],
   "source": [
    "sents=sent_tokenize(dummy)\n",
    "sents"
   ]
  },
  {
   "cell_type": "code",
   "execution_count": 33,
   "id": "2137bcb8",
   "metadata": {},
   "outputs": [],
   "source": [
    "#internally detect sentence on the basis of . , ..etc"
   ]
  },
  {
   "cell_type": "code",
   "execution_count": 34,
   "id": "7538e10d",
   "metadata": {},
   "outputs": [
    {
     "name": "stdout",
     "output_type": "stream",
     "text": [
      "['Lorem', 'ipsum', 'dolor', 'sit', 'amet', 'consectetur', 'adipisicing', 'elit', '.']\n",
      "['Blanditiis', 'dicta', 'velit', ',', 'laudantium', 'eum', 'tempora', 'architecto', 'repudiandae', 'iste', 'id', 'quia', 'culpa', '.']\n",
      "['Possimus', 'cupiditate', 'inventore', 'debitis', 'exercitationem', 'quos', 'dolorum', 'reiciendis', 'atque', 'earum', 'maxime', 'nostrum', ',', 'nulla', 'repudiandae', 'ducimus', 'deleniti', 'eligendi', '?']\n",
      "['Voluptatum', ',', 'doloremque', 'ex', '?']\n"
     ]
    }
   ],
   "source": [
    "for sent in sents:\n",
    "    print(word_tokenize(sent))"
   ]
  },
  {
   "cell_type": "code",
   "execution_count": 37,
   "id": "235a7058",
   "metadata": {},
   "outputs": [
    {
     "data": {
      "text/plain": [
       "[['Lorem',\n",
       "  'ipsum',\n",
       "  'dolor',\n",
       "  'sit',\n",
       "  'amet',\n",
       "  'consectetur',\n",
       "  'adipisicing',\n",
       "  'elit',\n",
       "  '.'],\n",
       " ['Blanditiis',\n",
       "  'dicta',\n",
       "  'velit',\n",
       "  ',',\n",
       "  'laudantium',\n",
       "  'eum',\n",
       "  'tempora',\n",
       "  'architecto',\n",
       "  'repudiandae',\n",
       "  'iste',\n",
       "  'id',\n",
       "  'quia',\n",
       "  'culpa',\n",
       "  '.'],\n",
       " ['Possimus',\n",
       "  'cupiditate',\n",
       "  'inventore',\n",
       "  'debitis',\n",
       "  'exercitationem',\n",
       "  'quos',\n",
       "  'dolorum',\n",
       "  'reiciendis',\n",
       "  'atque',\n",
       "  'earum',\n",
       "  'maxime',\n",
       "  'nostrum',\n",
       "  ',',\n",
       "  'nulla',\n",
       "  'repudiandae',\n",
       "  'ducimus',\n",
       "  'deleniti',\n",
       "  'eligendi',\n",
       "  '?'],\n",
       " ['Voluptatum', ',', 'doloremque', 'ex', '?']]"
      ]
     },
     "execution_count": 37,
     "metadata": {},
     "output_type": "execute_result"
    }
   ],
   "source": [
    "wrds=[]\n",
    "for sent in sents:\n",
    "    wrds.append(word_tokenize(sent))\n",
    "wrds\n",
    "#4 sentences are formed"
   ]
  },
  {
   "cell_type": "code",
   "execution_count": null,
   "id": "f8b695d1",
   "metadata": {},
   "outputs": [],
   "source": []
  }
 ],
 "metadata": {
  "kernelspec": {
   "display_name": "Python 3 (ipykernel)",
   "language": "python",
   "name": "python3"
  },
  "language_info": {
   "codemirror_mode": {
    "name": "ipython",
    "version": 3
   },
   "file_extension": ".py",
   "mimetype": "text/x-python",
   "name": "python",
   "nbconvert_exporter": "python",
   "pygments_lexer": "ipython3",
   "version": "3.11.4"
  }
 },
 "nbformat": 4,
 "nbformat_minor": 5
}
